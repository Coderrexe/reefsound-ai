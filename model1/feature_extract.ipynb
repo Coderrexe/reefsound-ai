{
 "cells": [
  {
   "cell_type": "markdown",
   "metadata": {
    "colab_type": "text",
    "id": "view-in-github"
   },
   "source": [
    "<a href=\"https://colab.research.google.com/github/BenUCL/Reef-acoustics-and-AI/blob/main/Code/Feature_extraction_with_pretrained_CNN.ipynb\" target=\"_parent\"><img src=\"https://colab.research.google.com/assets/colab-badge.svg\" alt=\"Open In Colab\"/></a>"
   ]
  },
  {
   "cell_type": "markdown",
   "metadata": {
    "id": "6tVOpdoEWvIm"
   },
   "source": [
    "Connect your Google drive so you can access uploaded data:"
   ]
  },
  {
   "cell_type": "markdown",
   "metadata": {
    "id": "HxOC8AVIjqX9"
   },
   "source": [
    "Download the pretrained CNN (VGGish) and required packages. The smoke test code block should return 'Looks good to me!' right at the bottom."
   ]
  },
  {
   "cell_type": "code",
   "execution_count": 8,
   "metadata": {
    "id": "U2_bp4GkGooO"
   },
   "outputs": [],
   "source": [
    "### Change patsh if you structure folders\n",
    "\n",
    "# Path to the location where your audio file are stored:\n",
    "audio_dir = \"../../data/HD_audio\"\n",
    "\n",
    "# Path to folder containing vggish setup files and 'AudiosetAnalysis' downloaded from sarebs supplementary\n",
    "vggish_files = \"Audioset\"\n",
    "\n",
    "# Output folder for results:\n",
    "output_folder_1min = \"../Results\"\n"
   ]
  },
  {
   "cell_type": "code",
   "execution_count": 2,
   "metadata": {
    "colab": {
     "base_uri": "https://localhost:8080/"
    },
    "id": "YYBx0PQb9MpX",
    "outputId": "5c626fef-1ee8-41c2-a0ea-fe823d8415c7"
   },
   "outputs": [],
   "source": [
    "import os\n",
    "\n",
    "#Navigate to the folder containing setup files, including AudiosetAnalysis downloaded from sarebs supplementary\n",
    "os.chdir(vggish_files) "
   ]
  },
  {
   "cell_type": "code",
   "execution_count": 3,
   "metadata": {},
   "outputs": [
    {
     "name": "stdout",
     "output_type": "stream",
     "text": [
      "WARNING:tensorflow:From /Users/simbashi/Developer/miniforge3/envs/reefsound_tensorflow/lib/python3.8/site-packages/tensorflow/python/compat/v2_compat.py:107: disable_resource_variables (from tensorflow.python.ops.variable_scope) is deprecated and will be removed in a future version.\n",
      "Instructions for updating:\n",
      "non-resource variables are not supported in the long term\n"
     ]
    }
   ],
   "source": [
    "from datetime import datetime\n",
    "from datetime import timedelta\n",
    "import pandas as pd\n",
    "from AudiosetAnalysis_aug import AudiosetAnalysis"
   ]
  },
  {
   "cell_type": "markdown",
   "metadata": {
    "id": "LpZfG593pH0m"
   },
   "source": [
    "Set up the Audioset analysis. \n",
    "\n",
    "RUN THIS BLOCK ONCE PER SESSION, otherwise it will error"
   ]
  },
  {
   "cell_type": "code",
   "execution_count": 4,
   "metadata": {
    "colab": {
     "base_uri": "https://localhost:8080/"
    },
    "id": "vOQXpJlLAqrZ",
    "outputId": "bb5a631f-cc75-4222-c213-81b4f94fa0cd"
   },
   "outputs": [
    {
     "name": "stdout",
     "output_type": "stream",
     "text": [
      "INFO:tensorflow:Restoring parameters from vggish_model.ckpt\n"
     ]
    },
    {
     "name": "stderr",
     "output_type": "stream",
     "text": [
      "2023-11-29 10:04:39.036971: I metal_plugin/src/device/metal_device.cc:1154] Metal device set to: Apple M1\n",
      "2023-11-29 10:04:39.036997: I metal_plugin/src/device/metal_device.cc:296] systemMemory: 16.00 GB\n",
      "2023-11-29 10:04:39.037007: I metal_plugin/src/device/metal_device.cc:313] maxCacheSize: 5.33 GB\n",
      "2023-11-29 10:04:39.037072: I tensorflow/core/common_runtime/pluggable_device/pluggable_device_factory.cc:303] Could not identify NUMA node of platform GPU ID 0, defaulting to 0. Your kernel may not have been built with NUMA support.\n",
      "2023-11-29 10:04:39.037109: I tensorflow/core/common_runtime/pluggable_device/pluggable_device_factory.cc:269] Created TensorFlow device (/job:localhost/replica:0/task:0/device:GPU:0 with 0 MB memory) -> physical PluggableDevice (device: 0, name: METAL, pci bus id: <undefined>)\n",
      "/Users/simbashi/Developer/miniforge3/envs/reefsound_tensorflow/lib/python3.8/site-packages/tensorflow/python/keras/engine/base_layer_v1.py:1697: UserWarning: `layer.apply` is deprecated and will be removed in a future version. Please use `layer.__call__` method instead.\n",
      "  warnings.warn('`layer.apply` is deprecated and '\n",
      "/Users/simbashi/Developer/miniforge3/envs/reefsound_tensorflow/lib/python3.8/site-packages/tensorflow/python/keras/legacy_tf_layers/core.py:325: UserWarning: `tf.layers.flatten` is deprecated and will be removed in a future version. Please use `tf.keras.layers.Flatten` instead.\n",
      "  warnings.warn('`tf.layers.flatten` is deprecated and '\n",
      "2023-11-29 10:04:39.161687: I tensorflow/compiler/mlir/mlir_graph_optimization_pass.cc:375] MLIR V1 optimization pass is not enabled\n",
      "2023-11-29 10:04:39.165972: I tensorflow/core/grappler/optimizers/custom_graph_optimizer_registry.cc:114] Plugin optimizer for device_type GPU is enabled.\n"
     ]
    }
   ],
   "source": [
    "an = AudiosetAnalysis()\n",
    "an.setup()"
   ]
  },
  {
   "cell_type": "markdown",
   "metadata": {
    "id": "TixDaxWppzp4"
   },
   "source": [
    "This code block extracts pretrained CNN (VGGish) features from each example audio file in your GDrive and saves a timestamped CSV to your results folder in the GDrive."
   ]
  },
  {
   "cell_type": "code",
   "execution_count": 9,
   "metadata": {
    "colab": {
     "base_uri": "https://localhost:8080/"
    },
    "id": "y9hghVDYkrs6",
    "outputId": "a265049f-8c3c-4354-a474-23887494915d"
   },
   "outputs": [
    {
     "name": "stdout",
     "output_type": "stream",
     "text": [
      "SaF1.1733D.1677983769.180827.2.16.wav\n",
      "AudiosetAnalysis: Calculating log mel spectrogram for ../../data/HD_audio/SaF1.1733D.1677983769.180827.2.16.wav\n",
      "SaN11.0940D.1678278701.180906.5.59.wav\n",
      "AudiosetAnalysis: Calculating log mel spectrogram for ../../data/HD_audio/SaN11.0940D.1678278701.180906.5.59.wav\n",
      "BoF4.2333H.1677983769.180830.5.54.wav\n",
      "AudiosetAnalysis: Calculating log mel spectrogram for ../../data/HD_audio/BoF4.2333H.1677983769.180830.5.54.wav\n",
      "BoF3.1205D.805322778.180829.2.9.wav\n",
      "AudiosetAnalysis: Calculating log mel spectrogram for ../../data/HD_audio/BoF3.1205D.805322778.180829.2.9.wav\n",
      "SaF1.2333D.1677983769.180827.2.15.wav\n",
      "AudiosetAnalysis: Calculating log mel spectrogram for ../../data/HD_audio/SaF1.2333D.1677983769.180827.2.15.wav\n",
      "BoF5.0532H.1677983769.180831.3.37.wav\n",
      "AudiosetAnalysis: Calculating log mel spectrogram for ../../data/HD_audio/BoF5.0532H.1677983769.180831.3.37.wav\n",
      "BoN11.1200D.1678278701.180906.5.20.wav\n",
      "AudiosetAnalysis: Calculating log mel spectrogram for ../../data/HD_audio/BoN11.1200D.1678278701.180906.5.20.wav\n",
      "BoF2.0930D.1678278701.180828.5.58.wav\n",
      "AudiosetAnalysis: Calculating log mel spectrogram for ../../data/HD_audio/BoF2.0930D.1678278701.180828.5.58.wav\n",
      "BaN11.1731H.805322778.180906.2.17.wav\n",
      "AudiosetAnalysis: Calculating log mel spectrogram for ../../data/HD_audio/BaN11.1731H.805322778.180906.2.17.wav\n",
      "SaF5.1125D.1677983769.180831.1.1.wav\n",
      "AudiosetAnalysis: Calculating log mel spectrogram for ../../data/HD_audio/SaF5.1125D.1677983769.180831.1.1.wav\n",
      "SaF3.2333D.805322778.180829.2.34.wav\n",
      "AudiosetAnalysis: Calculating log mel spectrogram for ../../data/HD_audio/SaF3.2333D.805322778.180829.2.34.wav\n",
      "SaF4.0533D.805322778.180830.3.34.wav\n",
      "AudiosetAnalysis: Calculating log mel spectrogram for ../../data/HD_audio/SaF4.0533D.805322778.180830.3.34.wav\n",
      "BoN10.1731H.1678278701.180905.1.5.wav\n",
      "AudiosetAnalysis: Calculating log mel spectrogram for ../../data/HD_audio/BoN10.1731H.1678278701.180905.1.5.wav\n",
      "BaF5.1732H.671907872.180831.5.52.wav\n",
      "AudiosetAnalysis: Calculating log mel spectrogram for ../../data/HD_audio/BaF5.1732H.671907872.180831.5.52.wav\n",
      "SaF3.1733D.805322778.180829.5.59.wav\n",
      "AudiosetAnalysis: Calculating log mel spectrogram for ../../data/HD_audio/SaF3.1733D.805322778.180829.5.59.wav\n",
      "BoN11.0529H.1678278701.180906.4.28.wav\n",
      "AudiosetAnalysis: Calculating log mel spectrogram for ../../data/HD_audio/BoN11.0529H.1678278701.180906.4.28.wav\n",
      "BoF4.1733H.1677983769.180830.1.7.wav\n",
      "AudiosetAnalysis: Calculating log mel spectrogram for ../../data/HD_audio/BoF4.1733H.1677983769.180830.1.7.wav\n",
      "BoN10.2359D.805322778.180905.3.42.wav\n",
      "AudiosetAnalysis: Calculating log mel spectrogram for ../../data/HD_audio/BoN10.2359D.805322778.180905.3.42.wav\n",
      "BoF1.1315D.1677983769.180827.3.42.wav\n",
      "AudiosetAnalysis: Calculating log mel spectrogram for ../../data/HD_audio/BoF1.1315D.1677983769.180827.3.42.wav\n",
      "BoF4.2333D.671907872.180830.3.32.wav\n",
      "AudiosetAnalysis: Calculating log mel spectrogram for ../../data/HD_audio/BoF4.2333D.671907872.180830.3.32.wav\n",
      "BaF2.2333H.1677983769.180828.1.15.wav\n",
      "AudiosetAnalysis: Calculating log mel spectrogram for ../../data/HD_audio/BaF2.2333H.1677983769.180828.1.15.wav\n",
      "BoF1.1328H.1678278701.180827.1.3.wav\n",
      "AudiosetAnalysis: Calculating log mel spectrogram for ../../data/HD_audio/BoF1.1328H.1678278701.180827.1.3.wav\n",
      "SaF3.2333D.805322778.180829.4.44.wav\n",
      "AudiosetAnalysis: Calculating log mel spectrogram for ../../data/HD_audio/SaF3.2333D.805322778.180829.4.44.wav\n",
      "BoF5.0940D.1677983769.180831.1.1.wav\n",
      "AudiosetAnalysis: Calculating log mel spectrogram for ../../data/HD_audio/BoF5.0940D.1677983769.180831.1.1.wav\n",
      "BaF3.0533H.1677983769.180829.4.53.wav\n",
      "AudiosetAnalysis: Calculating log mel spectrogram for ../../data/HD_audio/BaF3.0533H.1677983769.180829.4.53.wav\n",
      "SaF3.1733D.805322778.180829.1.17.wav\n",
      "AudiosetAnalysis: Calculating log mel spectrogram for ../../data/HD_audio/SaF3.1733D.805322778.180829.1.17.wav\n",
      "SaF2.0534D.1677983769.180828.2.21.wav\n",
      "AudiosetAnalysis: Calculating log mel spectrogram for ../../data/HD_audio/SaF2.0534D.1677983769.180828.2.21.wav\n",
      "BoF2.0930H.805322778.180828.5.53.wav\n",
      "AudiosetAnalysis: Calculating log mel spectrogram for ../../data/HD_audio/BoF2.0930H.805322778.180828.5.53.wav\n",
      "BoF3.1205H.1678278701.180829.2.24.wav\n",
      "AudiosetAnalysis: Calculating log mel spectrogram for ../../data/HD_audio/BoF3.1205H.1678278701.180829.2.24.wav\n",
      "SaF2.1203D.1678278701.180828.3.33.wav\n",
      "AudiosetAnalysis: Calculating log mel spectrogram for ../../data/HD_audio/SaF2.1203D.1678278701.180828.3.33.wav\n",
      "BaF5.1330H.671907872.180831.3.18.wav\n",
      "AudiosetAnalysis: Calculating log mel spectrogram for ../../data/HD_audio/BaF5.1330H.671907872.180831.3.18.wav\n",
      "BoN11.1200D.1678278701.180906.4.15.wav\n",
      "AudiosetAnalysis: Calculating log mel spectrogram for ../../data/HD_audio/BoN11.1200D.1678278701.180906.4.15.wav\n",
      "BaF5.2332H.671907872.180831.3.35.wav\n",
      "AudiosetAnalysis: Calculating log mel spectrogram for ../../data/HD_audio/BaF5.2332H.671907872.180831.3.35.wav\n",
      "BoF3.1205H.1678278701.180829.4.46.wav\n",
      "AudiosetAnalysis: Calculating log mel spectrogram for ../../data/HD_audio/BoF3.1205H.1678278701.180829.4.46.wav\n",
      "BoF5.0940H.671907872.180831.3.36.wav\n",
      "AudiosetAnalysis: Calculating log mel spectrogram for ../../data/HD_audio/BoF5.0940H.671907872.180831.3.36.wav\n",
      "BaF2.1733H.1677983769.180828.2.21.wav\n",
      "AudiosetAnalysis: Calculating log mel spectrogram for ../../data/HD_audio/BaF2.1733H.1677983769.180828.2.21.wav\n",
      "SaF1.1733D.1677983769.180827.3.23.wav\n",
      "AudiosetAnalysis: Calculating log mel spectrogram for ../../data/HD_audio/SaF1.1733D.1677983769.180827.3.23.wav\n",
      "BoF2.0930D.1678278701.180828.2.27.wav\n",
      "AudiosetAnalysis: Calculating log mel spectrogram for ../../data/HD_audio/BoF2.0930D.1678278701.180828.2.27.wav\n",
      "BaF3.0915H.1678278701.180829.1.20.wav\n",
      "AudiosetAnalysis: Calculating log mel spectrogram for ../../data/HD_audio/BaF3.0915H.1678278701.180829.1.20.wav\n",
      "SaF2.0534D.1677983769.180828.1.7.wav\n",
      "AudiosetAnalysis: Calculating log mel spectrogram for ../../data/HD_audio/SaF2.0534D.1677983769.180828.1.7.wav\n",
      "BoN11.0529D.805322778.180906.5.50.wav\n",
      "AudiosetAnalysis: Calculating log mel spectrogram for ../../data/HD_audio/BoN11.0529D.805322778.180906.5.50.wav\n",
      "BoN12.1220H.805322778.180907.3.10.wav\n",
      "AudiosetAnalysis: Calculating log mel spectrogram for ../../data/HD_audio/BoN12.1220H.805322778.180907.3.10.wav\n",
      "BaN11.2330H.805322778.180906.5.50.wav\n",
      "AudiosetAnalysis: Calculating log mel spectrogram for ../../data/HD_audio/BaN11.2330H.805322778.180906.5.50.wav\n"
     ]
    },
    {
     "name": "stderr",
     "output_type": "stream",
     "text": [
      "/var/folders/yz/_wj_p5r56c7ggl53_9wppwl80000gn/T/ipykernel_55832/1027907342.py:47: PerformanceWarning: DataFrame is highly fragmented.  This is usually the result of calling `frame.insert` many times, which has poor performance.  Consider joining all columns at once using pd.concat(axis=1) instead. To get a de-fragmented frame, use `newframe = frame.copy()`\n",
      "  results_df_1min[result_name] = pd.Series(results['raw_audioset_feats_59520ms'][count])\n"
     ]
    },
    {
     "name": "stdout",
     "output_type": "stream",
     "text": [
      "BaF5.2332H.671907872.180831.4.39.wav\n",
      "AudiosetAnalysis: Calculating log mel spectrogram for ../../data/HD_audio/BaF5.2332H.671907872.180831.4.39.wav\n"
     ]
    },
    {
     "name": "stderr",
     "output_type": "stream",
     "text": [
      "/var/folders/yz/_wj_p5r56c7ggl53_9wppwl80000gn/T/ipykernel_55832/1027907342.py:47: PerformanceWarning: DataFrame is highly fragmented.  This is usually the result of calling `frame.insert` many times, which has poor performance.  Consider joining all columns at once using pd.concat(axis=1) instead. To get a de-fragmented frame, use `newframe = frame.copy()`\n",
      "  results_df_1min[result_name] = pd.Series(results['raw_audioset_feats_59520ms'][count])\n",
      "/var/folders/yz/_wj_p5r56c7ggl53_9wppwl80000gn/T/ipykernel_55832/1027907342.py:47: PerformanceWarning: DataFrame is highly fragmented.  This is usually the result of calling `frame.insert` many times, which has poor performance.  Consider joining all columns at once using pd.concat(axis=1) instead. To get a de-fragmented frame, use `newframe = frame.copy()`\n",
      "  results_df_1min[result_name] = pd.Series(results['raw_audioset_feats_59520ms'][count])\n",
      "/var/folders/yz/_wj_p5r56c7ggl53_9wppwl80000gn/T/ipykernel_55832/1027907342.py:47: PerformanceWarning: DataFrame is highly fragmented.  This is usually the result of calling `frame.insert` many times, which has poor performance.  Consider joining all columns at once using pd.concat(axis=1) instead. To get a de-fragmented frame, use `newframe = frame.copy()`\n",
      "  results_df_1min[result_name] = pd.Series(results['raw_audioset_feats_59520ms'][count])\n"
     ]
    },
    {
     "name": "stdout",
     "output_type": "stream",
     "text": [
      "BoF2.0930D.1678278701.180828.4.56.wav\n",
      "AudiosetAnalysis: Calculating log mel spectrogram for ../../data/HD_audio/BoF2.0930D.1678278701.180828.4.56.wav\n"
     ]
    },
    {
     "name": "stderr",
     "output_type": "stream",
     "text": [
      "/var/folders/yz/_wj_p5r56c7ggl53_9wppwl80000gn/T/ipykernel_55832/1027907342.py:47: PerformanceWarning: DataFrame is highly fragmented.  This is usually the result of calling `frame.insert` many times, which has poor performance.  Consider joining all columns at once using pd.concat(axis=1) instead. To get a de-fragmented frame, use `newframe = frame.copy()`\n",
      "  results_df_1min[result_name] = pd.Series(results['raw_audioset_feats_59520ms'][count])\n",
      "/var/folders/yz/_wj_p5r56c7ggl53_9wppwl80000gn/T/ipykernel_55832/1027907342.py:47: PerformanceWarning: DataFrame is highly fragmented.  This is usually the result of calling `frame.insert` many times, which has poor performance.  Consider joining all columns at once using pd.concat(axis=1) instead. To get a de-fragmented frame, use `newframe = frame.copy()`\n",
      "  results_df_1min[result_name] = pd.Series(results['raw_audioset_feats_59520ms'][count])\n"
     ]
    },
    {
     "name": "stdout",
     "output_type": "stream",
     "text": [
      "SaN11.0940D.1678278701.180906.4.40.wav\n",
      "AudiosetAnalysis: Calculating log mel spectrogram for ../../data/HD_audio/SaN11.0940D.1678278701.180906.4.40.wav\n"
     ]
    },
    {
     "name": "stderr",
     "output_type": "stream",
     "text": [
      "/var/folders/yz/_wj_p5r56c7ggl53_9wppwl80000gn/T/ipykernel_55832/1027907342.py:47: PerformanceWarning: DataFrame is highly fragmented.  This is usually the result of calling `frame.insert` many times, which has poor performance.  Consider joining all columns at once using pd.concat(axis=1) instead. To get a de-fragmented frame, use `newframe = frame.copy()`\n",
      "  results_df_1min[result_name] = pd.Series(results['raw_audioset_feats_59520ms'][count])\n",
      "/var/folders/yz/_wj_p5r56c7ggl53_9wppwl80000gn/T/ipykernel_55832/1027907342.py:47: PerformanceWarning: DataFrame is highly fragmented.  This is usually the result of calling `frame.insert` many times, which has poor performance.  Consider joining all columns at once using pd.concat(axis=1) instead. To get a de-fragmented frame, use `newframe = frame.copy()`\n",
      "  results_df_1min[result_name] = pd.Series(results['raw_audioset_feats_59520ms'][count])\n"
     ]
    },
    {
     "name": "stdout",
     "output_type": "stream",
     "text": [
      "BaN11.1731H.805322778.180906.3.24.wav\n",
      "AudiosetAnalysis: Calculating log mel spectrogram for ../../data/HD_audio/BaN11.1731H.805322778.180906.3.24.wav\n"
     ]
    },
    {
     "name": "stderr",
     "output_type": "stream",
     "text": [
      "/var/folders/yz/_wj_p5r56c7ggl53_9wppwl80000gn/T/ipykernel_55832/1027907342.py:47: PerformanceWarning: DataFrame is highly fragmented.  This is usually the result of calling `frame.insert` many times, which has poor performance.  Consider joining all columns at once using pd.concat(axis=1) instead. To get a de-fragmented frame, use `newframe = frame.copy()`\n",
      "  results_df_1min[result_name] = pd.Series(results['raw_audioset_feats_59520ms'][count])\n",
      "/var/folders/yz/_wj_p5r56c7ggl53_9wppwl80000gn/T/ipykernel_55832/1027907342.py:47: PerformanceWarning: DataFrame is highly fragmented.  This is usually the result of calling `frame.insert` many times, which has poor performance.  Consider joining all columns at once using pd.concat(axis=1) instead. To get a de-fragmented frame, use `newframe = frame.copy()`\n",
      "  results_df_1min[result_name] = pd.Series(results['raw_audioset_feats_59520ms'][count])\n",
      "/var/folders/yz/_wj_p5r56c7ggl53_9wppwl80000gn/T/ipykernel_55832/1027907342.py:47: PerformanceWarning: DataFrame is highly fragmented.  This is usually the result of calling `frame.insert` many times, which has poor performance.  Consider joining all columns at once using pd.concat(axis=1) instead. To get a de-fragmented frame, use `newframe = frame.copy()`\n",
      "  results_df_1min[result_name] = pd.Series(results['raw_audioset_feats_59520ms'][count])\n"
     ]
    },
    {
     "name": "stdout",
     "output_type": "stream",
     "text": [
      "BoF4.2333H.1677983769.180830.2.38.wav\n",
      "AudiosetAnalysis: Calculating log mel spectrogram for ../../data/HD_audio/BoF4.2333H.1677983769.180830.2.38.wav\n"
     ]
    },
    {
     "name": "stderr",
     "output_type": "stream",
     "text": [
      "/var/folders/yz/_wj_p5r56c7ggl53_9wppwl80000gn/T/ipykernel_55832/1027907342.py:47: PerformanceWarning: DataFrame is highly fragmented.  This is usually the result of calling `frame.insert` many times, which has poor performance.  Consider joining all columns at once using pd.concat(axis=1) instead. To get a de-fragmented frame, use `newframe = frame.copy()`\n",
      "  results_df_1min[result_name] = pd.Series(results['raw_audioset_feats_59520ms'][count])\n",
      "/var/folders/yz/_wj_p5r56c7ggl53_9wppwl80000gn/T/ipykernel_55832/1027907342.py:47: PerformanceWarning: DataFrame is highly fragmented.  This is usually the result of calling `frame.insert` many times, which has poor performance.  Consider joining all columns at once using pd.concat(axis=1) instead. To get a de-fragmented frame, use `newframe = frame.copy()`\n",
      "  results_df_1min[result_name] = pd.Series(results['raw_audioset_feats_59520ms'][count])\n",
      "/var/folders/yz/_wj_p5r56c7ggl53_9wppwl80000gn/T/ipykernel_55832/1027907342.py:47: PerformanceWarning: DataFrame is highly fragmented.  This is usually the result of calling `frame.insert` many times, which has poor performance.  Consider joining all columns at once using pd.concat(axis=1) instead. To get a de-fragmented frame, use `newframe = frame.copy()`\n",
      "  results_df_1min[result_name] = pd.Series(results['raw_audioset_feats_59520ms'][count])\n"
     ]
    },
    {
     "name": "stdout",
     "output_type": "stream",
     "text": [
      "SaF3.1733D.805322778.180829.2.26.wav\n",
      "AudiosetAnalysis: Calculating log mel spectrogram for ../../data/HD_audio/SaF3.1733D.805322778.180829.2.26.wav\n"
     ]
    },
    {
     "name": "stderr",
     "output_type": "stream",
     "text": [
      "/var/folders/yz/_wj_p5r56c7ggl53_9wppwl80000gn/T/ipykernel_55832/1027907342.py:47: PerformanceWarning: DataFrame is highly fragmented.  This is usually the result of calling `frame.insert` many times, which has poor performance.  Consider joining all columns at once using pd.concat(axis=1) instead. To get a de-fragmented frame, use `newframe = frame.copy()`\n",
      "  results_df_1min[result_name] = pd.Series(results['raw_audioset_feats_59520ms'][count])\n",
      "/var/folders/yz/_wj_p5r56c7ggl53_9wppwl80000gn/T/ipykernel_55832/1027907342.py:47: PerformanceWarning: DataFrame is highly fragmented.  This is usually the result of calling `frame.insert` many times, which has poor performance.  Consider joining all columns at once using pd.concat(axis=1) instead. To get a de-fragmented frame, use `newframe = frame.copy()`\n",
      "  results_df_1min[result_name] = pd.Series(results['raw_audioset_feats_59520ms'][count])\n",
      "/var/folders/yz/_wj_p5r56c7ggl53_9wppwl80000gn/T/ipykernel_55832/1027907342.py:47: PerformanceWarning: DataFrame is highly fragmented.  This is usually the result of calling `frame.insert` many times, which has poor performance.  Consider joining all columns at once using pd.concat(axis=1) instead. To get a de-fragmented frame, use `newframe = frame.copy()`\n",
      "  results_df_1min[result_name] = pd.Series(results['raw_audioset_feats_59520ms'][count])\n"
     ]
    },
    {
     "name": "stdout",
     "output_type": "stream",
     "text": [
      "SaF1.2333D.1677983769.180827.3.30.wav\n",
      "AudiosetAnalysis: Calculating log mel spectrogram for ../../data/HD_audio/SaF1.2333D.1677983769.180827.3.30.wav\n"
     ]
    },
    {
     "name": "stderr",
     "output_type": "stream",
     "text": [
      "/var/folders/yz/_wj_p5r56c7ggl53_9wppwl80000gn/T/ipykernel_55832/1027907342.py:47: PerformanceWarning: DataFrame is highly fragmented.  This is usually the result of calling `frame.insert` many times, which has poor performance.  Consider joining all columns at once using pd.concat(axis=1) instead. To get a de-fragmented frame, use `newframe = frame.copy()`\n",
      "  results_df_1min[result_name] = pd.Series(results['raw_audioset_feats_59520ms'][count])\n",
      "/var/folders/yz/_wj_p5r56c7ggl53_9wppwl80000gn/T/ipykernel_55832/1027907342.py:47: PerformanceWarning: DataFrame is highly fragmented.  This is usually the result of calling `frame.insert` many times, which has poor performance.  Consider joining all columns at once using pd.concat(axis=1) instead. To get a de-fragmented frame, use `newframe = frame.copy()`\n",
      "  results_df_1min[result_name] = pd.Series(results['raw_audioset_feats_59520ms'][count])\n",
      "/var/folders/yz/_wj_p5r56c7ggl53_9wppwl80000gn/T/ipykernel_55832/1027907342.py:47: PerformanceWarning: DataFrame is highly fragmented.  This is usually the result of calling `frame.insert` many times, which has poor performance.  Consider joining all columns at once using pd.concat(axis=1) instead. To get a de-fragmented frame, use `newframe = frame.copy()`\n",
      "  results_df_1min[result_name] = pd.Series(results['raw_audioset_feats_59520ms'][count])\n"
     ]
    },
    {
     "name": "stdout",
     "output_type": "stream",
     "text": [
      "BaF4.1040H.1677983769.180830.1.13.wav\n",
      "AudiosetAnalysis: Calculating log mel spectrogram for ../../data/HD_audio/BaF4.1040H.1677983769.180830.1.13.wav\n"
     ]
    },
    {
     "name": "stderr",
     "output_type": "stream",
     "text": [
      "/var/folders/yz/_wj_p5r56c7ggl53_9wppwl80000gn/T/ipykernel_55832/1027907342.py:47: PerformanceWarning: DataFrame is highly fragmented.  This is usually the result of calling `frame.insert` many times, which has poor performance.  Consider joining all columns at once using pd.concat(axis=1) instead. To get a de-fragmented frame, use `newframe = frame.copy()`\n",
      "  results_df_1min[result_name] = pd.Series(results['raw_audioset_feats_59520ms'][count])\n",
      "/var/folders/yz/_wj_p5r56c7ggl53_9wppwl80000gn/T/ipykernel_55832/1027907342.py:47: PerformanceWarning: DataFrame is highly fragmented.  This is usually the result of calling `frame.insert` many times, which has poor performance.  Consider joining all columns at once using pd.concat(axis=1) instead. To get a de-fragmented frame, use `newframe = frame.copy()`\n",
      "  results_df_1min[result_name] = pd.Series(results['raw_audioset_feats_59520ms'][count])\n",
      "/var/folders/yz/_wj_p5r56c7ggl53_9wppwl80000gn/T/ipykernel_55832/1027907342.py:47: PerformanceWarning: DataFrame is highly fragmented.  This is usually the result of calling `frame.insert` many times, which has poor performance.  Consider joining all columns at once using pd.concat(axis=1) instead. To get a de-fragmented frame, use `newframe = frame.copy()`\n",
      "  results_df_1min[result_name] = pd.Series(results['raw_audioset_feats_59520ms'][count])\n"
     ]
    },
    {
     "name": "stdout",
     "output_type": "stream",
     "text": [
      "BoF4.1300H.1677983769.180830.2.39.wav\n",
      "AudiosetAnalysis: Calculating log mel spectrogram for ../../data/HD_audio/BoF4.1300H.1677983769.180830.2.39.wav\n"
     ]
    },
    {
     "name": "stderr",
     "output_type": "stream",
     "text": [
      "/var/folders/yz/_wj_p5r56c7ggl53_9wppwl80000gn/T/ipykernel_55832/1027907342.py:47: PerformanceWarning: DataFrame is highly fragmented.  This is usually the result of calling `frame.insert` many times, which has poor performance.  Consider joining all columns at once using pd.concat(axis=1) instead. To get a de-fragmented frame, use `newframe = frame.copy()`\n",
      "  results_df_1min[result_name] = pd.Series(results['raw_audioset_feats_59520ms'][count])\n",
      "/var/folders/yz/_wj_p5r56c7ggl53_9wppwl80000gn/T/ipykernel_55832/1027907342.py:47: PerformanceWarning: DataFrame is highly fragmented.  This is usually the result of calling `frame.insert` many times, which has poor performance.  Consider joining all columns at once using pd.concat(axis=1) instead. To get a de-fragmented frame, use `newframe = frame.copy()`\n",
      "  results_df_1min[result_name] = pd.Series(results['raw_audioset_feats_59520ms'][count])\n",
      "/var/folders/yz/_wj_p5r56c7ggl53_9wppwl80000gn/T/ipykernel_55832/1027907342.py:47: PerformanceWarning: DataFrame is highly fragmented.  This is usually the result of calling `frame.insert` many times, which has poor performance.  Consider joining all columns at once using pd.concat(axis=1) instead. To get a de-fragmented frame, use `newframe = frame.copy()`\n",
      "  results_df_1min[result_name] = pd.Series(results['raw_audioset_feats_59520ms'][count])\n"
     ]
    },
    {
     "name": "stdout",
     "output_type": "stream",
     "text": [
      "BoN12.1220H.805322778.180907.4.36.wav\n",
      "AudiosetAnalysis: Calculating log mel spectrogram for ../../data/HD_audio/BoN12.1220H.805322778.180907.4.36.wav\n"
     ]
    },
    {
     "name": "stderr",
     "output_type": "stream",
     "text": [
      "/var/folders/yz/_wj_p5r56c7ggl53_9wppwl80000gn/T/ipykernel_55832/1027907342.py:47: PerformanceWarning: DataFrame is highly fragmented.  This is usually the result of calling `frame.insert` many times, which has poor performance.  Consider joining all columns at once using pd.concat(axis=1) instead. To get a de-fragmented frame, use `newframe = frame.copy()`\n",
      "  results_df_1min[result_name] = pd.Series(results['raw_audioset_feats_59520ms'][count])\n",
      "/var/folders/yz/_wj_p5r56c7ggl53_9wppwl80000gn/T/ipykernel_55832/1027907342.py:47: PerformanceWarning: DataFrame is highly fragmented.  This is usually the result of calling `frame.insert` many times, which has poor performance.  Consider joining all columns at once using pd.concat(axis=1) instead. To get a de-fragmented frame, use `newframe = frame.copy()`\n",
      "  results_df_1min[result_name] = pd.Series(results['raw_audioset_feats_59520ms'][count])\n",
      "/var/folders/yz/_wj_p5r56c7ggl53_9wppwl80000gn/T/ipykernel_55832/1027907342.py:47: PerformanceWarning: DataFrame is highly fragmented.  This is usually the result of calling `frame.insert` many times, which has poor performance.  Consider joining all columns at once using pd.concat(axis=1) instead. To get a de-fragmented frame, use `newframe = frame.copy()`\n",
      "  results_df_1min[result_name] = pd.Series(results['raw_audioset_feats_59520ms'][count])\n"
     ]
    },
    {
     "name": "stdout",
     "output_type": "stream",
     "text": [
      "BaN12.0529H.805322778.180907.1.24.wav\n",
      "AudiosetAnalysis: Calculating log mel spectrogram for ../../data/HD_audio/BaN12.0529H.805322778.180907.1.24.wav\n"
     ]
    },
    {
     "name": "stderr",
     "output_type": "stream",
     "text": [
      "/var/folders/yz/_wj_p5r56c7ggl53_9wppwl80000gn/T/ipykernel_55832/1027907342.py:47: PerformanceWarning: DataFrame is highly fragmented.  This is usually the result of calling `frame.insert` many times, which has poor performance.  Consider joining all columns at once using pd.concat(axis=1) instead. To get a de-fragmented frame, use `newframe = frame.copy()`\n",
      "  results_df_1min[result_name] = pd.Series(results['raw_audioset_feats_59520ms'][count])\n",
      "/var/folders/yz/_wj_p5r56c7ggl53_9wppwl80000gn/T/ipykernel_55832/1027907342.py:47: PerformanceWarning: DataFrame is highly fragmented.  This is usually the result of calling `frame.insert` many times, which has poor performance.  Consider joining all columns at once using pd.concat(axis=1) instead. To get a de-fragmented frame, use `newframe = frame.copy()`\n",
      "  results_df_1min[result_name] = pd.Series(results['raw_audioset_feats_59520ms'][count])\n",
      "/var/folders/yz/_wj_p5r56c7ggl53_9wppwl80000gn/T/ipykernel_55832/1027907342.py:47: PerformanceWarning: DataFrame is highly fragmented.  This is usually the result of calling `frame.insert` many times, which has poor performance.  Consider joining all columns at once using pd.concat(axis=1) instead. To get a de-fragmented frame, use `newframe = frame.copy()`\n",
      "  results_df_1min[result_name] = pd.Series(results['raw_audioset_feats_59520ms'][count])\n"
     ]
    },
    {
     "name": "stdout",
     "output_type": "stream",
     "text": [
      "BaF3.0533H.1677983769.180829.5.59.wav\n",
      "AudiosetAnalysis: Calculating log mel spectrogram for ../../data/HD_audio/BaF3.0533H.1677983769.180829.5.59.wav\n"
     ]
    },
    {
     "name": "stderr",
     "output_type": "stream",
     "text": [
      "/var/folders/yz/_wj_p5r56c7ggl53_9wppwl80000gn/T/ipykernel_55832/1027907342.py:47: PerformanceWarning: DataFrame is highly fragmented.  This is usually the result of calling `frame.insert` many times, which has poor performance.  Consider joining all columns at once using pd.concat(axis=1) instead. To get a de-fragmented frame, use `newframe = frame.copy()`\n",
      "  results_df_1min[result_name] = pd.Series(results['raw_audioset_feats_59520ms'][count])\n",
      "/var/folders/yz/_wj_p5r56c7ggl53_9wppwl80000gn/T/ipykernel_55832/1027907342.py:47: PerformanceWarning: DataFrame is highly fragmented.  This is usually the result of calling `frame.insert` many times, which has poor performance.  Consider joining all columns at once using pd.concat(axis=1) instead. To get a de-fragmented frame, use `newframe = frame.copy()`\n",
      "  results_df_1min[result_name] = pd.Series(results['raw_audioset_feats_59520ms'][count])\n",
      "/var/folders/yz/_wj_p5r56c7ggl53_9wppwl80000gn/T/ipykernel_55832/1027907342.py:47: PerformanceWarning: DataFrame is highly fragmented.  This is usually the result of calling `frame.insert` many times, which has poor performance.  Consider joining all columns at once using pd.concat(axis=1) instead. To get a de-fragmented frame, use `newframe = frame.copy()`\n",
      "  results_df_1min[result_name] = pd.Series(results['raw_audioset_feats_59520ms'][count])\n"
     ]
    },
    {
     "name": "stdout",
     "output_type": "stream",
     "text": [
      "BoN11.1103D.1678278701.180906.5.52.wav\n",
      "AudiosetAnalysis: Calculating log mel spectrogram for ../../data/HD_audio/BoN11.1103D.1678278701.180906.5.52.wav\n"
     ]
    },
    {
     "name": "stderr",
     "output_type": "stream",
     "text": [
      "/var/folders/yz/_wj_p5r56c7ggl53_9wppwl80000gn/T/ipykernel_55832/1027907342.py:47: PerformanceWarning: DataFrame is highly fragmented.  This is usually the result of calling `frame.insert` many times, which has poor performance.  Consider joining all columns at once using pd.concat(axis=1) instead. To get a de-fragmented frame, use `newframe = frame.copy()`\n",
      "  results_df_1min[result_name] = pd.Series(results['raw_audioset_feats_59520ms'][count])\n",
      "/var/folders/yz/_wj_p5r56c7ggl53_9wppwl80000gn/T/ipykernel_55832/1027907342.py:47: PerformanceWarning: DataFrame is highly fragmented.  This is usually the result of calling `frame.insert` many times, which has poor performance.  Consider joining all columns at once using pd.concat(axis=1) instead. To get a de-fragmented frame, use `newframe = frame.copy()`\n",
      "  results_df_1min[result_name] = pd.Series(results['raw_audioset_feats_59520ms'][count])\n",
      "/var/folders/yz/_wj_p5r56c7ggl53_9wppwl80000gn/T/ipykernel_55832/1027907342.py:47: PerformanceWarning: DataFrame is highly fragmented.  This is usually the result of calling `frame.insert` many times, which has poor performance.  Consider joining all columns at once using pd.concat(axis=1) instead. To get a de-fragmented frame, use `newframe = frame.copy()`\n",
      "  results_df_1min[result_name] = pd.Series(results['raw_audioset_feats_59520ms'][count])\n"
     ]
    },
    {
     "name": "stdout",
     "output_type": "stream",
     "text": [
      "BoF5.0940D.1677983769.180831.2.30.wav\n",
      "AudiosetAnalysis: Calculating log mel spectrogram for ../../data/HD_audio/BoF5.0940D.1677983769.180831.2.30.wav\n"
     ]
    },
    {
     "name": "stderr",
     "output_type": "stream",
     "text": [
      "/var/folders/yz/_wj_p5r56c7ggl53_9wppwl80000gn/T/ipykernel_55832/1027907342.py:47: PerformanceWarning: DataFrame is highly fragmented.  This is usually the result of calling `frame.insert` many times, which has poor performance.  Consider joining all columns at once using pd.concat(axis=1) instead. To get a de-fragmented frame, use `newframe = frame.copy()`\n",
      "  results_df_1min[result_name] = pd.Series(results['raw_audioset_feats_59520ms'][count])\n",
      "/var/folders/yz/_wj_p5r56c7ggl53_9wppwl80000gn/T/ipykernel_55832/1027907342.py:47: PerformanceWarning: DataFrame is highly fragmented.  This is usually the result of calling `frame.insert` many times, which has poor performance.  Consider joining all columns at once using pd.concat(axis=1) instead. To get a de-fragmented frame, use `newframe = frame.copy()`\n",
      "  results_df_1min[result_name] = pd.Series(results['raw_audioset_feats_59520ms'][count])\n",
      "/var/folders/yz/_wj_p5r56c7ggl53_9wppwl80000gn/T/ipykernel_55832/1027907342.py:47: PerformanceWarning: DataFrame is highly fragmented.  This is usually the result of calling `frame.insert` many times, which has poor performance.  Consider joining all columns at once using pd.concat(axis=1) instead. To get a de-fragmented frame, use `newframe = frame.copy()`\n",
      "  results_df_1min[result_name] = pd.Series(results['raw_audioset_feats_59520ms'][count])\n"
     ]
    },
    {
     "name": "stdout",
     "output_type": "stream",
     "text": [
      "BoN10.1731H.1678278701.180905.3.29.wav\n",
      "AudiosetAnalysis: Calculating log mel spectrogram for ../../data/HD_audio/BoN10.1731H.1678278701.180905.3.29.wav\n"
     ]
    },
    {
     "name": "stderr",
     "output_type": "stream",
     "text": [
      "/var/folders/yz/_wj_p5r56c7ggl53_9wppwl80000gn/T/ipykernel_55832/1027907342.py:47: PerformanceWarning: DataFrame is highly fragmented.  This is usually the result of calling `frame.insert` many times, which has poor performance.  Consider joining all columns at once using pd.concat(axis=1) instead. To get a de-fragmented frame, use `newframe = frame.copy()`\n",
      "  results_df_1min[result_name] = pd.Series(results['raw_audioset_feats_59520ms'][count])\n",
      "/var/folders/yz/_wj_p5r56c7ggl53_9wppwl80000gn/T/ipykernel_55832/1027907342.py:47: PerformanceWarning: DataFrame is highly fragmented.  This is usually the result of calling `frame.insert` many times, which has poor performance.  Consider joining all columns at once using pd.concat(axis=1) instead. To get a de-fragmented frame, use `newframe = frame.copy()`\n",
      "  results_df_1min[result_name] = pd.Series(results['raw_audioset_feats_59520ms'][count])\n",
      "/var/folders/yz/_wj_p5r56c7ggl53_9wppwl80000gn/T/ipykernel_55832/1027907342.py:47: PerformanceWarning: DataFrame is highly fragmented.  This is usually the result of calling `frame.insert` many times, which has poor performance.  Consider joining all columns at once using pd.concat(axis=1) instead. To get a de-fragmented frame, use `newframe = frame.copy()`\n",
      "  results_df_1min[result_name] = pd.Series(results['raw_audioset_feats_59520ms'][count])\n"
     ]
    },
    {
     "name": "stdout",
     "output_type": "stream",
     "text": [
      "SaF5.1125D.1677983769.180831.5.33.wav\n",
      "AudiosetAnalysis: Calculating log mel spectrogram for ../../data/HD_audio/SaF5.1125D.1677983769.180831.5.33.wav\n"
     ]
    },
    {
     "name": "stderr",
     "output_type": "stream",
     "text": [
      "/var/folders/yz/_wj_p5r56c7ggl53_9wppwl80000gn/T/ipykernel_55832/1027907342.py:47: PerformanceWarning: DataFrame is highly fragmented.  This is usually the result of calling `frame.insert` many times, which has poor performance.  Consider joining all columns at once using pd.concat(axis=1) instead. To get a de-fragmented frame, use `newframe = frame.copy()`\n",
      "  results_df_1min[result_name] = pd.Series(results['raw_audioset_feats_59520ms'][count])\n",
      "/var/folders/yz/_wj_p5r56c7ggl53_9wppwl80000gn/T/ipykernel_55832/1027907342.py:47: PerformanceWarning: DataFrame is highly fragmented.  This is usually the result of calling `frame.insert` many times, which has poor performance.  Consider joining all columns at once using pd.concat(axis=1) instead. To get a de-fragmented frame, use `newframe = frame.copy()`\n",
      "  results_df_1min[result_name] = pd.Series(results['raw_audioset_feats_59520ms'][count])\n"
     ]
    },
    {
     "name": "stdout",
     "output_type": "stream",
     "text": [
      "BoN11.1103D.1678278701.180906.3.27.wav\n",
      "AudiosetAnalysis: Calculating log mel spectrogram for ../../data/HD_audio/BoN11.1103D.1678278701.180906.3.27.wav\n"
     ]
    },
    {
     "name": "stderr",
     "output_type": "stream",
     "text": [
      "/var/folders/yz/_wj_p5r56c7ggl53_9wppwl80000gn/T/ipykernel_55832/1027907342.py:47: PerformanceWarning: DataFrame is highly fragmented.  This is usually the result of calling `frame.insert` many times, which has poor performance.  Consider joining all columns at once using pd.concat(axis=1) instead. To get a de-fragmented frame, use `newframe = frame.copy()`\n",
      "  results_df_1min[result_name] = pd.Series(results['raw_audioset_feats_59520ms'][count])\n",
      "/var/folders/yz/_wj_p5r56c7ggl53_9wppwl80000gn/T/ipykernel_55832/1027907342.py:47: PerformanceWarning: DataFrame is highly fragmented.  This is usually the result of calling `frame.insert` many times, which has poor performance.  Consider joining all columns at once using pd.concat(axis=1) instead. To get a de-fragmented frame, use `newframe = frame.copy()`\n",
      "  results_df_1min[result_name] = pd.Series(results['raw_audioset_feats_59520ms'][count])\n",
      "/var/folders/yz/_wj_p5r56c7ggl53_9wppwl80000gn/T/ipykernel_55832/1027907342.py:47: PerformanceWarning: DataFrame is highly fragmented.  This is usually the result of calling `frame.insert` many times, which has poor performance.  Consider joining all columns at once using pd.concat(axis=1) instead. To get a de-fragmented frame, use `newframe = frame.copy()`\n",
      "  results_df_1min[result_name] = pd.Series(results['raw_audioset_feats_59520ms'][count])\n"
     ]
    },
    {
     "name": "stdout",
     "output_type": "stream",
     "text": [
      "BaF4.1040H.1677983769.180830.4.35.wav\n",
      "AudiosetAnalysis: Calculating log mel spectrogram for ../../data/HD_audio/BaF4.1040H.1677983769.180830.4.35.wav\n"
     ]
    },
    {
     "name": "stderr",
     "output_type": "stream",
     "text": [
      "/var/folders/yz/_wj_p5r56c7ggl53_9wppwl80000gn/T/ipykernel_55832/1027907342.py:47: PerformanceWarning: DataFrame is highly fragmented.  This is usually the result of calling `frame.insert` many times, which has poor performance.  Consider joining all columns at once using pd.concat(axis=1) instead. To get a de-fragmented frame, use `newframe = frame.copy()`\n",
      "  results_df_1min[result_name] = pd.Series(results['raw_audioset_feats_59520ms'][count])\n",
      "/var/folders/yz/_wj_p5r56c7ggl53_9wppwl80000gn/T/ipykernel_55832/1027907342.py:47: PerformanceWarning: DataFrame is highly fragmented.  This is usually the result of calling `frame.insert` many times, which has poor performance.  Consider joining all columns at once using pd.concat(axis=1) instead. To get a de-fragmented frame, use `newframe = frame.copy()`\n",
      "  results_df_1min[result_name] = pd.Series(results['raw_audioset_feats_59520ms'][count])\n"
     ]
    },
    {
     "name": "stdout",
     "output_type": "stream",
     "text": [
      "BaN10.0927H.1677983769.180905.2.12.wav\n",
      "AudiosetAnalysis: Calculating log mel spectrogram for ../../data/HD_audio/BaN10.0927H.1677983769.180905.2.12.wav\n"
     ]
    },
    {
     "name": "stderr",
     "output_type": "stream",
     "text": [
      "/var/folders/yz/_wj_p5r56c7ggl53_9wppwl80000gn/T/ipykernel_55832/1027907342.py:47: PerformanceWarning: DataFrame is highly fragmented.  This is usually the result of calling `frame.insert` many times, which has poor performance.  Consider joining all columns at once using pd.concat(axis=1) instead. To get a de-fragmented frame, use `newframe = frame.copy()`\n",
      "  results_df_1min[result_name] = pd.Series(results['raw_audioset_feats_59520ms'][count])\n",
      "/var/folders/yz/_wj_p5r56c7ggl53_9wppwl80000gn/T/ipykernel_55832/1027907342.py:47: PerformanceWarning: DataFrame is highly fragmented.  This is usually the result of calling `frame.insert` many times, which has poor performance.  Consider joining all columns at once using pd.concat(axis=1) instead. To get a de-fragmented frame, use `newframe = frame.copy()`\n",
      "  results_df_1min[result_name] = pd.Series(results['raw_audioset_feats_59520ms'][count])\n"
     ]
    },
    {
     "name": "stdout",
     "output_type": "stream",
     "text": [
      "SaF5.1125D.1677983769.180831.2.6.wav\n",
      "AudiosetAnalysis: Calculating log mel spectrogram for ../../data/HD_audio/SaF5.1125D.1677983769.180831.2.6.wav\n"
     ]
    },
    {
     "name": "stderr",
     "output_type": "stream",
     "text": [
      "/var/folders/yz/_wj_p5r56c7ggl53_9wppwl80000gn/T/ipykernel_55832/1027907342.py:47: PerformanceWarning: DataFrame is highly fragmented.  This is usually the result of calling `frame.insert` many times, which has poor performance.  Consider joining all columns at once using pd.concat(axis=1) instead. To get a de-fragmented frame, use `newframe = frame.copy()`\n",
      "  results_df_1min[result_name] = pd.Series(results['raw_audioset_feats_59520ms'][count])\n",
      "/var/folders/yz/_wj_p5r56c7ggl53_9wppwl80000gn/T/ipykernel_55832/1027907342.py:47: PerformanceWarning: DataFrame is highly fragmented.  This is usually the result of calling `frame.insert` many times, which has poor performance.  Consider joining all columns at once using pd.concat(axis=1) instead. To get a de-fragmented frame, use `newframe = frame.copy()`\n",
      "  results_df_1min[result_name] = pd.Series(results['raw_audioset_feats_59520ms'][count])\n",
      "/var/folders/yz/_wj_p5r56c7ggl53_9wppwl80000gn/T/ipykernel_55832/1027907342.py:47: PerformanceWarning: DataFrame is highly fragmented.  This is usually the result of calling `frame.insert` many times, which has poor performance.  Consider joining all columns at once using pd.concat(axis=1) instead. To get a de-fragmented frame, use `newframe = frame.copy()`\n",
      "  results_df_1min[result_name] = pd.Series(results['raw_audioset_feats_59520ms'][count])\n"
     ]
    },
    {
     "name": "stdout",
     "output_type": "stream",
     "text": [
      "SaF2.1203D.1678278701.180828.5.43.wav\n",
      "AudiosetAnalysis: Calculating log mel spectrogram for ../../data/HD_audio/SaF2.1203D.1678278701.180828.5.43.wav\n"
     ]
    },
    {
     "name": "stderr",
     "output_type": "stream",
     "text": [
      "/var/folders/yz/_wj_p5r56c7ggl53_9wppwl80000gn/T/ipykernel_55832/1027907342.py:47: PerformanceWarning: DataFrame is highly fragmented.  This is usually the result of calling `frame.insert` many times, which has poor performance.  Consider joining all columns at once using pd.concat(axis=1) instead. To get a de-fragmented frame, use `newframe = frame.copy()`\n",
      "  results_df_1min[result_name] = pd.Series(results['raw_audioset_feats_59520ms'][count])\n",
      "/var/folders/yz/_wj_p5r56c7ggl53_9wppwl80000gn/T/ipykernel_55832/1027907342.py:47: PerformanceWarning: DataFrame is highly fragmented.  This is usually the result of calling `frame.insert` many times, which has poor performance.  Consider joining all columns at once using pd.concat(axis=1) instead. To get a de-fragmented frame, use `newframe = frame.copy()`\n",
      "  results_df_1min[result_name] = pd.Series(results['raw_audioset_feats_59520ms'][count])\n",
      "/var/folders/yz/_wj_p5r56c7ggl53_9wppwl80000gn/T/ipykernel_55832/1027907342.py:47: PerformanceWarning: DataFrame is highly fragmented.  This is usually the result of calling `frame.insert` many times, which has poor performance.  Consider joining all columns at once using pd.concat(axis=1) instead. To get a de-fragmented frame, use `newframe = frame.copy()`\n",
      "  results_df_1min[result_name] = pd.Series(results['raw_audioset_feats_59520ms'][count])\n"
     ]
    },
    {
     "name": "stdout",
     "output_type": "stream",
     "text": [
      "SaN11.0940D.1678278701.180906.1.8.wav\n",
      "AudiosetAnalysis: Calculating log mel spectrogram for ../../data/HD_audio/SaN11.0940D.1678278701.180906.1.8.wav\n"
     ]
    },
    {
     "name": "stderr",
     "output_type": "stream",
     "text": [
      "/var/folders/yz/_wj_p5r56c7ggl53_9wppwl80000gn/T/ipykernel_55832/1027907342.py:47: PerformanceWarning: DataFrame is highly fragmented.  This is usually the result of calling `frame.insert` many times, which has poor performance.  Consider joining all columns at once using pd.concat(axis=1) instead. To get a de-fragmented frame, use `newframe = frame.copy()`\n",
      "  results_df_1min[result_name] = pd.Series(results['raw_audioset_feats_59520ms'][count])\n",
      "/var/folders/yz/_wj_p5r56c7ggl53_9wppwl80000gn/T/ipykernel_55832/1027907342.py:47: PerformanceWarning: DataFrame is highly fragmented.  This is usually the result of calling `frame.insert` many times, which has poor performance.  Consider joining all columns at once using pd.concat(axis=1) instead. To get a de-fragmented frame, use `newframe = frame.copy()`\n",
      "  results_df_1min[result_name] = pd.Series(results['raw_audioset_feats_59520ms'][count])\n",
      "/var/folders/yz/_wj_p5r56c7ggl53_9wppwl80000gn/T/ipykernel_55832/1027907342.py:47: PerformanceWarning: DataFrame is highly fragmented.  This is usually the result of calling `frame.insert` many times, which has poor performance.  Consider joining all columns at once using pd.concat(axis=1) instead. To get a de-fragmented frame, use `newframe = frame.copy()`\n",
      "  results_df_1min[result_name] = pd.Series(results['raw_audioset_feats_59520ms'][count])\n"
     ]
    },
    {
     "name": "stdout",
     "output_type": "stream",
     "text": [
      "BoF4.1300D.671907872.180830.3.31.wav\n",
      "AudiosetAnalysis: Calculating log mel spectrogram for ../../data/HD_audio/BoF4.1300D.671907872.180830.3.31.wav\n"
     ]
    },
    {
     "name": "stderr",
     "output_type": "stream",
     "text": [
      "/var/folders/yz/_wj_p5r56c7ggl53_9wppwl80000gn/T/ipykernel_55832/1027907342.py:47: PerformanceWarning: DataFrame is highly fragmented.  This is usually the result of calling `frame.insert` many times, which has poor performance.  Consider joining all columns at once using pd.concat(axis=1) instead. To get a de-fragmented frame, use `newframe = frame.copy()`\n",
      "  results_df_1min[result_name] = pd.Series(results['raw_audioset_feats_59520ms'][count])\n",
      "/var/folders/yz/_wj_p5r56c7ggl53_9wppwl80000gn/T/ipykernel_55832/1027907342.py:47: PerformanceWarning: DataFrame is highly fragmented.  This is usually the result of calling `frame.insert` many times, which has poor performance.  Consider joining all columns at once using pd.concat(axis=1) instead. To get a de-fragmented frame, use `newframe = frame.copy()`\n",
      "  results_df_1min[result_name] = pd.Series(results['raw_audioset_feats_59520ms'][count])\n"
     ]
    },
    {
     "name": "stdout",
     "output_type": "stream",
     "text": [
      "SaF4.0533D.805322778.180830.4.41.wav\n",
      "AudiosetAnalysis: Calculating log mel spectrogram for ../../data/HD_audio/SaF4.0533D.805322778.180830.4.41.wav\n"
     ]
    },
    {
     "name": "stderr",
     "output_type": "stream",
     "text": [
      "/var/folders/yz/_wj_p5r56c7ggl53_9wppwl80000gn/T/ipykernel_55832/1027907342.py:47: PerformanceWarning: DataFrame is highly fragmented.  This is usually the result of calling `frame.insert` many times, which has poor performance.  Consider joining all columns at once using pd.concat(axis=1) instead. To get a de-fragmented frame, use `newframe = frame.copy()`\n",
      "  results_df_1min[result_name] = pd.Series(results['raw_audioset_feats_59520ms'][count])\n",
      "/var/folders/yz/_wj_p5r56c7ggl53_9wppwl80000gn/T/ipykernel_55832/1027907342.py:47: PerformanceWarning: DataFrame is highly fragmented.  This is usually the result of calling `frame.insert` many times, which has poor performance.  Consider joining all columns at once using pd.concat(axis=1) instead. To get a de-fragmented frame, use `newframe = frame.copy()`\n",
      "  results_df_1min[result_name] = pd.Series(results['raw_audioset_feats_59520ms'][count])\n",
      "/var/folders/yz/_wj_p5r56c7ggl53_9wppwl80000gn/T/ipykernel_55832/1027907342.py:47: PerformanceWarning: DataFrame is highly fragmented.  This is usually the result of calling `frame.insert` many times, which has poor performance.  Consider joining all columns at once using pd.concat(axis=1) instead. To get a de-fragmented frame, use `newframe = frame.copy()`\n",
      "  results_df_1min[result_name] = pd.Series(results['raw_audioset_feats_59520ms'][count])\n"
     ]
    },
    {
     "name": "stdout",
     "output_type": "stream",
     "text": [
      "BaN12.0915H.805322778.180907.2.6.wav\n",
      "AudiosetAnalysis: Calculating log mel spectrogram for ../../data/HD_audio/BaN12.0915H.805322778.180907.2.6.wav\n"
     ]
    },
    {
     "name": "stderr",
     "output_type": "stream",
     "text": [
      "/var/folders/yz/_wj_p5r56c7ggl53_9wppwl80000gn/T/ipykernel_55832/1027907342.py:47: PerformanceWarning: DataFrame is highly fragmented.  This is usually the result of calling `frame.insert` many times, which has poor performance.  Consider joining all columns at once using pd.concat(axis=1) instead. To get a de-fragmented frame, use `newframe = frame.copy()`\n",
      "  results_df_1min[result_name] = pd.Series(results['raw_audioset_feats_59520ms'][count])\n",
      "/var/folders/yz/_wj_p5r56c7ggl53_9wppwl80000gn/T/ipykernel_55832/1027907342.py:47: PerformanceWarning: DataFrame is highly fragmented.  This is usually the result of calling `frame.insert` many times, which has poor performance.  Consider joining all columns at once using pd.concat(axis=1) instead. To get a de-fragmented frame, use `newframe = frame.copy()`\n",
      "  results_df_1min[result_name] = pd.Series(results['raw_audioset_feats_59520ms'][count])\n",
      "/var/folders/yz/_wj_p5r56c7ggl53_9wppwl80000gn/T/ipykernel_55832/1027907342.py:47: PerformanceWarning: DataFrame is highly fragmented.  This is usually the result of calling `frame.insert` many times, which has poor performance.  Consider joining all columns at once using pd.concat(axis=1) instead. To get a de-fragmented frame, use `newframe = frame.copy()`\n",
      "  results_df_1min[result_name] = pd.Series(results['raw_audioset_feats_59520ms'][count])\n"
     ]
    },
    {
     "name": "stdout",
     "output_type": "stream",
     "text": [
      "BoN11.1200H.805322778.180906.3.12.wav\n",
      "AudiosetAnalysis: Calculating log mel spectrogram for ../../data/HD_audio/BoN11.1200H.805322778.180906.3.12.wav\n"
     ]
    },
    {
     "name": "stderr",
     "output_type": "stream",
     "text": [
      "/var/folders/yz/_wj_p5r56c7ggl53_9wppwl80000gn/T/ipykernel_55832/1027907342.py:47: PerformanceWarning: DataFrame is highly fragmented.  This is usually the result of calling `frame.insert` many times, which has poor performance.  Consider joining all columns at once using pd.concat(axis=1) instead. To get a de-fragmented frame, use `newframe = frame.copy()`\n",
      "  results_df_1min[result_name] = pd.Series(results['raw_audioset_feats_59520ms'][count])\n",
      "/var/folders/yz/_wj_p5r56c7ggl53_9wppwl80000gn/T/ipykernel_55832/1027907342.py:47: PerformanceWarning: DataFrame is highly fragmented.  This is usually the result of calling `frame.insert` many times, which has poor performance.  Consider joining all columns at once using pd.concat(axis=1) instead. To get a de-fragmented frame, use `newframe = frame.copy()`\n",
      "  results_df_1min[result_name] = pd.Series(results['raw_audioset_feats_59520ms'][count])\n"
     ]
    },
    {
     "name": "stdout",
     "output_type": "stream",
     "text": [
      "BoF4.2333D.671907872.180830.1.3.wav\n",
      "AudiosetAnalysis: Calculating log mel spectrogram for ../../data/HD_audio/BoF4.2333D.671907872.180830.1.3.wav\n"
     ]
    },
    {
     "name": "stderr",
     "output_type": "stream",
     "text": [
      "/var/folders/yz/_wj_p5r56c7ggl53_9wppwl80000gn/T/ipykernel_55832/1027907342.py:47: PerformanceWarning: DataFrame is highly fragmented.  This is usually the result of calling `frame.insert` many times, which has poor performance.  Consider joining all columns at once using pd.concat(axis=1) instead. To get a de-fragmented frame, use `newframe = frame.copy()`\n",
      "  results_df_1min[result_name] = pd.Series(results['raw_audioset_feats_59520ms'][count])\n",
      "/var/folders/yz/_wj_p5r56c7ggl53_9wppwl80000gn/T/ipykernel_55832/1027907342.py:47: PerformanceWarning: DataFrame is highly fragmented.  This is usually the result of calling `frame.insert` many times, which has poor performance.  Consider joining all columns at once using pd.concat(axis=1) instead. To get a de-fragmented frame, use `newframe = frame.copy()`\n",
      "  results_df_1min[result_name] = pd.Series(results['raw_audioset_feats_59520ms'][count])\n",
      "/var/folders/yz/_wj_p5r56c7ggl53_9wppwl80000gn/T/ipykernel_55832/1027907342.py:47: PerformanceWarning: DataFrame is highly fragmented.  This is usually the result of calling `frame.insert` many times, which has poor performance.  Consider joining all columns at once using pd.concat(axis=1) instead. To get a de-fragmented frame, use `newframe = frame.copy()`\n",
      "  results_df_1min[result_name] = pd.Series(results['raw_audioset_feats_59520ms'][count])\n"
     ]
    },
    {
     "name": "stdout",
     "output_type": "stream",
     "text": [
      "BoF4.2333H.1677983769.180830.4.42.wav\n",
      "AudiosetAnalysis: Calculating log mel spectrogram for ../../data/HD_audio/BoF4.2333H.1677983769.180830.4.42.wav\n"
     ]
    },
    {
     "name": "stderr",
     "output_type": "stream",
     "text": [
      "/var/folders/yz/_wj_p5r56c7ggl53_9wppwl80000gn/T/ipykernel_55832/1027907342.py:47: PerformanceWarning: DataFrame is highly fragmented.  This is usually the result of calling `frame.insert` many times, which has poor performance.  Consider joining all columns at once using pd.concat(axis=1) instead. To get a de-fragmented frame, use `newframe = frame.copy()`\n",
      "  results_df_1min[result_name] = pd.Series(results['raw_audioset_feats_59520ms'][count])\n",
      "/var/folders/yz/_wj_p5r56c7ggl53_9wppwl80000gn/T/ipykernel_55832/1027907342.py:47: PerformanceWarning: DataFrame is highly fragmented.  This is usually the result of calling `frame.insert` many times, which has poor performance.  Consider joining all columns at once using pd.concat(axis=1) instead. To get a de-fragmented frame, use `newframe = frame.copy()`\n",
      "  results_df_1min[result_name] = pd.Series(results['raw_audioset_feats_59520ms'][count])\n",
      "/var/folders/yz/_wj_p5r56c7ggl53_9wppwl80000gn/T/ipykernel_55832/1027907342.py:47: PerformanceWarning: DataFrame is highly fragmented.  This is usually the result of calling `frame.insert` many times, which has poor performance.  Consider joining all columns at once using pd.concat(axis=1) instead. To get a de-fragmented frame, use `newframe = frame.copy()`\n",
      "  results_df_1min[result_name] = pd.Series(results['raw_audioset_feats_59520ms'][count])\n"
     ]
    },
    {
     "name": "stdout",
     "output_type": "stream",
     "text": [
      "BoF4.1733H.1677983769.180830.2.21.wav\n",
      "AudiosetAnalysis: Calculating log mel spectrogram for ../../data/HD_audio/BoF4.1733H.1677983769.180830.2.21.wav\n"
     ]
    },
    {
     "name": "stderr",
     "output_type": "stream",
     "text": [
      "/var/folders/yz/_wj_p5r56c7ggl53_9wppwl80000gn/T/ipykernel_55832/1027907342.py:47: PerformanceWarning: DataFrame is highly fragmented.  This is usually the result of calling `frame.insert` many times, which has poor performance.  Consider joining all columns at once using pd.concat(axis=1) instead. To get a de-fragmented frame, use `newframe = frame.copy()`\n",
      "  results_df_1min[result_name] = pd.Series(results['raw_audioset_feats_59520ms'][count])\n",
      "/var/folders/yz/_wj_p5r56c7ggl53_9wppwl80000gn/T/ipykernel_55832/1027907342.py:47: PerformanceWarning: DataFrame is highly fragmented.  This is usually the result of calling `frame.insert` many times, which has poor performance.  Consider joining all columns at once using pd.concat(axis=1) instead. To get a de-fragmented frame, use `newframe = frame.copy()`\n",
      "  results_df_1min[result_name] = pd.Series(results['raw_audioset_feats_59520ms'][count])\n"
     ]
    },
    {
     "name": "stdout",
     "output_type": "stream",
     "text": [
      "BaF2.2333H.1677983769.180828.4.48.wav\n",
      "AudiosetAnalysis: Calculating log mel spectrogram for ../../data/HD_audio/BaF2.2333H.1677983769.180828.4.48.wav\n"
     ]
    },
    {
     "name": "stderr",
     "output_type": "stream",
     "text": [
      "/var/folders/yz/_wj_p5r56c7ggl53_9wppwl80000gn/T/ipykernel_55832/1027907342.py:47: PerformanceWarning: DataFrame is highly fragmented.  This is usually the result of calling `frame.insert` many times, which has poor performance.  Consider joining all columns at once using pd.concat(axis=1) instead. To get a de-fragmented frame, use `newframe = frame.copy()`\n",
      "  results_df_1min[result_name] = pd.Series(results['raw_audioset_feats_59520ms'][count])\n",
      "/var/folders/yz/_wj_p5r56c7ggl53_9wppwl80000gn/T/ipykernel_55832/1027907342.py:47: PerformanceWarning: DataFrame is highly fragmented.  This is usually the result of calling `frame.insert` many times, which has poor performance.  Consider joining all columns at once using pd.concat(axis=1) instead. To get a de-fragmented frame, use `newframe = frame.copy()`\n",
      "  results_df_1min[result_name] = pd.Series(results['raw_audioset_feats_59520ms'][count])\n",
      "/var/folders/yz/_wj_p5r56c7ggl53_9wppwl80000gn/T/ipykernel_55832/1027907342.py:47: PerformanceWarning: DataFrame is highly fragmented.  This is usually the result of calling `frame.insert` many times, which has poor performance.  Consider joining all columns at once using pd.concat(axis=1) instead. To get a de-fragmented frame, use `newframe = frame.copy()`\n",
      "  results_df_1min[result_name] = pd.Series(results['raw_audioset_feats_59520ms'][count])\n"
     ]
    },
    {
     "name": "stdout",
     "output_type": "stream",
     "text": [
      "BoN10.1731D.805322778.180905.1.7.wav\n",
      "AudiosetAnalysis: Calculating log mel spectrogram for ../../data/HD_audio/BoN10.1731D.805322778.180905.1.7.wav\n"
     ]
    },
    {
     "name": "stderr",
     "output_type": "stream",
     "text": [
      "/var/folders/yz/_wj_p5r56c7ggl53_9wppwl80000gn/T/ipykernel_55832/1027907342.py:47: PerformanceWarning: DataFrame is highly fragmented.  This is usually the result of calling `frame.insert` many times, which has poor performance.  Consider joining all columns at once using pd.concat(axis=1) instead. To get a de-fragmented frame, use `newframe = frame.copy()`\n",
      "  results_df_1min[result_name] = pd.Series(results['raw_audioset_feats_59520ms'][count])\n",
      "/var/folders/yz/_wj_p5r56c7ggl53_9wppwl80000gn/T/ipykernel_55832/1027907342.py:47: PerformanceWarning: DataFrame is highly fragmented.  This is usually the result of calling `frame.insert` many times, which has poor performance.  Consider joining all columns at once using pd.concat(axis=1) instead. To get a de-fragmented frame, use `newframe = frame.copy()`\n",
      "  results_df_1min[result_name] = pd.Series(results['raw_audioset_feats_59520ms'][count])\n"
     ]
    },
    {
     "name": "stdout",
     "output_type": "stream",
     "text": [
      "BoN11.0529D.805322778.180906.4.32.wav\n",
      "AudiosetAnalysis: Calculating log mel spectrogram for ../../data/HD_audio/BoN11.0529D.805322778.180906.4.32.wav\n"
     ]
    },
    {
     "name": "stderr",
     "output_type": "stream",
     "text": [
      "/var/folders/yz/_wj_p5r56c7ggl53_9wppwl80000gn/T/ipykernel_55832/1027907342.py:47: PerformanceWarning: DataFrame is highly fragmented.  This is usually the result of calling `frame.insert` many times, which has poor performance.  Consider joining all columns at once using pd.concat(axis=1) instead. To get a de-fragmented frame, use `newframe = frame.copy()`\n",
      "  results_df_1min[result_name] = pd.Series(results['raw_audioset_feats_59520ms'][count])\n",
      "/var/folders/yz/_wj_p5r56c7ggl53_9wppwl80000gn/T/ipykernel_55832/1027907342.py:47: PerformanceWarning: DataFrame is highly fragmented.  This is usually the result of calling `frame.insert` many times, which has poor performance.  Consider joining all columns at once using pd.concat(axis=1) instead. To get a de-fragmented frame, use `newframe = frame.copy()`\n",
      "  results_df_1min[result_name] = pd.Series(results['raw_audioset_feats_59520ms'][count])\n",
      "/var/folders/yz/_wj_p5r56c7ggl53_9wppwl80000gn/T/ipykernel_55832/1027907342.py:47: PerformanceWarning: DataFrame is highly fragmented.  This is usually the result of calling `frame.insert` many times, which has poor performance.  Consider joining all columns at once using pd.concat(axis=1) instead. To get a de-fragmented frame, use `newframe = frame.copy()`\n",
      "  results_df_1min[result_name] = pd.Series(results['raw_audioset_feats_59520ms'][count])\n"
     ]
    },
    {
     "name": "stdout",
     "output_type": "stream",
     "text": [
      "BoF4.1300D.671907872.180830.1.21.wav\n",
      "AudiosetAnalysis: Calculating log mel spectrogram for ../../data/HD_audio/BoF4.1300D.671907872.180830.1.21.wav\n"
     ]
    },
    {
     "name": "stderr",
     "output_type": "stream",
     "text": [
      "/var/folders/yz/_wj_p5r56c7ggl53_9wppwl80000gn/T/ipykernel_55832/1027907342.py:47: PerformanceWarning: DataFrame is highly fragmented.  This is usually the result of calling `frame.insert` many times, which has poor performance.  Consider joining all columns at once using pd.concat(axis=1) instead. To get a de-fragmented frame, use `newframe = frame.copy()`\n",
      "  results_df_1min[result_name] = pd.Series(results['raw_audioset_feats_59520ms'][count])\n",
      "/var/folders/yz/_wj_p5r56c7ggl53_9wppwl80000gn/T/ipykernel_55832/1027907342.py:47: PerformanceWarning: DataFrame is highly fragmented.  This is usually the result of calling `frame.insert` many times, which has poor performance.  Consider joining all columns at once using pd.concat(axis=1) instead. To get a de-fragmented frame, use `newframe = frame.copy()`\n",
      "  results_df_1min[result_name] = pd.Series(results['raw_audioset_feats_59520ms'][count])\n",
      "/var/folders/yz/_wj_p5r56c7ggl53_9wppwl80000gn/T/ipykernel_55832/1027907342.py:47: PerformanceWarning: DataFrame is highly fragmented.  This is usually the result of calling `frame.insert` many times, which has poor performance.  Consider joining all columns at once using pd.concat(axis=1) instead. To get a de-fragmented frame, use `newframe = frame.copy()`\n",
      "  results_df_1min[result_name] = pd.Series(results['raw_audioset_feats_59520ms'][count])\n"
     ]
    },
    {
     "name": "stdout",
     "output_type": "stream",
     "text": [
      "SaF3.1355D.805322778.180829.2.14.wav\n",
      "AudiosetAnalysis: Calculating log mel spectrogram for ../../data/HD_audio/SaF3.1355D.805322778.180829.2.14.wav\n"
     ]
    },
    {
     "name": "stderr",
     "output_type": "stream",
     "text": [
      "/var/folders/yz/_wj_p5r56c7ggl53_9wppwl80000gn/T/ipykernel_55832/1027907342.py:47: PerformanceWarning: DataFrame is highly fragmented.  This is usually the result of calling `frame.insert` many times, which has poor performance.  Consider joining all columns at once using pd.concat(axis=1) instead. To get a de-fragmented frame, use `newframe = frame.copy()`\n",
      "  results_df_1min[result_name] = pd.Series(results['raw_audioset_feats_59520ms'][count])\n",
      "/var/folders/yz/_wj_p5r56c7ggl53_9wppwl80000gn/T/ipykernel_55832/1027907342.py:47: PerformanceWarning: DataFrame is highly fragmented.  This is usually the result of calling `frame.insert` many times, which has poor performance.  Consider joining all columns at once using pd.concat(axis=1) instead. To get a de-fragmented frame, use `newframe = frame.copy()`\n",
      "  results_df_1min[result_name] = pd.Series(results['raw_audioset_feats_59520ms'][count])\n",
      "/var/folders/yz/_wj_p5r56c7ggl53_9wppwl80000gn/T/ipykernel_55832/1027907342.py:47: PerformanceWarning: DataFrame is highly fragmented.  This is usually the result of calling `frame.insert` many times, which has poor performance.  Consider joining all columns at once using pd.concat(axis=1) instead. To get a de-fragmented frame, use `newframe = frame.copy()`\n",
      "  results_df_1min[result_name] = pd.Series(results['raw_audioset_feats_59520ms'][count])\n"
     ]
    },
    {
     "name": "stdout",
     "output_type": "stream",
     "text": [
      "SaF3.1355D.805322778.180829.1.5.wav\n",
      "AudiosetAnalysis: Calculating log mel spectrogram for ../../data/HD_audio/SaF3.1355D.805322778.180829.1.5.wav\n"
     ]
    },
    {
     "name": "stderr",
     "output_type": "stream",
     "text": [
      "/var/folders/yz/_wj_p5r56c7ggl53_9wppwl80000gn/T/ipykernel_55832/1027907342.py:47: PerformanceWarning: DataFrame is highly fragmented.  This is usually the result of calling `frame.insert` many times, which has poor performance.  Consider joining all columns at once using pd.concat(axis=1) instead. To get a de-fragmented frame, use `newframe = frame.copy()`\n",
      "  results_df_1min[result_name] = pd.Series(results['raw_audioset_feats_59520ms'][count])\n",
      "/var/folders/yz/_wj_p5r56c7ggl53_9wppwl80000gn/T/ipykernel_55832/1027907342.py:47: PerformanceWarning: DataFrame is highly fragmented.  This is usually the result of calling `frame.insert` many times, which has poor performance.  Consider joining all columns at once using pd.concat(axis=1) instead. To get a de-fragmented frame, use `newframe = frame.copy()`\n",
      "  results_df_1min[result_name] = pd.Series(results['raw_audioset_feats_59520ms'][count])\n",
      "/var/folders/yz/_wj_p5r56c7ggl53_9wppwl80000gn/T/ipykernel_55832/1027907342.py:47: PerformanceWarning: DataFrame is highly fragmented.  This is usually the result of calling `frame.insert` many times, which has poor performance.  Consider joining all columns at once using pd.concat(axis=1) instead. To get a de-fragmented frame, use `newframe = frame.copy()`\n",
      "  results_df_1min[result_name] = pd.Series(results['raw_audioset_feats_59520ms'][count])\n"
     ]
    },
    {
     "name": "stdout",
     "output_type": "stream",
     "text": [
      "BoF5.0532H.1677983769.180831.4.42.wav\n",
      "AudiosetAnalysis: Calculating log mel spectrogram for ../../data/HD_audio/BoF5.0532H.1677983769.180831.4.42.wav\n"
     ]
    },
    {
     "name": "stderr",
     "output_type": "stream",
     "text": [
      "/var/folders/yz/_wj_p5r56c7ggl53_9wppwl80000gn/T/ipykernel_55832/1027907342.py:47: PerformanceWarning: DataFrame is highly fragmented.  This is usually the result of calling `frame.insert` many times, which has poor performance.  Consider joining all columns at once using pd.concat(axis=1) instead. To get a de-fragmented frame, use `newframe = frame.copy()`\n",
      "  results_df_1min[result_name] = pd.Series(results['raw_audioset_feats_59520ms'][count])\n",
      "/var/folders/yz/_wj_p5r56c7ggl53_9wppwl80000gn/T/ipykernel_55832/1027907342.py:47: PerformanceWarning: DataFrame is highly fragmented.  This is usually the result of calling `frame.insert` many times, which has poor performance.  Consider joining all columns at once using pd.concat(axis=1) instead. To get a de-fragmented frame, use `newframe = frame.copy()`\n",
      "  results_df_1min[result_name] = pd.Series(results['raw_audioset_feats_59520ms'][count])\n"
     ]
    },
    {
     "name": "stdout",
     "output_type": "stream",
     "text": [
      "SaF2.0534D.1677983769.180828.3.26.wav\n",
      "AudiosetAnalysis: Calculating log mel spectrogram for ../../data/HD_audio/SaF2.0534D.1677983769.180828.3.26.wav\n"
     ]
    },
    {
     "name": "stderr",
     "output_type": "stream",
     "text": [
      "/var/folders/yz/_wj_p5r56c7ggl53_9wppwl80000gn/T/ipykernel_55832/1027907342.py:47: PerformanceWarning: DataFrame is highly fragmented.  This is usually the result of calling `frame.insert` many times, which has poor performance.  Consider joining all columns at once using pd.concat(axis=1) instead. To get a de-fragmented frame, use `newframe = frame.copy()`\n",
      "  results_df_1min[result_name] = pd.Series(results['raw_audioset_feats_59520ms'][count])\n",
      "/var/folders/yz/_wj_p5r56c7ggl53_9wppwl80000gn/T/ipykernel_55832/1027907342.py:47: PerformanceWarning: DataFrame is highly fragmented.  This is usually the result of calling `frame.insert` many times, which has poor performance.  Consider joining all columns at once using pd.concat(axis=1) instead. To get a de-fragmented frame, use `newframe = frame.copy()`\n",
      "  results_df_1min[result_name] = pd.Series(results['raw_audioset_feats_59520ms'][count])\n"
     ]
    },
    {
     "name": "stdout",
     "output_type": "stream",
     "text": [
      "SaF1.1733D.1677983769.180827.1.12.wav\n",
      "AudiosetAnalysis: Calculating log mel spectrogram for ../../data/HD_audio/SaF1.1733D.1677983769.180827.1.12.wav\n"
     ]
    },
    {
     "name": "stderr",
     "output_type": "stream",
     "text": [
      "/var/folders/yz/_wj_p5r56c7ggl53_9wppwl80000gn/T/ipykernel_55832/1027907342.py:47: PerformanceWarning: DataFrame is highly fragmented.  This is usually the result of calling `frame.insert` many times, which has poor performance.  Consider joining all columns at once using pd.concat(axis=1) instead. To get a de-fragmented frame, use `newframe = frame.copy()`\n",
      "  results_df_1min[result_name] = pd.Series(results['raw_audioset_feats_59520ms'][count])\n",
      "/var/folders/yz/_wj_p5r56c7ggl53_9wppwl80000gn/T/ipykernel_55832/1027907342.py:47: PerformanceWarning: DataFrame is highly fragmented.  This is usually the result of calling `frame.insert` many times, which has poor performance.  Consider joining all columns at once using pd.concat(axis=1) instead. To get a de-fragmented frame, use `newframe = frame.copy()`\n",
      "  results_df_1min[result_name] = pd.Series(results['raw_audioset_feats_59520ms'][count])\n",
      "/var/folders/yz/_wj_p5r56c7ggl53_9wppwl80000gn/T/ipykernel_55832/1027907342.py:47: PerformanceWarning: DataFrame is highly fragmented.  This is usually the result of calling `frame.insert` many times, which has poor performance.  Consider joining all columns at once using pd.concat(axis=1) instead. To get a de-fragmented frame, use `newframe = frame.copy()`\n",
      "  results_df_1min[result_name] = pd.Series(results['raw_audioset_feats_59520ms'][count])\n"
     ]
    },
    {
     "name": "stdout",
     "output_type": "stream",
     "text": [
      "BoF4.1300H.1677983769.180830.4.57.wav\n",
      "AudiosetAnalysis: Calculating log mel spectrogram for ../../data/HD_audio/BoF4.1300H.1677983769.180830.4.57.wav\n"
     ]
    },
    {
     "name": "stderr",
     "output_type": "stream",
     "text": [
      "/var/folders/yz/_wj_p5r56c7ggl53_9wppwl80000gn/T/ipykernel_55832/1027907342.py:47: PerformanceWarning: DataFrame is highly fragmented.  This is usually the result of calling `frame.insert` many times, which has poor performance.  Consider joining all columns at once using pd.concat(axis=1) instead. To get a de-fragmented frame, use `newframe = frame.copy()`\n",
      "  results_df_1min[result_name] = pd.Series(results['raw_audioset_feats_59520ms'][count])\n",
      "/var/folders/yz/_wj_p5r56c7ggl53_9wppwl80000gn/T/ipykernel_55832/1027907342.py:47: PerformanceWarning: DataFrame is highly fragmented.  This is usually the result of calling `frame.insert` many times, which has poor performance.  Consider joining all columns at once using pd.concat(axis=1) instead. To get a de-fragmented frame, use `newframe = frame.copy()`\n",
      "  results_df_1min[result_name] = pd.Series(results['raw_audioset_feats_59520ms'][count])\n"
     ]
    },
    {
     "name": "stdout",
     "output_type": "stream",
     "text": [
      "BaF4.1040H.1677983769.180830.3.32.wav\n",
      "AudiosetAnalysis: Calculating log mel spectrogram for ../../data/HD_audio/BaF4.1040H.1677983769.180830.3.32.wav\n"
     ]
    },
    {
     "name": "stderr",
     "output_type": "stream",
     "text": [
      "/var/folders/yz/_wj_p5r56c7ggl53_9wppwl80000gn/T/ipykernel_55832/1027907342.py:47: PerformanceWarning: DataFrame is highly fragmented.  This is usually the result of calling `frame.insert` many times, which has poor performance.  Consider joining all columns at once using pd.concat(axis=1) instead. To get a de-fragmented frame, use `newframe = frame.copy()`\n",
      "  results_df_1min[result_name] = pd.Series(results['raw_audioset_feats_59520ms'][count])\n",
      "/var/folders/yz/_wj_p5r56c7ggl53_9wppwl80000gn/T/ipykernel_55832/1027907342.py:47: PerformanceWarning: DataFrame is highly fragmented.  This is usually the result of calling `frame.insert` many times, which has poor performance.  Consider joining all columns at once using pd.concat(axis=1) instead. To get a de-fragmented frame, use `newframe = frame.copy()`\n",
      "  results_df_1min[result_name] = pd.Series(results['raw_audioset_feats_59520ms'][count])\n"
     ]
    },
    {
     "name": "stdout",
     "output_type": "stream",
     "text": [
      "BaF3.0533H.1677983769.180829.3.22.wav\n",
      "AudiosetAnalysis: Calculating log mel spectrogram for ../../data/HD_audio/BaF3.0533H.1677983769.180829.3.22.wav\n"
     ]
    },
    {
     "name": "stderr",
     "output_type": "stream",
     "text": [
      "/var/folders/yz/_wj_p5r56c7ggl53_9wppwl80000gn/T/ipykernel_55832/1027907342.py:47: PerformanceWarning: DataFrame is highly fragmented.  This is usually the result of calling `frame.insert` many times, which has poor performance.  Consider joining all columns at once using pd.concat(axis=1) instead. To get a de-fragmented frame, use `newframe = frame.copy()`\n",
      "  results_df_1min[result_name] = pd.Series(results['raw_audioset_feats_59520ms'][count])\n",
      "/var/folders/yz/_wj_p5r56c7ggl53_9wppwl80000gn/T/ipykernel_55832/1027907342.py:47: PerformanceWarning: DataFrame is highly fragmented.  This is usually the result of calling `frame.insert` many times, which has poor performance.  Consider joining all columns at once using pd.concat(axis=1) instead. To get a de-fragmented frame, use `newframe = frame.copy()`\n",
      "  results_df_1min[result_name] = pd.Series(results['raw_audioset_feats_59520ms'][count])\n",
      "/var/folders/yz/_wj_p5r56c7ggl53_9wppwl80000gn/T/ipykernel_55832/1027907342.py:47: PerformanceWarning: DataFrame is highly fragmented.  This is usually the result of calling `frame.insert` many times, which has poor performance.  Consider joining all columns at once using pd.concat(axis=1) instead. To get a de-fragmented frame, use `newframe = frame.copy()`\n",
      "  results_df_1min[result_name] = pd.Series(results['raw_audioset_feats_59520ms'][count])\n"
     ]
    },
    {
     "name": "stdout",
     "output_type": "stream",
     "text": [
      "BaF5.2332H.671907872.180831.1.10.wav\n",
      "AudiosetAnalysis: Calculating log mel spectrogram for ../../data/HD_audio/BaF5.2332H.671907872.180831.1.10.wav\n"
     ]
    },
    {
     "name": "stderr",
     "output_type": "stream",
     "text": [
      "/var/folders/yz/_wj_p5r56c7ggl53_9wppwl80000gn/T/ipykernel_55832/1027907342.py:47: PerformanceWarning: DataFrame is highly fragmented.  This is usually the result of calling `frame.insert` many times, which has poor performance.  Consider joining all columns at once using pd.concat(axis=1) instead. To get a de-fragmented frame, use `newframe = frame.copy()`\n",
      "  results_df_1min[result_name] = pd.Series(results['raw_audioset_feats_59520ms'][count])\n",
      "/var/folders/yz/_wj_p5r56c7ggl53_9wppwl80000gn/T/ipykernel_55832/1027907342.py:47: PerformanceWarning: DataFrame is highly fragmented.  This is usually the result of calling `frame.insert` many times, which has poor performance.  Consider joining all columns at once using pd.concat(axis=1) instead. To get a de-fragmented frame, use `newframe = frame.copy()`\n",
      "  results_df_1min[result_name] = pd.Series(results['raw_audioset_feats_59520ms'][count])\n"
     ]
    },
    {
     "name": "stdout",
     "output_type": "stream",
     "text": [
      "BoN10.1731H.1678278701.180905.2.9.wav\n",
      "AudiosetAnalysis: Calculating log mel spectrogram for ../../data/HD_audio/BoN10.1731H.1678278701.180905.2.9.wav\n"
     ]
    },
    {
     "name": "stderr",
     "output_type": "stream",
     "text": [
      "/var/folders/yz/_wj_p5r56c7ggl53_9wppwl80000gn/T/ipykernel_55832/1027907342.py:47: PerformanceWarning: DataFrame is highly fragmented.  This is usually the result of calling `frame.insert` many times, which has poor performance.  Consider joining all columns at once using pd.concat(axis=1) instead. To get a de-fragmented frame, use `newframe = frame.copy()`\n",
      "  results_df_1min[result_name] = pd.Series(results['raw_audioset_feats_59520ms'][count])\n",
      "/var/folders/yz/_wj_p5r56c7ggl53_9wppwl80000gn/T/ipykernel_55832/1027907342.py:47: PerformanceWarning: DataFrame is highly fragmented.  This is usually the result of calling `frame.insert` many times, which has poor performance.  Consider joining all columns at once using pd.concat(axis=1) instead. To get a de-fragmented frame, use `newframe = frame.copy()`\n",
      "  results_df_1min[result_name] = pd.Series(results['raw_audioset_feats_59520ms'][count])\n",
      "/var/folders/yz/_wj_p5r56c7ggl53_9wppwl80000gn/T/ipykernel_55832/1027907342.py:47: PerformanceWarning: DataFrame is highly fragmented.  This is usually the result of calling `frame.insert` many times, which has poor performance.  Consider joining all columns at once using pd.concat(axis=1) instead. To get a de-fragmented frame, use `newframe = frame.copy()`\n",
      "  results_df_1min[result_name] = pd.Series(results['raw_audioset_feats_59520ms'][count])\n"
     ]
    },
    {
     "name": "stdout",
     "output_type": "stream",
     "text": [
      "BoN10.2359D.805322778.180905.5.58.wav\n",
      "AudiosetAnalysis: Calculating log mel spectrogram for ../../data/HD_audio/BoN10.2359D.805322778.180905.5.58.wav\n"
     ]
    },
    {
     "name": "stderr",
     "output_type": "stream",
     "text": [
      "/var/folders/yz/_wj_p5r56c7ggl53_9wppwl80000gn/T/ipykernel_55832/1027907342.py:47: PerformanceWarning: DataFrame is highly fragmented.  This is usually the result of calling `frame.insert` many times, which has poor performance.  Consider joining all columns at once using pd.concat(axis=1) instead. To get a de-fragmented frame, use `newframe = frame.copy()`\n",
      "  results_df_1min[result_name] = pd.Series(results['raw_audioset_feats_59520ms'][count])\n",
      "/var/folders/yz/_wj_p5r56c7ggl53_9wppwl80000gn/T/ipykernel_55832/1027907342.py:47: PerformanceWarning: DataFrame is highly fragmented.  This is usually the result of calling `frame.insert` many times, which has poor performance.  Consider joining all columns at once using pd.concat(axis=1) instead. To get a de-fragmented frame, use `newframe = frame.copy()`\n",
      "  results_df_1min[result_name] = pd.Series(results['raw_audioset_feats_59520ms'][count])\n",
      "/var/folders/yz/_wj_p5r56c7ggl53_9wppwl80000gn/T/ipykernel_55832/1027907342.py:47: PerformanceWarning: DataFrame is highly fragmented.  This is usually the result of calling `frame.insert` many times, which has poor performance.  Consider joining all columns at once using pd.concat(axis=1) instead. To get a de-fragmented frame, use `newframe = frame.copy()`\n",
      "  results_df_1min[result_name] = pd.Series(results['raw_audioset_feats_59520ms'][count])\n"
     ]
    },
    {
     "name": "stdout",
     "output_type": "stream",
     "text": [
      "BoF2.0930H.805322778.180828.1.4.wav\n",
      "AudiosetAnalysis: Calculating log mel spectrogram for ../../data/HD_audio/BoF2.0930H.805322778.180828.1.4.wav\n"
     ]
    },
    {
     "name": "stderr",
     "output_type": "stream",
     "text": [
      "/var/folders/yz/_wj_p5r56c7ggl53_9wppwl80000gn/T/ipykernel_55832/1027907342.py:47: PerformanceWarning: DataFrame is highly fragmented.  This is usually the result of calling `frame.insert` many times, which has poor performance.  Consider joining all columns at once using pd.concat(axis=1) instead. To get a de-fragmented frame, use `newframe = frame.copy()`\n",
      "  results_df_1min[result_name] = pd.Series(results['raw_audioset_feats_59520ms'][count])\n",
      "/var/folders/yz/_wj_p5r56c7ggl53_9wppwl80000gn/T/ipykernel_55832/1027907342.py:47: PerformanceWarning: DataFrame is highly fragmented.  This is usually the result of calling `frame.insert` many times, which has poor performance.  Consider joining all columns at once using pd.concat(axis=1) instead. To get a de-fragmented frame, use `newframe = frame.copy()`\n",
      "  results_df_1min[result_name] = pd.Series(results['raw_audioset_feats_59520ms'][count])\n",
      "/var/folders/yz/_wj_p5r56c7ggl53_9wppwl80000gn/T/ipykernel_55832/1027907342.py:47: PerformanceWarning: DataFrame is highly fragmented.  This is usually the result of calling `frame.insert` many times, which has poor performance.  Consider joining all columns at once using pd.concat(axis=1) instead. To get a de-fragmented frame, use `newframe = frame.copy()`\n",
      "  results_df_1min[result_name] = pd.Series(results['raw_audioset_feats_59520ms'][count])\n"
     ]
    },
    {
     "name": "stdout",
     "output_type": "stream",
     "text": [
      "SaF1.2333D.1677983769.180827.5.59.wav\n",
      "AudiosetAnalysis: Calculating log mel spectrogram for ../../data/HD_audio/SaF1.2333D.1677983769.180827.5.59.wav\n"
     ]
    },
    {
     "name": "stderr",
     "output_type": "stream",
     "text": [
      "/var/folders/yz/_wj_p5r56c7ggl53_9wppwl80000gn/T/ipykernel_55832/1027907342.py:47: PerformanceWarning: DataFrame is highly fragmented.  This is usually the result of calling `frame.insert` many times, which has poor performance.  Consider joining all columns at once using pd.concat(axis=1) instead. To get a de-fragmented frame, use `newframe = frame.copy()`\n",
      "  results_df_1min[result_name] = pd.Series(results['raw_audioset_feats_59520ms'][count])\n",
      "/var/folders/yz/_wj_p5r56c7ggl53_9wppwl80000gn/T/ipykernel_55832/1027907342.py:47: PerformanceWarning: DataFrame is highly fragmented.  This is usually the result of calling `frame.insert` many times, which has poor performance.  Consider joining all columns at once using pd.concat(axis=1) instead. To get a de-fragmented frame, use `newframe = frame.copy()`\n",
      "  results_df_1min[result_name] = pd.Series(results['raw_audioset_feats_59520ms'][count])\n"
     ]
    },
    {
     "name": "stdout",
     "output_type": "stream",
     "text": [
      "BoN10.2359H.1678278701.180905.2.46.wav\n",
      "AudiosetAnalysis: Calculating log mel spectrogram for ../../data/HD_audio/BoN10.2359H.1678278701.180905.2.46.wav\n"
     ]
    },
    {
     "name": "stderr",
     "output_type": "stream",
     "text": [
      "/var/folders/yz/_wj_p5r56c7ggl53_9wppwl80000gn/T/ipykernel_55832/1027907342.py:47: PerformanceWarning: DataFrame is highly fragmented.  This is usually the result of calling `frame.insert` many times, which has poor performance.  Consider joining all columns at once using pd.concat(axis=1) instead. To get a de-fragmented frame, use `newframe = frame.copy()`\n",
      "  results_df_1min[result_name] = pd.Series(results['raw_audioset_feats_59520ms'][count])\n",
      "/var/folders/yz/_wj_p5r56c7ggl53_9wppwl80000gn/T/ipykernel_55832/1027907342.py:47: PerformanceWarning: DataFrame is highly fragmented.  This is usually the result of calling `frame.insert` many times, which has poor performance.  Consider joining all columns at once using pd.concat(axis=1) instead. To get a de-fragmented frame, use `newframe = frame.copy()`\n",
      "  results_df_1min[result_name] = pd.Series(results['raw_audioset_feats_59520ms'][count])\n",
      "/var/folders/yz/_wj_p5r56c7ggl53_9wppwl80000gn/T/ipykernel_55832/1027907342.py:47: PerformanceWarning: DataFrame is highly fragmented.  This is usually the result of calling `frame.insert` many times, which has poor performance.  Consider joining all columns at once using pd.concat(axis=1) instead. To get a de-fragmented frame, use `newframe = frame.copy()`\n",
      "  results_df_1min[result_name] = pd.Series(results['raw_audioset_feats_59520ms'][count])\n"
     ]
    },
    {
     "name": "stdout",
     "output_type": "stream",
     "text": [
      "BaN12.0915H.805322778.180907.5.59.wav\n",
      "AudiosetAnalysis: Calculating log mel spectrogram for ../../data/HD_audio/BaN12.0915H.805322778.180907.5.59.wav\n"
     ]
    },
    {
     "name": "stderr",
     "output_type": "stream",
     "text": [
      "/var/folders/yz/_wj_p5r56c7ggl53_9wppwl80000gn/T/ipykernel_55832/1027907342.py:47: PerformanceWarning: DataFrame is highly fragmented.  This is usually the result of calling `frame.insert` many times, which has poor performance.  Consider joining all columns at once using pd.concat(axis=1) instead. To get a de-fragmented frame, use `newframe = frame.copy()`\n",
      "  results_df_1min[result_name] = pd.Series(results['raw_audioset_feats_59520ms'][count])\n",
      "/var/folders/yz/_wj_p5r56c7ggl53_9wppwl80000gn/T/ipykernel_55832/1027907342.py:47: PerformanceWarning: DataFrame is highly fragmented.  This is usually the result of calling `frame.insert` many times, which has poor performance.  Consider joining all columns at once using pd.concat(axis=1) instead. To get a de-fragmented frame, use `newframe = frame.copy()`\n",
      "  results_df_1min[result_name] = pd.Series(results['raw_audioset_feats_59520ms'][count])\n",
      "/var/folders/yz/_wj_p5r56c7ggl53_9wppwl80000gn/T/ipykernel_55832/1027907342.py:47: PerformanceWarning: DataFrame is highly fragmented.  This is usually the result of calling `frame.insert` many times, which has poor performance.  Consider joining all columns at once using pd.concat(axis=1) instead. To get a de-fragmented frame, use `newframe = frame.copy()`\n",
      "  results_df_1min[result_name] = pd.Series(results['raw_audioset_feats_59520ms'][count])\n"
     ]
    },
    {
     "name": "stdout",
     "output_type": "stream",
     "text": [
      "BaN10.0927H.1677983769.180905.5.39.wav\n",
      "AudiosetAnalysis: Calculating log mel spectrogram for ../../data/HD_audio/BaN10.0927H.1677983769.180905.5.39.wav\n"
     ]
    },
    {
     "name": "stderr",
     "output_type": "stream",
     "text": [
      "/var/folders/yz/_wj_p5r56c7ggl53_9wppwl80000gn/T/ipykernel_55832/1027907342.py:47: PerformanceWarning: DataFrame is highly fragmented.  This is usually the result of calling `frame.insert` many times, which has poor performance.  Consider joining all columns at once using pd.concat(axis=1) instead. To get a de-fragmented frame, use `newframe = frame.copy()`\n",
      "  results_df_1min[result_name] = pd.Series(results['raw_audioset_feats_59520ms'][count])\n",
      "/var/folders/yz/_wj_p5r56c7ggl53_9wppwl80000gn/T/ipykernel_55832/1027907342.py:47: PerformanceWarning: DataFrame is highly fragmented.  This is usually the result of calling `frame.insert` many times, which has poor performance.  Consider joining all columns at once using pd.concat(axis=1) instead. To get a de-fragmented frame, use `newframe = frame.copy()`\n",
      "  results_df_1min[result_name] = pd.Series(results['raw_audioset_feats_59520ms'][count])\n"
     ]
    },
    {
     "name": "stdout",
     "output_type": "stream",
     "text": [
      "BoF5.0532D.671907872.180831.3.14.wav\n",
      "AudiosetAnalysis: Calculating log mel spectrogram for ../../data/HD_audio/BoF5.0532D.671907872.180831.3.14.wav\n"
     ]
    },
    {
     "name": "stderr",
     "output_type": "stream",
     "text": [
      "/var/folders/yz/_wj_p5r56c7ggl53_9wppwl80000gn/T/ipykernel_55832/1027907342.py:47: PerformanceWarning: DataFrame is highly fragmented.  This is usually the result of calling `frame.insert` many times, which has poor performance.  Consider joining all columns at once using pd.concat(axis=1) instead. To get a de-fragmented frame, use `newframe = frame.copy()`\n",
      "  results_df_1min[result_name] = pd.Series(results['raw_audioset_feats_59520ms'][count])\n",
      "/var/folders/yz/_wj_p5r56c7ggl53_9wppwl80000gn/T/ipykernel_55832/1027907342.py:47: PerformanceWarning: DataFrame is highly fragmented.  This is usually the result of calling `frame.insert` many times, which has poor performance.  Consider joining all columns at once using pd.concat(axis=1) instead. To get a de-fragmented frame, use `newframe = frame.copy()`\n",
      "  results_df_1min[result_name] = pd.Series(results['raw_audioset_feats_59520ms'][count])\n"
     ]
    },
    {
     "name": "stdout",
     "output_type": "stream",
     "text": [
      "BoF4.2333D.671907872.180830.4.51.wav\n",
      "AudiosetAnalysis: Calculating log mel spectrogram for ../../data/HD_audio/BoF4.2333D.671907872.180830.4.51.wav\n"
     ]
    },
    {
     "name": "stderr",
     "output_type": "stream",
     "text": [
      "/var/folders/yz/_wj_p5r56c7ggl53_9wppwl80000gn/T/ipykernel_55832/1027907342.py:47: PerformanceWarning: DataFrame is highly fragmented.  This is usually the result of calling `frame.insert` many times, which has poor performance.  Consider joining all columns at once using pd.concat(axis=1) instead. To get a de-fragmented frame, use `newframe = frame.copy()`\n",
      "  results_df_1min[result_name] = pd.Series(results['raw_audioset_feats_59520ms'][count])\n",
      "/var/folders/yz/_wj_p5r56c7ggl53_9wppwl80000gn/T/ipykernel_55832/1027907342.py:47: PerformanceWarning: DataFrame is highly fragmented.  This is usually the result of calling `frame.insert` many times, which has poor performance.  Consider joining all columns at once using pd.concat(axis=1) instead. To get a de-fragmented frame, use `newframe = frame.copy()`\n",
      "  results_df_1min[result_name] = pd.Series(results['raw_audioset_feats_59520ms'][count])\n",
      "/var/folders/yz/_wj_p5r56c7ggl53_9wppwl80000gn/T/ipykernel_55832/1027907342.py:47: PerformanceWarning: DataFrame is highly fragmented.  This is usually the result of calling `frame.insert` many times, which has poor performance.  Consider joining all columns at once using pd.concat(axis=1) instead. To get a de-fragmented frame, use `newframe = frame.copy()`\n",
      "  results_df_1min[result_name] = pd.Series(results['raw_audioset_feats_59520ms'][count])\n"
     ]
    },
    {
     "name": "stdout",
     "output_type": "stream",
     "text": [
      "BoF2.0930H.805322778.180828.3.28.wav\n",
      "AudiosetAnalysis: Calculating log mel spectrogram for ../../data/HD_audio/BoF2.0930H.805322778.180828.3.28.wav\n"
     ]
    },
    {
     "name": "stderr",
     "output_type": "stream",
     "text": [
      "/var/folders/yz/_wj_p5r56c7ggl53_9wppwl80000gn/T/ipykernel_55832/1027907342.py:47: PerformanceWarning: DataFrame is highly fragmented.  This is usually the result of calling `frame.insert` many times, which has poor performance.  Consider joining all columns at once using pd.concat(axis=1) instead. To get a de-fragmented frame, use `newframe = frame.copy()`\n",
      "  results_df_1min[result_name] = pd.Series(results['raw_audioset_feats_59520ms'][count])\n",
      "/var/folders/yz/_wj_p5r56c7ggl53_9wppwl80000gn/T/ipykernel_55832/1027907342.py:47: PerformanceWarning: DataFrame is highly fragmented.  This is usually the result of calling `frame.insert` many times, which has poor performance.  Consider joining all columns at once using pd.concat(axis=1) instead. To get a de-fragmented frame, use `newframe = frame.copy()`\n",
      "  results_df_1min[result_name] = pd.Series(results['raw_audioset_feats_59520ms'][count])\n"
     ]
    },
    {
     "name": "stdout",
     "output_type": "stream",
     "text": [
      "SaF4.0533D.805322778.180830.2.27.wav\n",
      "AudiosetAnalysis: Calculating log mel spectrogram for ../../data/HD_audio/SaF4.0533D.805322778.180830.2.27.wav\n"
     ]
    },
    {
     "name": "stderr",
     "output_type": "stream",
     "text": [
      "/var/folders/yz/_wj_p5r56c7ggl53_9wppwl80000gn/T/ipykernel_55832/1027907342.py:47: PerformanceWarning: DataFrame is highly fragmented.  This is usually the result of calling `frame.insert` many times, which has poor performance.  Consider joining all columns at once using pd.concat(axis=1) instead. To get a de-fragmented frame, use `newframe = frame.copy()`\n",
      "  results_df_1min[result_name] = pd.Series(results['raw_audioset_feats_59520ms'][count])\n",
      "/var/folders/yz/_wj_p5r56c7ggl53_9wppwl80000gn/T/ipykernel_55832/1027907342.py:47: PerformanceWarning: DataFrame is highly fragmented.  This is usually the result of calling `frame.insert` many times, which has poor performance.  Consider joining all columns at once using pd.concat(axis=1) instead. To get a de-fragmented frame, use `newframe = frame.copy()`\n",
      "  results_df_1min[result_name] = pd.Series(results['raw_audioset_feats_59520ms'][count])\n"
     ]
    },
    {
     "name": "stdout",
     "output_type": "stream",
     "text": [
      "BoN11.1103H.805322778.180906.2.15.wav\n",
      "AudiosetAnalysis: Calculating log mel spectrogram for ../../data/HD_audio/BoN11.1103H.805322778.180906.2.15.wav\n"
     ]
    },
    {
     "name": "stderr",
     "output_type": "stream",
     "text": [
      "/var/folders/yz/_wj_p5r56c7ggl53_9wppwl80000gn/T/ipykernel_55832/1027907342.py:47: PerformanceWarning: DataFrame is highly fragmented.  This is usually the result of calling `frame.insert` many times, which has poor performance.  Consider joining all columns at once using pd.concat(axis=1) instead. To get a de-fragmented frame, use `newframe = frame.copy()`\n",
      "  results_df_1min[result_name] = pd.Series(results['raw_audioset_feats_59520ms'][count])\n",
      "/var/folders/yz/_wj_p5r56c7ggl53_9wppwl80000gn/T/ipykernel_55832/1027907342.py:47: PerformanceWarning: DataFrame is highly fragmented.  This is usually the result of calling `frame.insert` many times, which has poor performance.  Consider joining all columns at once using pd.concat(axis=1) instead. To get a de-fragmented frame, use `newframe = frame.copy()`\n",
      "  results_df_1min[result_name] = pd.Series(results['raw_audioset_feats_59520ms'][count])\n",
      "/var/folders/yz/_wj_p5r56c7ggl53_9wppwl80000gn/T/ipykernel_55832/1027907342.py:47: PerformanceWarning: DataFrame is highly fragmented.  This is usually the result of calling `frame.insert` many times, which has poor performance.  Consider joining all columns at once using pd.concat(axis=1) instead. To get a de-fragmented frame, use `newframe = frame.copy()`\n",
      "  results_df_1min[result_name] = pd.Series(results['raw_audioset_feats_59520ms'][count])\n"
     ]
    },
    {
     "name": "stdout",
     "output_type": "stream",
     "text": [
      "BaN11.1731H.805322778.180906.4.27.wav\n",
      "AudiosetAnalysis: Calculating log mel spectrogram for ../../data/HD_audio/BaN11.1731H.805322778.180906.4.27.wav\n"
     ]
    },
    {
     "name": "stderr",
     "output_type": "stream",
     "text": [
      "/var/folders/yz/_wj_p5r56c7ggl53_9wppwl80000gn/T/ipykernel_55832/1027907342.py:47: PerformanceWarning: DataFrame is highly fragmented.  This is usually the result of calling `frame.insert` many times, which has poor performance.  Consider joining all columns at once using pd.concat(axis=1) instead. To get a de-fragmented frame, use `newframe = frame.copy()`\n",
      "  results_df_1min[result_name] = pd.Series(results['raw_audioset_feats_59520ms'][count])\n",
      "/var/folders/yz/_wj_p5r56c7ggl53_9wppwl80000gn/T/ipykernel_55832/1027907342.py:47: PerformanceWarning: DataFrame is highly fragmented.  This is usually the result of calling `frame.insert` many times, which has poor performance.  Consider joining all columns at once using pd.concat(axis=1) instead. To get a de-fragmented frame, use `newframe = frame.copy()`\n",
      "  results_df_1min[result_name] = pd.Series(results['raw_audioset_feats_59520ms'][count])\n"
     ]
    },
    {
     "name": "stdout",
     "output_type": "stream",
     "text": [
      "BoF3.1205D.805322778.180829.1.5.wav\n",
      "AudiosetAnalysis: Calculating log mel spectrogram for ../../data/HD_audio/BoF3.1205D.805322778.180829.1.5.wav\n"
     ]
    },
    {
     "name": "stderr",
     "output_type": "stream",
     "text": [
      "/var/folders/yz/_wj_p5r56c7ggl53_9wppwl80000gn/T/ipykernel_55832/1027907342.py:47: PerformanceWarning: DataFrame is highly fragmented.  This is usually the result of calling `frame.insert` many times, which has poor performance.  Consider joining all columns at once using pd.concat(axis=1) instead. To get a de-fragmented frame, use `newframe = frame.copy()`\n",
      "  results_df_1min[result_name] = pd.Series(results['raw_audioset_feats_59520ms'][count])\n",
      "/var/folders/yz/_wj_p5r56c7ggl53_9wppwl80000gn/T/ipykernel_55832/1027907342.py:47: PerformanceWarning: DataFrame is highly fragmented.  This is usually the result of calling `frame.insert` many times, which has poor performance.  Consider joining all columns at once using pd.concat(axis=1) instead. To get a de-fragmented frame, use `newframe = frame.copy()`\n",
      "  results_df_1min[result_name] = pd.Series(results['raw_audioset_feats_59520ms'][count])\n"
     ]
    },
    {
     "name": "stdout",
     "output_type": "stream",
     "text": [
      "SaF2.1203D.1678278701.180828.4.37.wav\n",
      "AudiosetAnalysis: Calculating log mel spectrogram for ../../data/HD_audio/SaF2.1203D.1678278701.180828.4.37.wav\n"
     ]
    },
    {
     "name": "stderr",
     "output_type": "stream",
     "text": [
      "/var/folders/yz/_wj_p5r56c7ggl53_9wppwl80000gn/T/ipykernel_55832/1027907342.py:47: PerformanceWarning: DataFrame is highly fragmented.  This is usually the result of calling `frame.insert` many times, which has poor performance.  Consider joining all columns at once using pd.concat(axis=1) instead. To get a de-fragmented frame, use `newframe = frame.copy()`\n",
      "  results_df_1min[result_name] = pd.Series(results['raw_audioset_feats_59520ms'][count])\n",
      "/var/folders/yz/_wj_p5r56c7ggl53_9wppwl80000gn/T/ipykernel_55832/1027907342.py:47: PerformanceWarning: DataFrame is highly fragmented.  This is usually the result of calling `frame.insert` many times, which has poor performance.  Consider joining all columns at once using pd.concat(axis=1) instead. To get a de-fragmented frame, use `newframe = frame.copy()`\n",
      "  results_df_1min[result_name] = pd.Series(results['raw_audioset_feats_59520ms'][count])\n"
     ]
    },
    {
     "name": "stdout",
     "output_type": "stream",
     "text": [
      "SaF4.0902D.671907872.180830.3.31.wav\n",
      "AudiosetAnalysis: Calculating log mel spectrogram for ../../data/HD_audio/SaF4.0902D.671907872.180830.3.31.wav\n"
     ]
    },
    {
     "name": "stderr",
     "output_type": "stream",
     "text": [
      "/var/folders/yz/_wj_p5r56c7ggl53_9wppwl80000gn/T/ipykernel_55832/1027907342.py:47: PerformanceWarning: DataFrame is highly fragmented.  This is usually the result of calling `frame.insert` many times, which has poor performance.  Consider joining all columns at once using pd.concat(axis=1) instead. To get a de-fragmented frame, use `newframe = frame.copy()`\n",
      "  results_df_1min[result_name] = pd.Series(results['raw_audioset_feats_59520ms'][count])\n",
      "/var/folders/yz/_wj_p5r56c7ggl53_9wppwl80000gn/T/ipykernel_55832/1027907342.py:47: PerformanceWarning: DataFrame is highly fragmented.  This is usually the result of calling `frame.insert` many times, which has poor performance.  Consider joining all columns at once using pd.concat(axis=1) instead. To get a de-fragmented frame, use `newframe = frame.copy()`\n",
      "  results_df_1min[result_name] = pd.Series(results['raw_audioset_feats_59520ms'][count])\n",
      "/var/folders/yz/_wj_p5r56c7ggl53_9wppwl80000gn/T/ipykernel_55832/1027907342.py:47: PerformanceWarning: DataFrame is highly fragmented.  This is usually the result of calling `frame.insert` many times, which has poor performance.  Consider joining all columns at once using pd.concat(axis=1) instead. To get a de-fragmented frame, use `newframe = frame.copy()`\n",
      "  results_df_1min[result_name] = pd.Series(results['raw_audioset_feats_59520ms'][count])\n"
     ]
    },
    {
     "name": "stdout",
     "output_type": "stream",
     "text": [
      "BaF1.1055H.1678278701.180827.1.1.wav\n",
      "AudiosetAnalysis: Calculating log mel spectrogram for ../../data/HD_audio/BaF1.1055H.1678278701.180827.1.1.wav\n"
     ]
    },
    {
     "name": "stderr",
     "output_type": "stream",
     "text": [
      "/var/folders/yz/_wj_p5r56c7ggl53_9wppwl80000gn/T/ipykernel_55832/1027907342.py:47: PerformanceWarning: DataFrame is highly fragmented.  This is usually the result of calling `frame.insert` many times, which has poor performance.  Consider joining all columns at once using pd.concat(axis=1) instead. To get a de-fragmented frame, use `newframe = frame.copy()`\n",
      "  results_df_1min[result_name] = pd.Series(results['raw_audioset_feats_59520ms'][count])\n",
      "/var/folders/yz/_wj_p5r56c7ggl53_9wppwl80000gn/T/ipykernel_55832/1027907342.py:47: PerformanceWarning: DataFrame is highly fragmented.  This is usually the result of calling `frame.insert` many times, which has poor performance.  Consider joining all columns at once using pd.concat(axis=1) instead. To get a de-fragmented frame, use `newframe = frame.copy()`\n",
      "  results_df_1min[result_name] = pd.Series(results['raw_audioset_feats_59520ms'][count])\n"
     ]
    },
    {
     "name": "stdout",
     "output_type": "stream",
     "text": [
      "SaF5.1202D.1677983769.180831.3.24.wav\n",
      "AudiosetAnalysis: Calculating log mel spectrogram for ../../data/HD_audio/SaF5.1202D.1677983769.180831.3.24.wav\n"
     ]
    },
    {
     "name": "stderr",
     "output_type": "stream",
     "text": [
      "/var/folders/yz/_wj_p5r56c7ggl53_9wppwl80000gn/T/ipykernel_55832/1027907342.py:47: PerformanceWarning: DataFrame is highly fragmented.  This is usually the result of calling `frame.insert` many times, which has poor performance.  Consider joining all columns at once using pd.concat(axis=1) instead. To get a de-fragmented frame, use `newframe = frame.copy()`\n",
      "  results_df_1min[result_name] = pd.Series(results['raw_audioset_feats_59520ms'][count])\n",
      "/var/folders/yz/_wj_p5r56c7ggl53_9wppwl80000gn/T/ipykernel_55832/1027907342.py:47: PerformanceWarning: DataFrame is highly fragmented.  This is usually the result of calling `frame.insert` many times, which has poor performance.  Consider joining all columns at once using pd.concat(axis=1) instead. To get a de-fragmented frame, use `newframe = frame.copy()`\n",
      "  results_df_1min[result_name] = pd.Series(results['raw_audioset_feats_59520ms'][count])\n"
     ]
    },
    {
     "name": "stdout",
     "output_type": "stream",
     "text": [
      "BoN11.1103D.1678278701.180906.4.32.wav\n",
      "AudiosetAnalysis: Calculating log mel spectrogram for ../../data/HD_audio/BoN11.1103D.1678278701.180906.4.32.wav\n"
     ]
    },
    {
     "name": "stderr",
     "output_type": "stream",
     "text": [
      "/var/folders/yz/_wj_p5r56c7ggl53_9wppwl80000gn/T/ipykernel_55832/1027907342.py:47: PerformanceWarning: DataFrame is highly fragmented.  This is usually the result of calling `frame.insert` many times, which has poor performance.  Consider joining all columns at once using pd.concat(axis=1) instead. To get a de-fragmented frame, use `newframe = frame.copy()`\n",
      "  results_df_1min[result_name] = pd.Series(results['raw_audioset_feats_59520ms'][count])\n",
      "/var/folders/yz/_wj_p5r56c7ggl53_9wppwl80000gn/T/ipykernel_55832/1027907342.py:47: PerformanceWarning: DataFrame is highly fragmented.  This is usually the result of calling `frame.insert` many times, which has poor performance.  Consider joining all columns at once using pd.concat(axis=1) instead. To get a de-fragmented frame, use `newframe = frame.copy()`\n",
      "  results_df_1min[result_name] = pd.Series(results['raw_audioset_feats_59520ms'][count])\n",
      "/var/folders/yz/_wj_p5r56c7ggl53_9wppwl80000gn/T/ipykernel_55832/1027907342.py:47: PerformanceWarning: DataFrame is highly fragmented.  This is usually the result of calling `frame.insert` many times, which has poor performance.  Consider joining all columns at once using pd.concat(axis=1) instead. To get a de-fragmented frame, use `newframe = frame.copy()`\n",
      "  results_df_1min[result_name] = pd.Series(results['raw_audioset_feats_59520ms'][count])\n"
     ]
    },
    {
     "name": "stdout",
     "output_type": "stream",
     "text": [
      "BaF5.1330H.671907872.180831.5.49.wav\n",
      "AudiosetAnalysis: Calculating log mel spectrogram for ../../data/HD_audio/BaF5.1330H.671907872.180831.5.49.wav\n"
     ]
    },
    {
     "name": "stderr",
     "output_type": "stream",
     "text": [
      "/var/folders/yz/_wj_p5r56c7ggl53_9wppwl80000gn/T/ipykernel_55832/1027907342.py:47: PerformanceWarning: DataFrame is highly fragmented.  This is usually the result of calling `frame.insert` many times, which has poor performance.  Consider joining all columns at once using pd.concat(axis=1) instead. To get a de-fragmented frame, use `newframe = frame.copy()`\n",
      "  results_df_1min[result_name] = pd.Series(results['raw_audioset_feats_59520ms'][count])\n",
      "/var/folders/yz/_wj_p5r56c7ggl53_9wppwl80000gn/T/ipykernel_55832/1027907342.py:47: PerformanceWarning: DataFrame is highly fragmented.  This is usually the result of calling `frame.insert` many times, which has poor performance.  Consider joining all columns at once using pd.concat(axis=1) instead. To get a de-fragmented frame, use `newframe = frame.copy()`\n",
      "  results_df_1min[result_name] = pd.Series(results['raw_audioset_feats_59520ms'][count])\n"
     ]
    },
    {
     "name": "stdout",
     "output_type": "stream",
     "text": [
      "BoN11.1103H.805322778.180906.1.2.wav\n",
      "AudiosetAnalysis: Calculating log mel spectrogram for ../../data/HD_audio/BoN11.1103H.805322778.180906.1.2.wav\n"
     ]
    },
    {
     "name": "stderr",
     "output_type": "stream",
     "text": [
      "/var/folders/yz/_wj_p5r56c7ggl53_9wppwl80000gn/T/ipykernel_55832/1027907342.py:47: PerformanceWarning: DataFrame is highly fragmented.  This is usually the result of calling `frame.insert` many times, which has poor performance.  Consider joining all columns at once using pd.concat(axis=1) instead. To get a de-fragmented frame, use `newframe = frame.copy()`\n",
      "  results_df_1min[result_name] = pd.Series(results['raw_audioset_feats_59520ms'][count])\n",
      "/var/folders/yz/_wj_p5r56c7ggl53_9wppwl80000gn/T/ipykernel_55832/1027907342.py:47: PerformanceWarning: DataFrame is highly fragmented.  This is usually the result of calling `frame.insert` many times, which has poor performance.  Consider joining all columns at once using pd.concat(axis=1) instead. To get a de-fragmented frame, use `newframe = frame.copy()`\n",
      "  results_df_1min[result_name] = pd.Series(results['raw_audioset_feats_59520ms'][count])\n",
      "/var/folders/yz/_wj_p5r56c7ggl53_9wppwl80000gn/T/ipykernel_55832/1027907342.py:47: PerformanceWarning: DataFrame is highly fragmented.  This is usually the result of calling `frame.insert` many times, which has poor performance.  Consider joining all columns at once using pd.concat(axis=1) instead. To get a de-fragmented frame, use `newframe = frame.copy()`\n",
      "  results_df_1min[result_name] = pd.Series(results['raw_audioset_feats_59520ms'][count])\n"
     ]
    },
    {
     "name": "stdout",
     "output_type": "stream",
     "text": [
      "BoN10.2359H.1678278701.180905.5.59.wav\n",
      "AudiosetAnalysis: Calculating log mel spectrogram for ../../data/HD_audio/BoN10.2359H.1678278701.180905.5.59.wav\n"
     ]
    },
    {
     "name": "stderr",
     "output_type": "stream",
     "text": [
      "/var/folders/yz/_wj_p5r56c7ggl53_9wppwl80000gn/T/ipykernel_55832/1027907342.py:47: PerformanceWarning: DataFrame is highly fragmented.  This is usually the result of calling `frame.insert` many times, which has poor performance.  Consider joining all columns at once using pd.concat(axis=1) instead. To get a de-fragmented frame, use `newframe = frame.copy()`\n",
      "  results_df_1min[result_name] = pd.Series(results['raw_audioset_feats_59520ms'][count])\n",
      "/var/folders/yz/_wj_p5r56c7ggl53_9wppwl80000gn/T/ipykernel_55832/1027907342.py:47: PerformanceWarning: DataFrame is highly fragmented.  This is usually the result of calling `frame.insert` many times, which has poor performance.  Consider joining all columns at once using pd.concat(axis=1) instead. To get a de-fragmented frame, use `newframe = frame.copy()`\n",
      "  results_df_1min[result_name] = pd.Series(results['raw_audioset_feats_59520ms'][count])\n"
     ]
    },
    {
     "name": "stdout",
     "output_type": "stream",
     "text": [
      "BaN11.2330H.805322778.180906.2.31.wav\n",
      "AudiosetAnalysis: Calculating log mel spectrogram for ../../data/HD_audio/BaN11.2330H.805322778.180906.2.31.wav\n"
     ]
    },
    {
     "name": "stderr",
     "output_type": "stream",
     "text": [
      "/var/folders/yz/_wj_p5r56c7ggl53_9wppwl80000gn/T/ipykernel_55832/1027907342.py:47: PerformanceWarning: DataFrame is highly fragmented.  This is usually the result of calling `frame.insert` many times, which has poor performance.  Consider joining all columns at once using pd.concat(axis=1) instead. To get a de-fragmented frame, use `newframe = frame.copy()`\n",
      "  results_df_1min[result_name] = pd.Series(results['raw_audioset_feats_59520ms'][count])\n",
      "/var/folders/yz/_wj_p5r56c7ggl53_9wppwl80000gn/T/ipykernel_55832/1027907342.py:47: PerformanceWarning: DataFrame is highly fragmented.  This is usually the result of calling `frame.insert` many times, which has poor performance.  Consider joining all columns at once using pd.concat(axis=1) instead. To get a de-fragmented frame, use `newframe = frame.copy()`\n",
      "  results_df_1min[result_name] = pd.Series(results['raw_audioset_feats_59520ms'][count])\n"
     ]
    },
    {
     "name": "stdout",
     "output_type": "stream",
     "text": [
      "BoF5.0532H.1677983769.180831.5.48.wav\n",
      "AudiosetAnalysis: Calculating log mel spectrogram for ../../data/HD_audio/BoF5.0532H.1677983769.180831.5.48.wav\n"
     ]
    },
    {
     "name": "stderr",
     "output_type": "stream",
     "text": [
      "/var/folders/yz/_wj_p5r56c7ggl53_9wppwl80000gn/T/ipykernel_55832/1027907342.py:47: PerformanceWarning: DataFrame is highly fragmented.  This is usually the result of calling `frame.insert` many times, which has poor performance.  Consider joining all columns at once using pd.concat(axis=1) instead. To get a de-fragmented frame, use `newframe = frame.copy()`\n",
      "  results_df_1min[result_name] = pd.Series(results['raw_audioset_feats_59520ms'][count])\n",
      "/var/folders/yz/_wj_p5r56c7ggl53_9wppwl80000gn/T/ipykernel_55832/1027907342.py:47: PerformanceWarning: DataFrame is highly fragmented.  This is usually the result of calling `frame.insert` many times, which has poor performance.  Consider joining all columns at once using pd.concat(axis=1) instead. To get a de-fragmented frame, use `newframe = frame.copy()`\n",
      "  results_df_1min[result_name] = pd.Series(results['raw_audioset_feats_59520ms'][count])\n"
     ]
    },
    {
     "name": "stdout",
     "output_type": "stream",
     "text": [
      "BoF4.1733D.671907872.180830.4.40.wav\n",
      "AudiosetAnalysis: Calculating log mel spectrogram for ../../data/HD_audio/BoF4.1733D.671907872.180830.4.40.wav\n"
     ]
    },
    {
     "name": "stderr",
     "output_type": "stream",
     "text": [
      "/var/folders/yz/_wj_p5r56c7ggl53_9wppwl80000gn/T/ipykernel_55832/1027907342.py:47: PerformanceWarning: DataFrame is highly fragmented.  This is usually the result of calling `frame.insert` many times, which has poor performance.  Consider joining all columns at once using pd.concat(axis=1) instead. To get a de-fragmented frame, use `newframe = frame.copy()`\n",
      "  results_df_1min[result_name] = pd.Series(results['raw_audioset_feats_59520ms'][count])\n",
      "/var/folders/yz/_wj_p5r56c7ggl53_9wppwl80000gn/T/ipykernel_55832/1027907342.py:47: PerformanceWarning: DataFrame is highly fragmented.  This is usually the result of calling `frame.insert` many times, which has poor performance.  Consider joining all columns at once using pd.concat(axis=1) instead. To get a de-fragmented frame, use `newframe = frame.copy()`\n",
      "  results_df_1min[result_name] = pd.Series(results['raw_audioset_feats_59520ms'][count])\n"
     ]
    },
    {
     "name": "stdout",
     "output_type": "stream",
     "text": [
      "BaF2.1733H.1677983769.180828.4.28.wav\n",
      "AudiosetAnalysis: Calculating log mel spectrogram for ../../data/HD_audio/BaF2.1733H.1677983769.180828.4.28.wav\n"
     ]
    },
    {
     "name": "stderr",
     "output_type": "stream",
     "text": [
      "/var/folders/yz/_wj_p5r56c7ggl53_9wppwl80000gn/T/ipykernel_55832/1027907342.py:47: PerformanceWarning: DataFrame is highly fragmented.  This is usually the result of calling `frame.insert` many times, which has poor performance.  Consider joining all columns at once using pd.concat(axis=1) instead. To get a de-fragmented frame, use `newframe = frame.copy()`\n",
      "  results_df_1min[result_name] = pd.Series(results['raw_audioset_feats_59520ms'][count])\n",
      "/var/folders/yz/_wj_p5r56c7ggl53_9wppwl80000gn/T/ipykernel_55832/1027907342.py:47: PerformanceWarning: DataFrame is highly fragmented.  This is usually the result of calling `frame.insert` many times, which has poor performance.  Consider joining all columns at once using pd.concat(axis=1) instead. To get a de-fragmented frame, use `newframe = frame.copy()`\n",
      "  results_df_1min[result_name] = pd.Series(results['raw_audioset_feats_59520ms'][count])\n",
      "/var/folders/yz/_wj_p5r56c7ggl53_9wppwl80000gn/T/ipykernel_55832/1027907342.py:47: PerformanceWarning: DataFrame is highly fragmented.  This is usually the result of calling `frame.insert` many times, which has poor performance.  Consider joining all columns at once using pd.concat(axis=1) instead. To get a de-fragmented frame, use `newframe = frame.copy()`\n",
      "  results_df_1min[result_name] = pd.Series(results['raw_audioset_feats_59520ms'][count])\n"
     ]
    },
    {
     "name": "stdout",
     "output_type": "stream",
     "text": [
      "BaN10.0927H.1677983769.180905.1.10.wav\n",
      "AudiosetAnalysis: Calculating log mel spectrogram for ../../data/HD_audio/BaN10.0927H.1677983769.180905.1.10.wav\n"
     ]
    },
    {
     "name": "stderr",
     "output_type": "stream",
     "text": [
      "/var/folders/yz/_wj_p5r56c7ggl53_9wppwl80000gn/T/ipykernel_55832/1027907342.py:47: PerformanceWarning: DataFrame is highly fragmented.  This is usually the result of calling `frame.insert` many times, which has poor performance.  Consider joining all columns at once using pd.concat(axis=1) instead. To get a de-fragmented frame, use `newframe = frame.copy()`\n",
      "  results_df_1min[result_name] = pd.Series(results['raw_audioset_feats_59520ms'][count])\n",
      "/var/folders/yz/_wj_p5r56c7ggl53_9wppwl80000gn/T/ipykernel_55832/1027907342.py:47: PerformanceWarning: DataFrame is highly fragmented.  This is usually the result of calling `frame.insert` many times, which has poor performance.  Consider joining all columns at once using pd.concat(axis=1) instead. To get a de-fragmented frame, use `newframe = frame.copy()`\n",
      "  results_df_1min[result_name] = pd.Series(results['raw_audioset_feats_59520ms'][count])\n"
     ]
    },
    {
     "name": "stdout",
     "output_type": "stream",
     "text": [
      "BaF3.0915H.1678278701.180829.2.30.wav\n",
      "AudiosetAnalysis: Calculating log mel spectrogram for ../../data/HD_audio/BaF3.0915H.1678278701.180829.2.30.wav\n"
     ]
    },
    {
     "name": "stderr",
     "output_type": "stream",
     "text": [
      "/var/folders/yz/_wj_p5r56c7ggl53_9wppwl80000gn/T/ipykernel_55832/1027907342.py:47: PerformanceWarning: DataFrame is highly fragmented.  This is usually the result of calling `frame.insert` many times, which has poor performance.  Consider joining all columns at once using pd.concat(axis=1) instead. To get a de-fragmented frame, use `newframe = frame.copy()`\n",
      "  results_df_1min[result_name] = pd.Series(results['raw_audioset_feats_59520ms'][count])\n",
      "/var/folders/yz/_wj_p5r56c7ggl53_9wppwl80000gn/T/ipykernel_55832/1027907342.py:47: PerformanceWarning: DataFrame is highly fragmented.  This is usually the result of calling `frame.insert` many times, which has poor performance.  Consider joining all columns at once using pd.concat(axis=1) instead. To get a de-fragmented frame, use `newframe = frame.copy()`\n",
      "  results_df_1min[result_name] = pd.Series(results['raw_audioset_feats_59520ms'][count])\n",
      "/var/folders/yz/_wj_p5r56c7ggl53_9wppwl80000gn/T/ipykernel_55832/1027907342.py:47: PerformanceWarning: DataFrame is highly fragmented.  This is usually the result of calling `frame.insert` many times, which has poor performance.  Consider joining all columns at once using pd.concat(axis=1) instead. To get a de-fragmented frame, use `newframe = frame.copy()`\n",
      "  results_df_1min[result_name] = pd.Series(results['raw_audioset_feats_59520ms'][count])\n"
     ]
    },
    {
     "name": "stdout",
     "output_type": "stream",
     "text": [
      "SaF5.1202D.1677983769.180831.2.17.wav\n",
      "AudiosetAnalysis: Calculating log mel spectrogram for ../../data/HD_audio/SaF5.1202D.1677983769.180831.2.17.wav\n"
     ]
    },
    {
     "name": "stderr",
     "output_type": "stream",
     "text": [
      "/var/folders/yz/_wj_p5r56c7ggl53_9wppwl80000gn/T/ipykernel_55832/1027907342.py:47: PerformanceWarning: DataFrame is highly fragmented.  This is usually the result of calling `frame.insert` many times, which has poor performance.  Consider joining all columns at once using pd.concat(axis=1) instead. To get a de-fragmented frame, use `newframe = frame.copy()`\n",
      "  results_df_1min[result_name] = pd.Series(results['raw_audioset_feats_59520ms'][count])\n",
      "/var/folders/yz/_wj_p5r56c7ggl53_9wppwl80000gn/T/ipykernel_55832/1027907342.py:47: PerformanceWarning: DataFrame is highly fragmented.  This is usually the result of calling `frame.insert` many times, which has poor performance.  Consider joining all columns at once using pd.concat(axis=1) instead. To get a de-fragmented frame, use `newframe = frame.copy()`\n",
      "  results_df_1min[result_name] = pd.Series(results['raw_audioset_feats_59520ms'][count])\n"
     ]
    },
    {
     "name": "stdout",
     "output_type": "stream",
     "text": [
      "BoN10.1731D.805322778.180905.4.42.wav\n",
      "AudiosetAnalysis: Calculating log mel spectrogram for ../../data/HD_audio/BoN10.1731D.805322778.180905.4.42.wav\n"
     ]
    },
    {
     "name": "stderr",
     "output_type": "stream",
     "text": [
      "/var/folders/yz/_wj_p5r56c7ggl53_9wppwl80000gn/T/ipykernel_55832/1027907342.py:47: PerformanceWarning: DataFrame is highly fragmented.  This is usually the result of calling `frame.insert` many times, which has poor performance.  Consider joining all columns at once using pd.concat(axis=1) instead. To get a de-fragmented frame, use `newframe = frame.copy()`\n",
      "  results_df_1min[result_name] = pd.Series(results['raw_audioset_feats_59520ms'][count])\n",
      "/var/folders/yz/_wj_p5r56c7ggl53_9wppwl80000gn/T/ipykernel_55832/1027907342.py:47: PerformanceWarning: DataFrame is highly fragmented.  This is usually the result of calling `frame.insert` many times, which has poor performance.  Consider joining all columns at once using pd.concat(axis=1) instead. To get a de-fragmented frame, use `newframe = frame.copy()`\n",
      "  results_df_1min[result_name] = pd.Series(results['raw_audioset_feats_59520ms'][count])\n",
      "/var/folders/yz/_wj_p5r56c7ggl53_9wppwl80000gn/T/ipykernel_55832/1027907342.py:47: PerformanceWarning: DataFrame is highly fragmented.  This is usually the result of calling `frame.insert` many times, which has poor performance.  Consider joining all columns at once using pd.concat(axis=1) instead. To get a de-fragmented frame, use `newframe = frame.copy()`\n",
      "  results_df_1min[result_name] = pd.Series(results['raw_audioset_feats_59520ms'][count])\n"
     ]
    },
    {
     "name": "stdout",
     "output_type": "stream",
     "text": [
      "SaF3.2333D.805322778.180829.3.42.wav\n",
      "AudiosetAnalysis: Calculating log mel spectrogram for ../../data/HD_audio/SaF3.2333D.805322778.180829.3.42.wav\n"
     ]
    },
    {
     "name": "stderr",
     "output_type": "stream",
     "text": [
      "/var/folders/yz/_wj_p5r56c7ggl53_9wppwl80000gn/T/ipykernel_55832/1027907342.py:47: PerformanceWarning: DataFrame is highly fragmented.  This is usually the result of calling `frame.insert` many times, which has poor performance.  Consider joining all columns at once using pd.concat(axis=1) instead. To get a de-fragmented frame, use `newframe = frame.copy()`\n",
      "  results_df_1min[result_name] = pd.Series(results['raw_audioset_feats_59520ms'][count])\n",
      "/var/folders/yz/_wj_p5r56c7ggl53_9wppwl80000gn/T/ipykernel_55832/1027907342.py:47: PerformanceWarning: DataFrame is highly fragmented.  This is usually the result of calling `frame.insert` many times, which has poor performance.  Consider joining all columns at once using pd.concat(axis=1) instead. To get a de-fragmented frame, use `newframe = frame.copy()`\n",
      "  results_df_1min[result_name] = pd.Series(results['raw_audioset_feats_59520ms'][count])\n",
      "/var/folders/yz/_wj_p5r56c7ggl53_9wppwl80000gn/T/ipykernel_55832/1027907342.py:47: PerformanceWarning: DataFrame is highly fragmented.  This is usually the result of calling `frame.insert` many times, which has poor performance.  Consider joining all columns at once using pd.concat(axis=1) instead. To get a de-fragmented frame, use `newframe = frame.copy()`\n",
      "  results_df_1min[result_name] = pd.Series(results['raw_audioset_feats_59520ms'][count])\n"
     ]
    },
    {
     "name": "stdout",
     "output_type": "stream",
     "text": [
      "BoN12.1220D.1678278701.180907.4.39.wav\n",
      "AudiosetAnalysis: Calculating log mel spectrogram for ../../data/HD_audio/BoN12.1220D.1678278701.180907.4.39.wav\n"
     ]
    },
    {
     "name": "stderr",
     "output_type": "stream",
     "text": [
      "/var/folders/yz/_wj_p5r56c7ggl53_9wppwl80000gn/T/ipykernel_55832/1027907342.py:47: PerformanceWarning: DataFrame is highly fragmented.  This is usually the result of calling `frame.insert` many times, which has poor performance.  Consider joining all columns at once using pd.concat(axis=1) instead. To get a de-fragmented frame, use `newframe = frame.copy()`\n",
      "  results_df_1min[result_name] = pd.Series(results['raw_audioset_feats_59520ms'][count])\n",
      "/var/folders/yz/_wj_p5r56c7ggl53_9wppwl80000gn/T/ipykernel_55832/1027907342.py:47: PerformanceWarning: DataFrame is highly fragmented.  This is usually the result of calling `frame.insert` many times, which has poor performance.  Consider joining all columns at once using pd.concat(axis=1) instead. To get a de-fragmented frame, use `newframe = frame.copy()`\n",
      "  results_df_1min[result_name] = pd.Series(results['raw_audioset_feats_59520ms'][count])\n",
      "/var/folders/yz/_wj_p5r56c7ggl53_9wppwl80000gn/T/ipykernel_55832/1027907342.py:47: PerformanceWarning: DataFrame is highly fragmented.  This is usually the result of calling `frame.insert` many times, which has poor performance.  Consider joining all columns at once using pd.concat(axis=1) instead. To get a de-fragmented frame, use `newframe = frame.copy()`\n",
      "  results_df_1min[result_name] = pd.Series(results['raw_audioset_feats_59520ms'][count])\n"
     ]
    },
    {
     "name": "stdout",
     "output_type": "stream",
     "text": [
      "BoF5.0940D.1677983769.180831.3.34.wav\n",
      "AudiosetAnalysis: Calculating log mel spectrogram for ../../data/HD_audio/BoF5.0940D.1677983769.180831.3.34.wav\n"
     ]
    },
    {
     "name": "stderr",
     "output_type": "stream",
     "text": [
      "/var/folders/yz/_wj_p5r56c7ggl53_9wppwl80000gn/T/ipykernel_55832/1027907342.py:47: PerformanceWarning: DataFrame is highly fragmented.  This is usually the result of calling `frame.insert` many times, which has poor performance.  Consider joining all columns at once using pd.concat(axis=1) instead. To get a de-fragmented frame, use `newframe = frame.copy()`\n",
      "  results_df_1min[result_name] = pd.Series(results['raw_audioset_feats_59520ms'][count])\n",
      "/var/folders/yz/_wj_p5r56c7ggl53_9wppwl80000gn/T/ipykernel_55832/1027907342.py:47: PerformanceWarning: DataFrame is highly fragmented.  This is usually the result of calling `frame.insert` many times, which has poor performance.  Consider joining all columns at once using pd.concat(axis=1) instead. To get a de-fragmented frame, use `newframe = frame.copy()`\n",
      "  results_df_1min[result_name] = pd.Series(results['raw_audioset_feats_59520ms'][count])\n"
     ]
    },
    {
     "name": "stdout",
     "output_type": "stream",
     "text": [
      "BoF1.1328H.1678278701.180827.3.24.wav\n",
      "AudiosetAnalysis: Calculating log mel spectrogram for ../../data/HD_audio/BoF1.1328H.1678278701.180827.3.24.wav\n"
     ]
    },
    {
     "name": "stderr",
     "output_type": "stream",
     "text": [
      "/var/folders/yz/_wj_p5r56c7ggl53_9wppwl80000gn/T/ipykernel_55832/1027907342.py:47: PerformanceWarning: DataFrame is highly fragmented.  This is usually the result of calling `frame.insert` many times, which has poor performance.  Consider joining all columns at once using pd.concat(axis=1) instead. To get a de-fragmented frame, use `newframe = frame.copy()`\n",
      "  results_df_1min[result_name] = pd.Series(results['raw_audioset_feats_59520ms'][count])\n",
      "/var/folders/yz/_wj_p5r56c7ggl53_9wppwl80000gn/T/ipykernel_55832/1027907342.py:47: PerformanceWarning: DataFrame is highly fragmented.  This is usually the result of calling `frame.insert` many times, which has poor performance.  Consider joining all columns at once using pd.concat(axis=1) instead. To get a de-fragmented frame, use `newframe = frame.copy()`\n",
      "  results_df_1min[result_name] = pd.Series(results['raw_audioset_feats_59520ms'][count])\n",
      "/var/folders/yz/_wj_p5r56c7ggl53_9wppwl80000gn/T/ipykernel_55832/1027907342.py:47: PerformanceWarning: DataFrame is highly fragmented.  This is usually the result of calling `frame.insert` many times, which has poor performance.  Consider joining all columns at once using pd.concat(axis=1) instead. To get a de-fragmented frame, use `newframe = frame.copy()`\n",
      "  results_df_1min[result_name] = pd.Series(results['raw_audioset_feats_59520ms'][count])\n"
     ]
    },
    {
     "name": "stdout",
     "output_type": "stream",
     "text": [
      "SaF2.1112D.1678278701.180828.4.33.wav\n",
      "AudiosetAnalysis: Calculating log mel spectrogram for ../../data/HD_audio/SaF2.1112D.1678278701.180828.4.33.wav\n"
     ]
    },
    {
     "name": "stderr",
     "output_type": "stream",
     "text": [
      "/var/folders/yz/_wj_p5r56c7ggl53_9wppwl80000gn/T/ipykernel_55832/1027907342.py:47: PerformanceWarning: DataFrame is highly fragmented.  This is usually the result of calling `frame.insert` many times, which has poor performance.  Consider joining all columns at once using pd.concat(axis=1) instead. To get a de-fragmented frame, use `newframe = frame.copy()`\n",
      "  results_df_1min[result_name] = pd.Series(results['raw_audioset_feats_59520ms'][count])\n",
      "/var/folders/yz/_wj_p5r56c7ggl53_9wppwl80000gn/T/ipykernel_55832/1027907342.py:47: PerformanceWarning: DataFrame is highly fragmented.  This is usually the result of calling `frame.insert` many times, which has poor performance.  Consider joining all columns at once using pd.concat(axis=1) instead. To get a de-fragmented frame, use `newframe = frame.copy()`\n",
      "  results_df_1min[result_name] = pd.Series(results['raw_audioset_feats_59520ms'][count])\n"
     ]
    },
    {
     "name": "stdout",
     "output_type": "stream",
     "text": [
      "BaN12.0529H.805322778.180907.4.50.wav\n",
      "AudiosetAnalysis: Calculating log mel spectrogram for ../../data/HD_audio/BaN12.0529H.805322778.180907.4.50.wav\n"
     ]
    },
    {
     "name": "stderr",
     "output_type": "stream",
     "text": [
      "/var/folders/yz/_wj_p5r56c7ggl53_9wppwl80000gn/T/ipykernel_55832/1027907342.py:47: PerformanceWarning: DataFrame is highly fragmented.  This is usually the result of calling `frame.insert` many times, which has poor performance.  Consider joining all columns at once using pd.concat(axis=1) instead. To get a de-fragmented frame, use `newframe = frame.copy()`\n",
      "  results_df_1min[result_name] = pd.Series(results['raw_audioset_feats_59520ms'][count])\n",
      "/var/folders/yz/_wj_p5r56c7ggl53_9wppwl80000gn/T/ipykernel_55832/1027907342.py:47: PerformanceWarning: DataFrame is highly fragmented.  This is usually the result of calling `frame.insert` many times, which has poor performance.  Consider joining all columns at once using pd.concat(axis=1) instead. To get a de-fragmented frame, use `newframe = frame.copy()`\n",
      "  results_df_1min[result_name] = pd.Series(results['raw_audioset_feats_59520ms'][count])\n",
      "/var/folders/yz/_wj_p5r56c7ggl53_9wppwl80000gn/T/ipykernel_55832/1027907342.py:47: PerformanceWarning: DataFrame is highly fragmented.  This is usually the result of calling `frame.insert` many times, which has poor performance.  Consider joining all columns at once using pd.concat(axis=1) instead. To get a de-fragmented frame, use `newframe = frame.copy()`\n",
      "  results_df_1min[result_name] = pd.Series(results['raw_audioset_feats_59520ms'][count])\n"
     ]
    },
    {
     "name": "stdout",
     "output_type": "stream",
     "text": [
      "BoF1.1315D.1677983769.180827.4.46.wav\n",
      "AudiosetAnalysis: Calculating log mel spectrogram for ../../data/HD_audio/BoF1.1315D.1677983769.180827.4.46.wav\n"
     ]
    },
    {
     "name": "stderr",
     "output_type": "stream",
     "text": [
      "/var/folders/yz/_wj_p5r56c7ggl53_9wppwl80000gn/T/ipykernel_55832/1027907342.py:47: PerformanceWarning: DataFrame is highly fragmented.  This is usually the result of calling `frame.insert` many times, which has poor performance.  Consider joining all columns at once using pd.concat(axis=1) instead. To get a de-fragmented frame, use `newframe = frame.copy()`\n",
      "  results_df_1min[result_name] = pd.Series(results['raw_audioset_feats_59520ms'][count])\n",
      "/var/folders/yz/_wj_p5r56c7ggl53_9wppwl80000gn/T/ipykernel_55832/1027907342.py:47: PerformanceWarning: DataFrame is highly fragmented.  This is usually the result of calling `frame.insert` many times, which has poor performance.  Consider joining all columns at once using pd.concat(axis=1) instead. To get a de-fragmented frame, use `newframe = frame.copy()`\n",
      "  results_df_1min[result_name] = pd.Series(results['raw_audioset_feats_59520ms'][count])\n",
      "/var/folders/yz/_wj_p5r56c7ggl53_9wppwl80000gn/T/ipykernel_55832/1027907342.py:47: PerformanceWarning: DataFrame is highly fragmented.  This is usually the result of calling `frame.insert` many times, which has poor performance.  Consider joining all columns at once using pd.concat(axis=1) instead. To get a de-fragmented frame, use `newframe = frame.copy()`\n",
      "  results_df_1min[result_name] = pd.Series(results['raw_audioset_feats_59520ms'][count])\n"
     ]
    },
    {
     "name": "stdout",
     "output_type": "stream",
     "text": [
      "BaN11.1315H.805322778.180906.3.35.wav\n",
      "AudiosetAnalysis: Calculating log mel spectrogram for ../../data/HD_audio/BaN11.1315H.805322778.180906.3.35.wav\n"
     ]
    },
    {
     "name": "stderr",
     "output_type": "stream",
     "text": [
      "/var/folders/yz/_wj_p5r56c7ggl53_9wppwl80000gn/T/ipykernel_55832/1027907342.py:47: PerformanceWarning: DataFrame is highly fragmented.  This is usually the result of calling `frame.insert` many times, which has poor performance.  Consider joining all columns at once using pd.concat(axis=1) instead. To get a de-fragmented frame, use `newframe = frame.copy()`\n",
      "  results_df_1min[result_name] = pd.Series(results['raw_audioset_feats_59520ms'][count])\n",
      "/var/folders/yz/_wj_p5r56c7ggl53_9wppwl80000gn/T/ipykernel_55832/1027907342.py:47: PerformanceWarning: DataFrame is highly fragmented.  This is usually the result of calling `frame.insert` many times, which has poor performance.  Consider joining all columns at once using pd.concat(axis=1) instead. To get a de-fragmented frame, use `newframe = frame.copy()`\n",
      "  results_df_1min[result_name] = pd.Series(results['raw_audioset_feats_59520ms'][count])\n",
      "/var/folders/yz/_wj_p5r56c7ggl53_9wppwl80000gn/T/ipykernel_55832/1027907342.py:47: PerformanceWarning: DataFrame is highly fragmented.  This is usually the result of calling `frame.insert` many times, which has poor performance.  Consider joining all columns at once using pd.concat(axis=1) instead. To get a de-fragmented frame, use `newframe = frame.copy()`\n",
      "  results_df_1min[result_name] = pd.Series(results['raw_audioset_feats_59520ms'][count])\n"
     ]
    },
    {
     "name": "stdout",
     "output_type": "stream",
     "text": [
      "BaF1.1055H.1678278701.180827.5.45.wav\n",
      "AudiosetAnalysis: Calculating log mel spectrogram for ../../data/HD_audio/BaF1.1055H.1678278701.180827.5.45.wav\n"
     ]
    },
    {
     "name": "stderr",
     "output_type": "stream",
     "text": [
      "/var/folders/yz/_wj_p5r56c7ggl53_9wppwl80000gn/T/ipykernel_55832/1027907342.py:47: PerformanceWarning: DataFrame is highly fragmented.  This is usually the result of calling `frame.insert` many times, which has poor performance.  Consider joining all columns at once using pd.concat(axis=1) instead. To get a de-fragmented frame, use `newframe = frame.copy()`\n",
      "  results_df_1min[result_name] = pd.Series(results['raw_audioset_feats_59520ms'][count])\n",
      "/var/folders/yz/_wj_p5r56c7ggl53_9wppwl80000gn/T/ipykernel_55832/1027907342.py:47: PerformanceWarning: DataFrame is highly fragmented.  This is usually the result of calling `frame.insert` many times, which has poor performance.  Consider joining all columns at once using pd.concat(axis=1) instead. To get a de-fragmented frame, use `newframe = frame.copy()`\n",
      "  results_df_1min[result_name] = pd.Series(results['raw_audioset_feats_59520ms'][count])\n"
     ]
    },
    {
     "name": "stdout",
     "output_type": "stream",
     "text": [
      "BaN11.2330H.805322778.180906.4.46.wav\n",
      "AudiosetAnalysis: Calculating log mel spectrogram for ../../data/HD_audio/BaN11.2330H.805322778.180906.4.46.wav\n"
     ]
    },
    {
     "name": "stderr",
     "output_type": "stream",
     "text": [
      "/var/folders/yz/_wj_p5r56c7ggl53_9wppwl80000gn/T/ipykernel_55832/1027907342.py:47: PerformanceWarning: DataFrame is highly fragmented.  This is usually the result of calling `frame.insert` many times, which has poor performance.  Consider joining all columns at once using pd.concat(axis=1) instead. To get a de-fragmented frame, use `newframe = frame.copy()`\n",
      "  results_df_1min[result_name] = pd.Series(results['raw_audioset_feats_59520ms'][count])\n",
      "/var/folders/yz/_wj_p5r56c7ggl53_9wppwl80000gn/T/ipykernel_55832/1027907342.py:47: PerformanceWarning: DataFrame is highly fragmented.  This is usually the result of calling `frame.insert` many times, which has poor performance.  Consider joining all columns at once using pd.concat(axis=1) instead. To get a de-fragmented frame, use `newframe = frame.copy()`\n",
      "  results_df_1min[result_name] = pd.Series(results['raw_audioset_feats_59520ms'][count])\n"
     ]
    },
    {
     "name": "stdout",
     "output_type": "stream",
     "text": [
      "BoN10.2359H.1678278701.180905.4.54.wav\n",
      "AudiosetAnalysis: Calculating log mel spectrogram for ../../data/HD_audio/BoN10.2359H.1678278701.180905.4.54.wav\n"
     ]
    },
    {
     "name": "stderr",
     "output_type": "stream",
     "text": [
      "/var/folders/yz/_wj_p5r56c7ggl53_9wppwl80000gn/T/ipykernel_55832/1027907342.py:47: PerformanceWarning: DataFrame is highly fragmented.  This is usually the result of calling `frame.insert` many times, which has poor performance.  Consider joining all columns at once using pd.concat(axis=1) instead. To get a de-fragmented frame, use `newframe = frame.copy()`\n",
      "  results_df_1min[result_name] = pd.Series(results['raw_audioset_feats_59520ms'][count])\n",
      "/var/folders/yz/_wj_p5r56c7ggl53_9wppwl80000gn/T/ipykernel_55832/1027907342.py:47: PerformanceWarning: DataFrame is highly fragmented.  This is usually the result of calling `frame.insert` many times, which has poor performance.  Consider joining all columns at once using pd.concat(axis=1) instead. To get a de-fragmented frame, use `newframe = frame.copy()`\n",
      "  results_df_1min[result_name] = pd.Series(results['raw_audioset_feats_59520ms'][count])\n",
      "/var/folders/yz/_wj_p5r56c7ggl53_9wppwl80000gn/T/ipykernel_55832/1027907342.py:47: PerformanceWarning: DataFrame is highly fragmented.  This is usually the result of calling `frame.insert` many times, which has poor performance.  Consider joining all columns at once using pd.concat(axis=1) instead. To get a de-fragmented frame, use `newframe = frame.copy()`\n",
      "  results_df_1min[result_name] = pd.Series(results['raw_audioset_feats_59520ms'][count])\n"
     ]
    },
    {
     "name": "stdout",
     "output_type": "stream",
     "text": [
      "BaN11.1315H.805322778.180906.5.55.wav\n",
      "AudiosetAnalysis: Calculating log mel spectrogram for ../../data/HD_audio/BaN11.1315H.805322778.180906.5.55.wav\n"
     ]
    },
    {
     "name": "stderr",
     "output_type": "stream",
     "text": [
      "/var/folders/yz/_wj_p5r56c7ggl53_9wppwl80000gn/T/ipykernel_55832/1027907342.py:47: PerformanceWarning: DataFrame is highly fragmented.  This is usually the result of calling `frame.insert` many times, which has poor performance.  Consider joining all columns at once using pd.concat(axis=1) instead. To get a de-fragmented frame, use `newframe = frame.copy()`\n",
      "  results_df_1min[result_name] = pd.Series(results['raw_audioset_feats_59520ms'][count])\n",
      "/var/folders/yz/_wj_p5r56c7ggl53_9wppwl80000gn/T/ipykernel_55832/1027907342.py:47: PerformanceWarning: DataFrame is highly fragmented.  This is usually the result of calling `frame.insert` many times, which has poor performance.  Consider joining all columns at once using pd.concat(axis=1) instead. To get a de-fragmented frame, use `newframe = frame.copy()`\n",
      "  results_df_1min[result_name] = pd.Series(results['raw_audioset_feats_59520ms'][count])\n",
      "/var/folders/yz/_wj_p5r56c7ggl53_9wppwl80000gn/T/ipykernel_55832/1027907342.py:47: PerformanceWarning: DataFrame is highly fragmented.  This is usually the result of calling `frame.insert` many times, which has poor performance.  Consider joining all columns at once using pd.concat(axis=1) instead. To get a de-fragmented frame, use `newframe = frame.copy()`\n",
      "  results_df_1min[result_name] = pd.Series(results['raw_audioset_feats_59520ms'][count])\n"
     ]
    },
    {
     "name": "stdout",
     "output_type": "stream",
     "text": [
      "BoF3.1205H.1678278701.180829.3.30.wav\n",
      "AudiosetAnalysis: Calculating log mel spectrogram for ../../data/HD_audio/BoF3.1205H.1678278701.180829.3.30.wav\n"
     ]
    },
    {
     "name": "stderr",
     "output_type": "stream",
     "text": [
      "/var/folders/yz/_wj_p5r56c7ggl53_9wppwl80000gn/T/ipykernel_55832/1027907342.py:47: PerformanceWarning: DataFrame is highly fragmented.  This is usually the result of calling `frame.insert` many times, which has poor performance.  Consider joining all columns at once using pd.concat(axis=1) instead. To get a de-fragmented frame, use `newframe = frame.copy()`\n",
      "  results_df_1min[result_name] = pd.Series(results['raw_audioset_feats_59520ms'][count])\n",
      "/var/folders/yz/_wj_p5r56c7ggl53_9wppwl80000gn/T/ipykernel_55832/1027907342.py:47: PerformanceWarning: DataFrame is highly fragmented.  This is usually the result of calling `frame.insert` many times, which has poor performance.  Consider joining all columns at once using pd.concat(axis=1) instead. To get a de-fragmented frame, use `newframe = frame.copy()`\n",
      "  results_df_1min[result_name] = pd.Series(results['raw_audioset_feats_59520ms'][count])\n",
      "/var/folders/yz/_wj_p5r56c7ggl53_9wppwl80000gn/T/ipykernel_55832/1027907342.py:47: PerformanceWarning: DataFrame is highly fragmented.  This is usually the result of calling `frame.insert` many times, which has poor performance.  Consider joining all columns at once using pd.concat(axis=1) instead. To get a de-fragmented frame, use `newframe = frame.copy()`\n",
      "  results_df_1min[result_name] = pd.Series(results['raw_audioset_feats_59520ms'][count])\n"
     ]
    },
    {
     "name": "stdout",
     "output_type": "stream",
     "text": [
      "BaF3.0915H.1678278701.180829.4.52.wav\n",
      "AudiosetAnalysis: Calculating log mel spectrogram for ../../data/HD_audio/BaF3.0915H.1678278701.180829.4.52.wav\n"
     ]
    },
    {
     "name": "stderr",
     "output_type": "stream",
     "text": [
      "/var/folders/yz/_wj_p5r56c7ggl53_9wppwl80000gn/T/ipykernel_55832/1027907342.py:47: PerformanceWarning: DataFrame is highly fragmented.  This is usually the result of calling `frame.insert` many times, which has poor performance.  Consider joining all columns at once using pd.concat(axis=1) instead. To get a de-fragmented frame, use `newframe = frame.copy()`\n",
      "  results_df_1min[result_name] = pd.Series(results['raw_audioset_feats_59520ms'][count])\n",
      "/var/folders/yz/_wj_p5r56c7ggl53_9wppwl80000gn/T/ipykernel_55832/1027907342.py:47: PerformanceWarning: DataFrame is highly fragmented.  This is usually the result of calling `frame.insert` many times, which has poor performance.  Consider joining all columns at once using pd.concat(axis=1) instead. To get a de-fragmented frame, use `newframe = frame.copy()`\n",
      "  results_df_1min[result_name] = pd.Series(results['raw_audioset_feats_59520ms'][count])\n",
      "/var/folders/yz/_wj_p5r56c7ggl53_9wppwl80000gn/T/ipykernel_55832/1027907342.py:47: PerformanceWarning: DataFrame is highly fragmented.  This is usually the result of calling `frame.insert` many times, which has poor performance.  Consider joining all columns at once using pd.concat(axis=1) instead. To get a de-fragmented frame, use `newframe = frame.copy()`\n",
      "  results_df_1min[result_name] = pd.Series(results['raw_audioset_feats_59520ms'][count])\n"
     ]
    },
    {
     "name": "stdout",
     "output_type": "stream",
     "text": [
      "BoF1.1328H.1678278701.180827.4.28.wav\n",
      "AudiosetAnalysis: Calculating log mel spectrogram for ../../data/HD_audio/BoF1.1328H.1678278701.180827.4.28.wav\n"
     ]
    },
    {
     "name": "stderr",
     "output_type": "stream",
     "text": [
      "/var/folders/yz/_wj_p5r56c7ggl53_9wppwl80000gn/T/ipykernel_55832/1027907342.py:47: PerformanceWarning: DataFrame is highly fragmented.  This is usually the result of calling `frame.insert` many times, which has poor performance.  Consider joining all columns at once using pd.concat(axis=1) instead. To get a de-fragmented frame, use `newframe = frame.copy()`\n",
      "  results_df_1min[result_name] = pd.Series(results['raw_audioset_feats_59520ms'][count])\n",
      "/var/folders/yz/_wj_p5r56c7ggl53_9wppwl80000gn/T/ipykernel_55832/1027907342.py:47: PerformanceWarning: DataFrame is highly fragmented.  This is usually the result of calling `frame.insert` many times, which has poor performance.  Consider joining all columns at once using pd.concat(axis=1) instead. To get a de-fragmented frame, use `newframe = frame.copy()`\n",
      "  results_df_1min[result_name] = pd.Series(results['raw_audioset_feats_59520ms'][count])\n"
     ]
    },
    {
     "name": "stdout",
     "output_type": "stream",
     "text": [
      "BoF4.1300H.1677983769.180830.5.59.wav\n",
      "AudiosetAnalysis: Calculating log mel spectrogram for ../../data/HD_audio/BoF4.1300H.1677983769.180830.5.59.wav\n"
     ]
    },
    {
     "name": "stderr",
     "output_type": "stream",
     "text": [
      "/var/folders/yz/_wj_p5r56c7ggl53_9wppwl80000gn/T/ipykernel_55832/1027907342.py:47: PerformanceWarning: DataFrame is highly fragmented.  This is usually the result of calling `frame.insert` many times, which has poor performance.  Consider joining all columns at once using pd.concat(axis=1) instead. To get a de-fragmented frame, use `newframe = frame.copy()`\n",
      "  results_df_1min[result_name] = pd.Series(results['raw_audioset_feats_59520ms'][count])\n",
      "/var/folders/yz/_wj_p5r56c7ggl53_9wppwl80000gn/T/ipykernel_55832/1027907342.py:47: PerformanceWarning: DataFrame is highly fragmented.  This is usually the result of calling `frame.insert` many times, which has poor performance.  Consider joining all columns at once using pd.concat(axis=1) instead. To get a de-fragmented frame, use `newframe = frame.copy()`\n",
      "  results_df_1min[result_name] = pd.Series(results['raw_audioset_feats_59520ms'][count])\n",
      "/var/folders/yz/_wj_p5r56c7ggl53_9wppwl80000gn/T/ipykernel_55832/1027907342.py:47: PerformanceWarning: DataFrame is highly fragmented.  This is usually the result of calling `frame.insert` many times, which has poor performance.  Consider joining all columns at once using pd.concat(axis=1) instead. To get a de-fragmented frame, use `newframe = frame.copy()`\n",
      "  results_df_1min[result_name] = pd.Series(results['raw_audioset_feats_59520ms'][count])\n"
     ]
    },
    {
     "name": "stdout",
     "output_type": "stream",
     "text": [
      "BaF2.2333H.1677983769.180828.5.51.wav\n",
      "AudiosetAnalysis: Calculating log mel spectrogram for ../../data/HD_audio/BaF2.2333H.1677983769.180828.5.51.wav\n"
     ]
    },
    {
     "name": "stderr",
     "output_type": "stream",
     "text": [
      "/var/folders/yz/_wj_p5r56c7ggl53_9wppwl80000gn/T/ipykernel_55832/1027907342.py:47: PerformanceWarning: DataFrame is highly fragmented.  This is usually the result of calling `frame.insert` many times, which has poor performance.  Consider joining all columns at once using pd.concat(axis=1) instead. To get a de-fragmented frame, use `newframe = frame.copy()`\n",
      "  results_df_1min[result_name] = pd.Series(results['raw_audioset_feats_59520ms'][count])\n",
      "/var/folders/yz/_wj_p5r56c7ggl53_9wppwl80000gn/T/ipykernel_55832/1027907342.py:47: PerformanceWarning: DataFrame is highly fragmented.  This is usually the result of calling `frame.insert` many times, which has poor performance.  Consider joining all columns at once using pd.concat(axis=1) instead. To get a de-fragmented frame, use `newframe = frame.copy()`\n",
      "  results_df_1min[result_name] = pd.Series(results['raw_audioset_feats_59520ms'][count])\n"
     ]
    },
    {
     "name": "stdout",
     "output_type": "stream",
     "text": [
      "BaF1.1055H.1678278701.180827.3.35.wav\n",
      "AudiosetAnalysis: Calculating log mel spectrogram for ../../data/HD_audio/BaF1.1055H.1678278701.180827.3.35.wav\n"
     ]
    },
    {
     "name": "stderr",
     "output_type": "stream",
     "text": [
      "/var/folders/yz/_wj_p5r56c7ggl53_9wppwl80000gn/T/ipykernel_55832/1027907342.py:47: PerformanceWarning: DataFrame is highly fragmented.  This is usually the result of calling `frame.insert` many times, which has poor performance.  Consider joining all columns at once using pd.concat(axis=1) instead. To get a de-fragmented frame, use `newframe = frame.copy()`\n",
      "  results_df_1min[result_name] = pd.Series(results['raw_audioset_feats_59520ms'][count])\n",
      "/var/folders/yz/_wj_p5r56c7ggl53_9wppwl80000gn/T/ipykernel_55832/1027907342.py:47: PerformanceWarning: DataFrame is highly fragmented.  This is usually the result of calling `frame.insert` many times, which has poor performance.  Consider joining all columns at once using pd.concat(axis=1) instead. To get a de-fragmented frame, use `newframe = frame.copy()`\n",
      "  results_df_1min[result_name] = pd.Series(results['raw_audioset_feats_59520ms'][count])\n"
     ]
    },
    {
     "name": "stdout",
     "output_type": "stream",
     "text": [
      "BaN12.0529H.805322778.180907.3.48.wav\n",
      "AudiosetAnalysis: Calculating log mel spectrogram for ../../data/HD_audio/BaN12.0529H.805322778.180907.3.48.wav\n"
     ]
    },
    {
     "name": "stderr",
     "output_type": "stream",
     "text": [
      "/var/folders/yz/_wj_p5r56c7ggl53_9wppwl80000gn/T/ipykernel_55832/1027907342.py:47: PerformanceWarning: DataFrame is highly fragmented.  This is usually the result of calling `frame.insert` many times, which has poor performance.  Consider joining all columns at once using pd.concat(axis=1) instead. To get a de-fragmented frame, use `newframe = frame.copy()`\n",
      "  results_df_1min[result_name] = pd.Series(results['raw_audioset_feats_59520ms'][count])\n",
      "/var/folders/yz/_wj_p5r56c7ggl53_9wppwl80000gn/T/ipykernel_55832/1027907342.py:47: PerformanceWarning: DataFrame is highly fragmented.  This is usually the result of calling `frame.insert` many times, which has poor performance.  Consider joining all columns at once using pd.concat(axis=1) instead. To get a de-fragmented frame, use `newframe = frame.copy()`\n",
      "  results_df_1min[result_name] = pd.Series(results['raw_audioset_feats_59520ms'][count])\n",
      "/var/folders/yz/_wj_p5r56c7ggl53_9wppwl80000gn/T/ipykernel_55832/1027907342.py:47: PerformanceWarning: DataFrame is highly fragmented.  This is usually the result of calling `frame.insert` many times, which has poor performance.  Consider joining all columns at once using pd.concat(axis=1) instead. To get a de-fragmented frame, use `newframe = frame.copy()`\n",
      "  results_df_1min[result_name] = pd.Series(results['raw_audioset_feats_59520ms'][count])\n"
     ]
    },
    {
     "name": "stdout",
     "output_type": "stream",
     "text": [
      "BaF2.1733H.1677983769.180828.3.26.wav\n",
      "AudiosetAnalysis: Calculating log mel spectrogram for ../../data/HD_audio/BaF2.1733H.1677983769.180828.3.26.wav\n"
     ]
    },
    {
     "name": "stderr",
     "output_type": "stream",
     "text": [
      "/var/folders/yz/_wj_p5r56c7ggl53_9wppwl80000gn/T/ipykernel_55832/1027907342.py:47: PerformanceWarning: DataFrame is highly fragmented.  This is usually the result of calling `frame.insert` many times, which has poor performance.  Consider joining all columns at once using pd.concat(axis=1) instead. To get a de-fragmented frame, use `newframe = frame.copy()`\n",
      "  results_df_1min[result_name] = pd.Series(results['raw_audioset_feats_59520ms'][count])\n",
      "/var/folders/yz/_wj_p5r56c7ggl53_9wppwl80000gn/T/ipykernel_55832/1027907342.py:47: PerformanceWarning: DataFrame is highly fragmented.  This is usually the result of calling `frame.insert` many times, which has poor performance.  Consider joining all columns at once using pd.concat(axis=1) instead. To get a de-fragmented frame, use `newframe = frame.copy()`\n",
      "  results_df_1min[result_name] = pd.Series(results['raw_audioset_feats_59520ms'][count])\n"
     ]
    },
    {
     "name": "stdout",
     "output_type": "stream",
     "text": [
      "SaF3.1355D.805322778.180829.3.25.wav\n",
      "AudiosetAnalysis: Calculating log mel spectrogram for ../../data/HD_audio/SaF3.1355D.805322778.180829.3.25.wav\n"
     ]
    },
    {
     "name": "stderr",
     "output_type": "stream",
     "text": [
      "/var/folders/yz/_wj_p5r56c7ggl53_9wppwl80000gn/T/ipykernel_55832/1027907342.py:47: PerformanceWarning: DataFrame is highly fragmented.  This is usually the result of calling `frame.insert` many times, which has poor performance.  Consider joining all columns at once using pd.concat(axis=1) instead. To get a de-fragmented frame, use `newframe = frame.copy()`\n",
      "  results_df_1min[result_name] = pd.Series(results['raw_audioset_feats_59520ms'][count])\n",
      "/var/folders/yz/_wj_p5r56c7ggl53_9wppwl80000gn/T/ipykernel_55832/1027907342.py:47: PerformanceWarning: DataFrame is highly fragmented.  This is usually the result of calling `frame.insert` many times, which has poor performance.  Consider joining all columns at once using pd.concat(axis=1) instead. To get a de-fragmented frame, use `newframe = frame.copy()`\n",
      "  results_df_1min[result_name] = pd.Series(results['raw_audioset_feats_59520ms'][count])\n",
      "/var/folders/yz/_wj_p5r56c7ggl53_9wppwl80000gn/T/ipykernel_55832/1027907342.py:47: PerformanceWarning: DataFrame is highly fragmented.  This is usually the result of calling `frame.insert` many times, which has poor performance.  Consider joining all columns at once using pd.concat(axis=1) instead. To get a de-fragmented frame, use `newframe = frame.copy()`\n",
      "  results_df_1min[result_name] = pd.Series(results['raw_audioset_feats_59520ms'][count])\n"
     ]
    },
    {
     "name": "stdout",
     "output_type": "stream",
     "text": [
      "BaN11.1315H.805322778.180906.4.38.wav\n",
      "AudiosetAnalysis: Calculating log mel spectrogram for ../../data/HD_audio/BaN11.1315H.805322778.180906.4.38.wav\n"
     ]
    },
    {
     "name": "stderr",
     "output_type": "stream",
     "text": [
      "/var/folders/yz/_wj_p5r56c7ggl53_9wppwl80000gn/T/ipykernel_55832/1027907342.py:47: PerformanceWarning: DataFrame is highly fragmented.  This is usually the result of calling `frame.insert` many times, which has poor performance.  Consider joining all columns at once using pd.concat(axis=1) instead. To get a de-fragmented frame, use `newframe = frame.copy()`\n",
      "  results_df_1min[result_name] = pd.Series(results['raw_audioset_feats_59520ms'][count])\n",
      "/var/folders/yz/_wj_p5r56c7ggl53_9wppwl80000gn/T/ipykernel_55832/1027907342.py:47: PerformanceWarning: DataFrame is highly fragmented.  This is usually the result of calling `frame.insert` many times, which has poor performance.  Consider joining all columns at once using pd.concat(axis=1) instead. To get a de-fragmented frame, use `newframe = frame.copy()`\n",
      "  results_df_1min[result_name] = pd.Series(results['raw_audioset_feats_59520ms'][count])\n"
     ]
    },
    {
     "name": "stdout",
     "output_type": "stream",
     "text": [
      "BoF5.0940H.671907872.180831.2.30.wav\n",
      "AudiosetAnalysis: Calculating log mel spectrogram for ../../data/HD_audio/BoF5.0940H.671907872.180831.2.30.wav\n"
     ]
    },
    {
     "name": "stderr",
     "output_type": "stream",
     "text": [
      "/var/folders/yz/_wj_p5r56c7ggl53_9wppwl80000gn/T/ipykernel_55832/1027907342.py:47: PerformanceWarning: DataFrame is highly fragmented.  This is usually the result of calling `frame.insert` many times, which has poor performance.  Consider joining all columns at once using pd.concat(axis=1) instead. To get a de-fragmented frame, use `newframe = frame.copy()`\n",
      "  results_df_1min[result_name] = pd.Series(results['raw_audioset_feats_59520ms'][count])\n",
      "/var/folders/yz/_wj_p5r56c7ggl53_9wppwl80000gn/T/ipykernel_55832/1027907342.py:47: PerformanceWarning: DataFrame is highly fragmented.  This is usually the result of calling `frame.insert` many times, which has poor performance.  Consider joining all columns at once using pd.concat(axis=1) instead. To get a de-fragmented frame, use `newframe = frame.copy()`\n",
      "  results_df_1min[result_name] = pd.Series(results['raw_audioset_feats_59520ms'][count])\n",
      "/var/folders/yz/_wj_p5r56c7ggl53_9wppwl80000gn/T/ipykernel_55832/1027907342.py:47: PerformanceWarning: DataFrame is highly fragmented.  This is usually the result of calling `frame.insert` many times, which has poor performance.  Consider joining all columns at once using pd.concat(axis=1) instead. To get a de-fragmented frame, use `newframe = frame.copy()`\n",
      "  results_df_1min[result_name] = pd.Series(results['raw_audioset_feats_59520ms'][count])\n"
     ]
    },
    {
     "name": "stdout",
     "output_type": "stream",
     "text": [
      "BoF4.1300D.671907872.180830.2.29.wav\n",
      "AudiosetAnalysis: Calculating log mel spectrogram for ../../data/HD_audio/BoF4.1300D.671907872.180830.2.29.wav\n"
     ]
    },
    {
     "name": "stderr",
     "output_type": "stream",
     "text": [
      "/var/folders/yz/_wj_p5r56c7ggl53_9wppwl80000gn/T/ipykernel_55832/1027907342.py:47: PerformanceWarning: DataFrame is highly fragmented.  This is usually the result of calling `frame.insert` many times, which has poor performance.  Consider joining all columns at once using pd.concat(axis=1) instead. To get a de-fragmented frame, use `newframe = frame.copy()`\n",
      "  results_df_1min[result_name] = pd.Series(results['raw_audioset_feats_59520ms'][count])\n",
      "/var/folders/yz/_wj_p5r56c7ggl53_9wppwl80000gn/T/ipykernel_55832/1027907342.py:47: PerformanceWarning: DataFrame is highly fragmented.  This is usually the result of calling `frame.insert` many times, which has poor performance.  Consider joining all columns at once using pd.concat(axis=1) instead. To get a de-fragmented frame, use `newframe = frame.copy()`\n",
      "  results_df_1min[result_name] = pd.Series(results['raw_audioset_feats_59520ms'][count])\n",
      "/var/folders/yz/_wj_p5r56c7ggl53_9wppwl80000gn/T/ipykernel_55832/1027907342.py:47: PerformanceWarning: DataFrame is highly fragmented.  This is usually the result of calling `frame.insert` many times, which has poor performance.  Consider joining all columns at once using pd.concat(axis=1) instead. To get a de-fragmented frame, use `newframe = frame.copy()`\n",
      "  results_df_1min[result_name] = pd.Series(results['raw_audioset_feats_59520ms'][count])\n"
     ]
    },
    {
     "name": "stdout",
     "output_type": "stream",
     "text": [
      "SaF2.1112D.1678278701.180828.3.16.wav\n",
      "AudiosetAnalysis: Calculating log mel spectrogram for ../../data/HD_audio/SaF2.1112D.1678278701.180828.3.16.wav\n"
     ]
    },
    {
     "name": "stderr",
     "output_type": "stream",
     "text": [
      "/var/folders/yz/_wj_p5r56c7ggl53_9wppwl80000gn/T/ipykernel_55832/1027907342.py:47: PerformanceWarning: DataFrame is highly fragmented.  This is usually the result of calling `frame.insert` many times, which has poor performance.  Consider joining all columns at once using pd.concat(axis=1) instead. To get a de-fragmented frame, use `newframe = frame.copy()`\n",
      "  results_df_1min[result_name] = pd.Series(results['raw_audioset_feats_59520ms'][count])\n",
      "/var/folders/yz/_wj_p5r56c7ggl53_9wppwl80000gn/T/ipykernel_55832/1027907342.py:47: PerformanceWarning: DataFrame is highly fragmented.  This is usually the result of calling `frame.insert` many times, which has poor performance.  Consider joining all columns at once using pd.concat(axis=1) instead. To get a de-fragmented frame, use `newframe = frame.copy()`\n",
      "  results_df_1min[result_name] = pd.Series(results['raw_audioset_feats_59520ms'][count])\n",
      "/var/folders/yz/_wj_p5r56c7ggl53_9wppwl80000gn/T/ipykernel_55832/1027907342.py:47: PerformanceWarning: DataFrame is highly fragmented.  This is usually the result of calling `frame.insert` many times, which has poor performance.  Consider joining all columns at once using pd.concat(axis=1) instead. To get a de-fragmented frame, use `newframe = frame.copy()`\n",
      "  results_df_1min[result_name] = pd.Series(results['raw_audioset_feats_59520ms'][count])\n"
     ]
    },
    {
     "name": "stdout",
     "output_type": "stream",
     "text": [
      "SaF5.1202D.1677983769.180831.5.30.wav\n",
      "AudiosetAnalysis: Calculating log mel spectrogram for ../../data/HD_audio/SaF5.1202D.1677983769.180831.5.30.wav\n"
     ]
    },
    {
     "name": "stderr",
     "output_type": "stream",
     "text": [
      "/var/folders/yz/_wj_p5r56c7ggl53_9wppwl80000gn/T/ipykernel_55832/1027907342.py:47: PerformanceWarning: DataFrame is highly fragmented.  This is usually the result of calling `frame.insert` many times, which has poor performance.  Consider joining all columns at once using pd.concat(axis=1) instead. To get a de-fragmented frame, use `newframe = frame.copy()`\n",
      "  results_df_1min[result_name] = pd.Series(results['raw_audioset_feats_59520ms'][count])\n",
      "/var/folders/yz/_wj_p5r56c7ggl53_9wppwl80000gn/T/ipykernel_55832/1027907342.py:47: PerformanceWarning: DataFrame is highly fragmented.  This is usually the result of calling `frame.insert` many times, which has poor performance.  Consider joining all columns at once using pd.concat(axis=1) instead. To get a de-fragmented frame, use `newframe = frame.copy()`\n",
      "  results_df_1min[result_name] = pd.Series(results['raw_audioset_feats_59520ms'][count])\n",
      "/var/folders/yz/_wj_p5r56c7ggl53_9wppwl80000gn/T/ipykernel_55832/1027907342.py:47: PerformanceWarning: DataFrame is highly fragmented.  This is usually the result of calling `frame.insert` many times, which has poor performance.  Consider joining all columns at once using pd.concat(axis=1) instead. To get a de-fragmented frame, use `newframe = frame.copy()`\n",
      "  results_df_1min[result_name] = pd.Series(results['raw_audioset_feats_59520ms'][count])\n"
     ]
    },
    {
     "name": "stdout",
     "output_type": "stream",
     "text": [
      "BoN12.1220D.1678278701.180907.1.9.wav\n",
      "AudiosetAnalysis: Calculating log mel spectrogram for ../../data/HD_audio/BoN12.1220D.1678278701.180907.1.9.wav\n"
     ]
    },
    {
     "name": "stderr",
     "output_type": "stream",
     "text": [
      "/var/folders/yz/_wj_p5r56c7ggl53_9wppwl80000gn/T/ipykernel_55832/1027907342.py:47: PerformanceWarning: DataFrame is highly fragmented.  This is usually the result of calling `frame.insert` many times, which has poor performance.  Consider joining all columns at once using pd.concat(axis=1) instead. To get a de-fragmented frame, use `newframe = frame.copy()`\n",
      "  results_df_1min[result_name] = pd.Series(results['raw_audioset_feats_59520ms'][count])\n",
      "/var/folders/yz/_wj_p5r56c7ggl53_9wppwl80000gn/T/ipykernel_55832/1027907342.py:47: PerformanceWarning: DataFrame is highly fragmented.  This is usually the result of calling `frame.insert` many times, which has poor performance.  Consider joining all columns at once using pd.concat(axis=1) instead. To get a de-fragmented frame, use `newframe = frame.copy()`\n",
      "  results_df_1min[result_name] = pd.Series(results['raw_audioset_feats_59520ms'][count])\n",
      "/var/folders/yz/_wj_p5r56c7ggl53_9wppwl80000gn/T/ipykernel_55832/1027907342.py:47: PerformanceWarning: DataFrame is highly fragmented.  This is usually the result of calling `frame.insert` many times, which has poor performance.  Consider joining all columns at once using pd.concat(axis=1) instead. To get a de-fragmented frame, use `newframe = frame.copy()`\n",
      "  results_df_1min[result_name] = pd.Series(results['raw_audioset_feats_59520ms'][count])\n"
     ]
    },
    {
     "name": "stdout",
     "output_type": "stream",
     "text": [
      "BaN12.0915H.805322778.180907.4.45.wav\n",
      "AudiosetAnalysis: Calculating log mel spectrogram for ../../data/HD_audio/BaN12.0915H.805322778.180907.4.45.wav\n"
     ]
    },
    {
     "name": "stderr",
     "output_type": "stream",
     "text": [
      "/var/folders/yz/_wj_p5r56c7ggl53_9wppwl80000gn/T/ipykernel_55832/1027907342.py:47: PerformanceWarning: DataFrame is highly fragmented.  This is usually the result of calling `frame.insert` many times, which has poor performance.  Consider joining all columns at once using pd.concat(axis=1) instead. To get a de-fragmented frame, use `newframe = frame.copy()`\n",
      "  results_df_1min[result_name] = pd.Series(results['raw_audioset_feats_59520ms'][count])\n",
      "/var/folders/yz/_wj_p5r56c7ggl53_9wppwl80000gn/T/ipykernel_55832/1027907342.py:47: PerformanceWarning: DataFrame is highly fragmented.  This is usually the result of calling `frame.insert` many times, which has poor performance.  Consider joining all columns at once using pd.concat(axis=1) instead. To get a de-fragmented frame, use `newframe = frame.copy()`\n",
      "  results_df_1min[result_name] = pd.Series(results['raw_audioset_feats_59520ms'][count])\n",
      "/var/folders/yz/_wj_p5r56c7ggl53_9wppwl80000gn/T/ipykernel_55832/1027907342.py:47: PerformanceWarning: DataFrame is highly fragmented.  This is usually the result of calling `frame.insert` many times, which has poor performance.  Consider joining all columns at once using pd.concat(axis=1) instead. To get a de-fragmented frame, use `newframe = frame.copy()`\n",
      "  results_df_1min[result_name] = pd.Series(results['raw_audioset_feats_59520ms'][count])\n"
     ]
    },
    {
     "name": "stdout",
     "output_type": "stream",
     "text": [
      "BoF5.0940H.671907872.180831.4.47.wav\n",
      "AudiosetAnalysis: Calculating log mel spectrogram for ../../data/HD_audio/BoF5.0940H.671907872.180831.4.47.wav\n"
     ]
    },
    {
     "name": "stderr",
     "output_type": "stream",
     "text": [
      "/var/folders/yz/_wj_p5r56c7ggl53_9wppwl80000gn/T/ipykernel_55832/1027907342.py:47: PerformanceWarning: DataFrame is highly fragmented.  This is usually the result of calling `frame.insert` many times, which has poor performance.  Consider joining all columns at once using pd.concat(axis=1) instead. To get a de-fragmented frame, use `newframe = frame.copy()`\n",
      "  results_df_1min[result_name] = pd.Series(results['raw_audioset_feats_59520ms'][count])\n",
      "/var/folders/yz/_wj_p5r56c7ggl53_9wppwl80000gn/T/ipykernel_55832/1027907342.py:47: PerformanceWarning: DataFrame is highly fragmented.  This is usually the result of calling `frame.insert` many times, which has poor performance.  Consider joining all columns at once using pd.concat(axis=1) instead. To get a de-fragmented frame, use `newframe = frame.copy()`\n",
      "  results_df_1min[result_name] = pd.Series(results['raw_audioset_feats_59520ms'][count])\n",
      "/var/folders/yz/_wj_p5r56c7ggl53_9wppwl80000gn/T/ipykernel_55832/1027907342.py:47: PerformanceWarning: DataFrame is highly fragmented.  This is usually the result of calling `frame.insert` many times, which has poor performance.  Consider joining all columns at once using pd.concat(axis=1) instead. To get a de-fragmented frame, use `newframe = frame.copy()`\n",
      "  results_df_1min[result_name] = pd.Series(results['raw_audioset_feats_59520ms'][count])\n"
     ]
    },
    {
     "name": "stdout",
     "output_type": "stream",
     "text": [
      "BoN11.1200H.805322778.180906.1.2.wav\n",
      "AudiosetAnalysis: Calculating log mel spectrogram for ../../data/HD_audio/BoN11.1200H.805322778.180906.1.2.wav\n"
     ]
    },
    {
     "name": "stderr",
     "output_type": "stream",
     "text": [
      "/var/folders/yz/_wj_p5r56c7ggl53_9wppwl80000gn/T/ipykernel_55832/1027907342.py:47: PerformanceWarning: DataFrame is highly fragmented.  This is usually the result of calling `frame.insert` many times, which has poor performance.  Consider joining all columns at once using pd.concat(axis=1) instead. To get a de-fragmented frame, use `newframe = frame.copy()`\n",
      "  results_df_1min[result_name] = pd.Series(results['raw_audioset_feats_59520ms'][count])\n",
      "/var/folders/yz/_wj_p5r56c7ggl53_9wppwl80000gn/T/ipykernel_55832/1027907342.py:47: PerformanceWarning: DataFrame is highly fragmented.  This is usually the result of calling `frame.insert` many times, which has poor performance.  Consider joining all columns at once using pd.concat(axis=1) instead. To get a de-fragmented frame, use `newframe = frame.copy()`\n",
      "  results_df_1min[result_name] = pd.Series(results['raw_audioset_feats_59520ms'][count])\n",
      "/var/folders/yz/_wj_p5r56c7ggl53_9wppwl80000gn/T/ipykernel_55832/1027907342.py:47: PerformanceWarning: DataFrame is highly fragmented.  This is usually the result of calling `frame.insert` many times, which has poor performance.  Consider joining all columns at once using pd.concat(axis=1) instead. To get a de-fragmented frame, use `newframe = frame.copy()`\n",
      "  results_df_1min[result_name] = pd.Series(results['raw_audioset_feats_59520ms'][count])\n"
     ]
    },
    {
     "name": "stdout",
     "output_type": "stream",
     "text": [
      "SaF2.1112D.1678278701.180828.5.49.wav\n",
      "AudiosetAnalysis: Calculating log mel spectrogram for ../../data/HD_audio/SaF2.1112D.1678278701.180828.5.49.wav\n"
     ]
    },
    {
     "name": "stderr",
     "output_type": "stream",
     "text": [
      "/var/folders/yz/_wj_p5r56c7ggl53_9wppwl80000gn/T/ipykernel_55832/1027907342.py:47: PerformanceWarning: DataFrame is highly fragmented.  This is usually the result of calling `frame.insert` many times, which has poor performance.  Consider joining all columns at once using pd.concat(axis=1) instead. To get a de-fragmented frame, use `newframe = frame.copy()`\n",
      "  results_df_1min[result_name] = pd.Series(results['raw_audioset_feats_59520ms'][count])\n",
      "/var/folders/yz/_wj_p5r56c7ggl53_9wppwl80000gn/T/ipykernel_55832/1027907342.py:47: PerformanceWarning: DataFrame is highly fragmented.  This is usually the result of calling `frame.insert` many times, which has poor performance.  Consider joining all columns at once using pd.concat(axis=1) instead. To get a de-fragmented frame, use `newframe = frame.copy()`\n",
      "  results_df_1min[result_name] = pd.Series(results['raw_audioset_feats_59520ms'][count])\n",
      "/var/folders/yz/_wj_p5r56c7ggl53_9wppwl80000gn/T/ipykernel_55832/1027907342.py:47: PerformanceWarning: DataFrame is highly fragmented.  This is usually the result of calling `frame.insert` many times, which has poor performance.  Consider joining all columns at once using pd.concat(axis=1) instead. To get a de-fragmented frame, use `newframe = frame.copy()`\n",
      "  results_df_1min[result_name] = pd.Series(results['raw_audioset_feats_59520ms'][count])\n"
     ]
    },
    {
     "name": "stdout",
     "output_type": "stream",
     "text": [
      "SaN10.1345D.1677983769.180905.5.58.wav\n",
      "AudiosetAnalysis: Calculating log mel spectrogram for ../../data/HD_audio/SaN10.1345D.1677983769.180905.5.58.wav\n"
     ]
    },
    {
     "name": "stderr",
     "output_type": "stream",
     "text": [
      "/var/folders/yz/_wj_p5r56c7ggl53_9wppwl80000gn/T/ipykernel_55832/1027907342.py:47: PerformanceWarning: DataFrame is highly fragmented.  This is usually the result of calling `frame.insert` many times, which has poor performance.  Consider joining all columns at once using pd.concat(axis=1) instead. To get a de-fragmented frame, use `newframe = frame.copy()`\n",
      "  results_df_1min[result_name] = pd.Series(results['raw_audioset_feats_59520ms'][count])\n",
      "/var/folders/yz/_wj_p5r56c7ggl53_9wppwl80000gn/T/ipykernel_55832/1027907342.py:47: PerformanceWarning: DataFrame is highly fragmented.  This is usually the result of calling `frame.insert` many times, which has poor performance.  Consider joining all columns at once using pd.concat(axis=1) instead. To get a de-fragmented frame, use `newframe = frame.copy()`\n",
      "  results_df_1min[result_name] = pd.Series(results['raw_audioset_feats_59520ms'][count])\n"
     ]
    },
    {
     "name": "stdout",
     "output_type": "stream",
     "text": [
      "BoN10.2359D.805322778.180905.4.55.wav\n",
      "AudiosetAnalysis: Calculating log mel spectrogram for ../../data/HD_audio/BoN10.2359D.805322778.180905.4.55.wav\n"
     ]
    },
    {
     "name": "stderr",
     "output_type": "stream",
     "text": [
      "/var/folders/yz/_wj_p5r56c7ggl53_9wppwl80000gn/T/ipykernel_55832/1027907342.py:47: PerformanceWarning: DataFrame is highly fragmented.  This is usually the result of calling `frame.insert` many times, which has poor performance.  Consider joining all columns at once using pd.concat(axis=1) instead. To get a de-fragmented frame, use `newframe = frame.copy()`\n",
      "  results_df_1min[result_name] = pd.Series(results['raw_audioset_feats_59520ms'][count])\n",
      "/var/folders/yz/_wj_p5r56c7ggl53_9wppwl80000gn/T/ipykernel_55832/1027907342.py:47: PerformanceWarning: DataFrame is highly fragmented.  This is usually the result of calling `frame.insert` many times, which has poor performance.  Consider joining all columns at once using pd.concat(axis=1) instead. To get a de-fragmented frame, use `newframe = frame.copy()`\n",
      "  results_df_1min[result_name] = pd.Series(results['raw_audioset_feats_59520ms'][count])\n",
      "/var/folders/yz/_wj_p5r56c7ggl53_9wppwl80000gn/T/ipykernel_55832/1027907342.py:47: PerformanceWarning: DataFrame is highly fragmented.  This is usually the result of calling `frame.insert` many times, which has poor performance.  Consider joining all columns at once using pd.concat(axis=1) instead. To get a de-fragmented frame, use `newframe = frame.copy()`\n",
      "  results_df_1min[result_name] = pd.Series(results['raw_audioset_feats_59520ms'][count])\n"
     ]
    },
    {
     "name": "stdout",
     "output_type": "stream",
     "text": [
      "BoN11.1103H.805322778.180906.3.21.wav\n",
      "AudiosetAnalysis: Calculating log mel spectrogram for ../../data/HD_audio/BoN11.1103H.805322778.180906.3.21.wav\n"
     ]
    },
    {
     "name": "stderr",
     "output_type": "stream",
     "text": [
      "/var/folders/yz/_wj_p5r56c7ggl53_9wppwl80000gn/T/ipykernel_55832/1027907342.py:47: PerformanceWarning: DataFrame is highly fragmented.  This is usually the result of calling `frame.insert` many times, which has poor performance.  Consider joining all columns at once using pd.concat(axis=1) instead. To get a de-fragmented frame, use `newframe = frame.copy()`\n",
      "  results_df_1min[result_name] = pd.Series(results['raw_audioset_feats_59520ms'][count])\n",
      "/var/folders/yz/_wj_p5r56c7ggl53_9wppwl80000gn/T/ipykernel_55832/1027907342.py:47: PerformanceWarning: DataFrame is highly fragmented.  This is usually the result of calling `frame.insert` many times, which has poor performance.  Consider joining all columns at once using pd.concat(axis=1) instead. To get a de-fragmented frame, use `newframe = frame.copy()`\n",
      "  results_df_1min[result_name] = pd.Series(results['raw_audioset_feats_59520ms'][count])\n",
      "/var/folders/yz/_wj_p5r56c7ggl53_9wppwl80000gn/T/ipykernel_55832/1027907342.py:47: PerformanceWarning: DataFrame is highly fragmented.  This is usually the result of calling `frame.insert` many times, which has poor performance.  Consider joining all columns at once using pd.concat(axis=1) instead. To get a de-fragmented frame, use `newframe = frame.copy()`\n",
      "  results_df_1min[result_name] = pd.Series(results['raw_audioset_feats_59520ms'][count])\n"
     ]
    },
    {
     "name": "stdout",
     "output_type": "stream",
     "text": [
      "BoN12.1220H.805322778.180907.1.5.wav\n",
      "AudiosetAnalysis: Calculating log mel spectrogram for ../../data/HD_audio/BoN12.1220H.805322778.180907.1.5.wav\n"
     ]
    },
    {
     "name": "stderr",
     "output_type": "stream",
     "text": [
      "/var/folders/yz/_wj_p5r56c7ggl53_9wppwl80000gn/T/ipykernel_55832/1027907342.py:47: PerformanceWarning: DataFrame is highly fragmented.  This is usually the result of calling `frame.insert` many times, which has poor performance.  Consider joining all columns at once using pd.concat(axis=1) instead. To get a de-fragmented frame, use `newframe = frame.copy()`\n",
      "  results_df_1min[result_name] = pd.Series(results['raw_audioset_feats_59520ms'][count])\n",
      "/var/folders/yz/_wj_p5r56c7ggl53_9wppwl80000gn/T/ipykernel_55832/1027907342.py:47: PerformanceWarning: DataFrame is highly fragmented.  This is usually the result of calling `frame.insert` many times, which has poor performance.  Consider joining all columns at once using pd.concat(axis=1) instead. To get a de-fragmented frame, use `newframe = frame.copy()`\n",
      "  results_df_1min[result_name] = pd.Series(results['raw_audioset_feats_59520ms'][count])\n",
      "/var/folders/yz/_wj_p5r56c7ggl53_9wppwl80000gn/T/ipykernel_55832/1027907342.py:47: PerformanceWarning: DataFrame is highly fragmented.  This is usually the result of calling `frame.insert` many times, which has poor performance.  Consider joining all columns at once using pd.concat(axis=1) instead. To get a de-fragmented frame, use `newframe = frame.copy()`\n",
      "  results_df_1min[result_name] = pd.Series(results['raw_audioset_feats_59520ms'][count])\n"
     ]
    },
    {
     "name": "stdout",
     "output_type": "stream",
     "text": [
      "SaN10.1345D.1677983769.180905.1.14.wav\n",
      "AudiosetAnalysis: Calculating log mel spectrogram for ../../data/HD_audio/SaN10.1345D.1677983769.180905.1.14.wav\n"
     ]
    },
    {
     "name": "stderr",
     "output_type": "stream",
     "text": [
      "/var/folders/yz/_wj_p5r56c7ggl53_9wppwl80000gn/T/ipykernel_55832/1027907342.py:47: PerformanceWarning: DataFrame is highly fragmented.  This is usually the result of calling `frame.insert` many times, which has poor performance.  Consider joining all columns at once using pd.concat(axis=1) instead. To get a de-fragmented frame, use `newframe = frame.copy()`\n",
      "  results_df_1min[result_name] = pd.Series(results['raw_audioset_feats_59520ms'][count])\n",
      "/var/folders/yz/_wj_p5r56c7ggl53_9wppwl80000gn/T/ipykernel_55832/1027907342.py:47: PerformanceWarning: DataFrame is highly fragmented.  This is usually the result of calling `frame.insert` many times, which has poor performance.  Consider joining all columns at once using pd.concat(axis=1) instead. To get a de-fragmented frame, use `newframe = frame.copy()`\n",
      "  results_df_1min[result_name] = pd.Series(results['raw_audioset_feats_59520ms'][count])\n"
     ]
    },
    {
     "name": "stdout",
     "output_type": "stream",
     "text": [
      "BaF5.1732H.671907872.180831.4.31.wav\n",
      "AudiosetAnalysis: Calculating log mel spectrogram for ../../data/HD_audio/BaF5.1732H.671907872.180831.4.31.wav\n"
     ]
    },
    {
     "name": "stderr",
     "output_type": "stream",
     "text": [
      "/var/folders/yz/_wj_p5r56c7ggl53_9wppwl80000gn/T/ipykernel_55832/1027907342.py:47: PerformanceWarning: DataFrame is highly fragmented.  This is usually the result of calling `frame.insert` many times, which has poor performance.  Consider joining all columns at once using pd.concat(axis=1) instead. To get a de-fragmented frame, use `newframe = frame.copy()`\n",
      "  results_df_1min[result_name] = pd.Series(results['raw_audioset_feats_59520ms'][count])\n",
      "/var/folders/yz/_wj_p5r56c7ggl53_9wppwl80000gn/T/ipykernel_55832/1027907342.py:47: PerformanceWarning: DataFrame is highly fragmented.  This is usually the result of calling `frame.insert` many times, which has poor performance.  Consider joining all columns at once using pd.concat(axis=1) instead. To get a de-fragmented frame, use `newframe = frame.copy()`\n",
      "  results_df_1min[result_name] = pd.Series(results['raw_audioset_feats_59520ms'][count])\n"
     ]
    },
    {
     "name": "stdout",
     "output_type": "stream",
     "text": [
      "it's done.results is saved in ../Results/pretrained_CNN_features_10.14.04.csv\n"
     ]
    }
   ],
   "source": [
    "#select files\n",
    "all_fs = os.listdir(audio_dir) #list of all files in directory\n",
    "audio_fs = [f for f in all_fs if '.wav' in f.lower() or '.mp3' in f.lower()] #list of all audio files in dir: .wav or .mps\n",
    "\n",
    "#initiate empty dataframes to save results\n",
    "results_df_1sec = pd.DataFrame()\n",
    "results_df_1min = pd.DataFrame() \n",
    "\n",
    "# Feature extraction loop\n",
    "for f in audio_fs:\n",
    "    \"\"\"This loop takes the current filename, rips the timestamp, appends the corresponding length of time being analysed\n",
    "    additively to a new name, calculates VGGish features from each 0.96s chunk, averages these for each 1min file and saves \n",
    "    the results to a csv in your GDrive\"\"\"\n",
    "    path = os.path.join(audio_dir, f)\n",
    "    print(f) #print file name\n",
    "    \n",
    "    #extract timestamp from filename - adjust this if using your own naming convention\n",
    "    t2 = f.split(\".\")[1][0:4]\n",
    "    t1 = f.split(\".\")[3]\n",
    "    t = t1+t2+'00'\n",
    "    recording_start_time = pd.to_datetime(t, format='%y%m%d%H%M%S') \n",
    "    slice_time = recording_start_time - timedelta(milliseconds=960)\n",
    "    mean_slice_time = recording_start_time - timedelta(minutes=1)\n",
    "    \n",
    "    #calculate feature values\n",
    "    # results = an.analyse_audio(path)\n",
    "    aug_count = 0\n",
    "    for results in an.analyse_audio(path):\n",
    "    \n",
    "        # Uncomment for 0.96s results:\n",
    "        # r1sec = results['raw_audioset_feats_960ms']\n",
    "        # for count, r1sec in enumerate(r1sec):\n",
    "        #     slice_time = slice_time + timedelta(milliseconds=960)\n",
    "        #     string_time = slice_time.strftime('%H.%M.%S.%f')[:-4]\n",
    "        #     result_name = f[:-4] + 'T' + string_time + '.wav'\n",
    "        #     #result_name = f[:-4]+'T'+str(count+1)+'.wav' #use this line if not using ST timestamped files\n",
    "        #     results_df_1sec[result_name] = pd.Series(results['raw_audioset_feats_960ms'][count])\n",
    "\n",
    "        #Save 1min results:\n",
    "        r1min = results['raw_audioset_feats_59520ms']\n",
    "        for count, r1min in enumerate(r1min):\n",
    "            #store the timestamp\n",
    "            mean_slice_time = mean_slice_time + timedelta(minutes=1)\n",
    "            string_time = mean_slice_time.strftime('%H.%M.%S.%f')[:-4]\n",
    "            result_name = f[:-4] + 'T' + string_time + \"A\" + str(aug_count) + '.wav'\n",
    "            #result_name = f[:-4]+'T'+str(count+1)+'.wav' #use this line if not using ST timestamped files\n",
    "            results_df_1min[result_name] = pd.Series(results['raw_audioset_feats_59520ms'][count])\n",
    "        aug_count += 1\n",
    "\n",
    "\n",
    "#save a timestamped csv with 1min results\n",
    "now = datetime.now()\n",
    "time_now = now.strftime(\"%H.%M.%S\")\n",
    "results_df_1min.to_csv(output_folder_1min + '/pretrained_CNN_features_' + time_now + '.csv')\n",
    "print(\"it's done.results is saved in {}\".format(output_folder_1min + '/pretrained_CNN_features_' + time_now + '.csv'))\n",
    "# print(\"it's done\")"
   ]
  }
 ],
 "metadata": {
  "colab": {
   "authorship_tag": "ABX9TyPh+62V/GXYdKlCOsd3UkO9",
   "collapsed_sections": [],
   "include_colab_link": true,
   "provenance": []
  },
  "gpuClass": "standard",
  "kernelspec": {
   "display_name": "pytorch",
   "language": "python",
   "name": "python3"
  },
  "language_info": {
   "codemirror_mode": {
    "name": "ipython",
    "version": 3
   },
   "file_extension": ".py",
   "mimetype": "text/x-python",
   "name": "python",
   "nbconvert_exporter": "python",
   "pygments_lexer": "ipython3",
   "version": "3.8.18"
  }
 },
 "nbformat": 4,
 "nbformat_minor": 4
}
